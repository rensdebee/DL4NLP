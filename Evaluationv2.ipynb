{
 "cells": [
  {
   "cell_type": "code",
   "execution_count": 1,
   "metadata": {},
   "outputs": [],
   "source": [
    "%load_ext autoreload\n",
    "%autoreload 2"
   ]
  },
  {
   "cell_type": "code",
   "execution_count": 7,
   "metadata": {},
   "outputs": [],
   "source": [
    "import json\n",
    "from custom_test import test\n",
    "from utils import test_all_domains, colorize, print_results"
   ]
  },
  {
   "cell_type": "code",
   "execution_count": 17,
   "metadata": {},
   "outputs": [],
   "source": [
    "model_names = [\"models/train_conf_wiki_csai_open_qa_finance_medicine_chatgpt_head_only_False\",\n",
    "               \"models/train_conf_reddit_train_open_qa_finance_medicine_chatgpt_head_only_False\",\n",
    "               \"models/train_conf_reddit_train_wiki_csai_finance_medicine_chatgpt_head_only_False\",\n",
    "               \"models/train_conf_reddit_train_wiki_csai_open_qa_medicine_chatgpt_head_only_False\",\n",
    "               \"models/train_conf_reddit_train_wiki_csai_open_qa_finance_chatgpt_head_only_False\",\n",
    "               \"models/train_conf_reddit_train_wiki_csai_open_qa_finance_medicine_chatgpt_head_only_False\",\n",
    "               \"models/train_conf_reddit_train_chatgpt_head_only_False/checkpoint-1170\"]\n",
    "domains = [\"reddit_test\", \"wiki_csai\", \"open_qa\", \"finance\", \"medicine\"]\n",
    "# [test_all_domains(f\"{model_name}/checkpoint-1516\") for model_name in model_names]\n",
    "# test_all_domains(f\"{model_names[-2]}/checkpoint-1895\")\n",
    "# test_all_domains(f\"{model_names[-1]}\")\n"
   ]
  },
  {
   "cell_type": "code",
   "execution_count": 16,
   "metadata": {},
   "outputs": [
    {
     "name": "stdout",
     "output_type": "stream",
     "text": [
      "NTO: reddit_test\n",
      "Domain\t\tAcc\tAUC\tpH\tpAI\trH\trAI\tf1H\tf1AI\n",
      "==============================================================================\n",
      "reddit_train   \t\u001b[91m0.5656\u001b[0m\t0.9491\t\u001b[91m0.5351\u001b[0m\t1.0000\t1.0000\t\u001b[91m0.1313\u001b[0m\t\u001b[91m0.6972\u001b[0m\t\u001b[91m0.2320\u001b[0m\n",
      "wiki_csai      \t0.9917\t1.0000\t1.0000\t0.9836\t0.9834\t1.0000\t0.9916\t0.9918\n",
      "open_qa        \t0.9970\t0.9999\t0.9976\t0.9964\t0.9964\t0.9976\t0.9970\t0.9970\n",
      "finance        \t0.9982\t1.0000\t0.9988\t0.9976\t0.9976\t0.9988\t0.9982\t0.9982\n",
      "medicine       \t0.9988\t1.0000\t0.9988\t0.9988\t0.9988\t0.9988\t0.9988\t0.9988\n",
      "\n",
      "\n",
      "\n",
      "NTO: wiki_csai\n",
      "Domain\t\tAcc\tAUC\tpH\tpAI\trH\trAI\tf1H\tf1AI\n",
      "==============================================================================\n",
      "reddit_train   \t1.0000\t1.0000\t1.0000\t1.0000\t1.0000\t1.0000\t1.0000\t1.0000\n",
      "wiki_csai      \t\u001b[91m0.6461\u001b[0m\t0.9851\t1.0000\t\u001b[91m0.5855\u001b[0m\t\u001b[91m0.2922\u001b[0m\t1.0000\t\u001b[91m0.4522\u001b[0m\t\u001b[91m0.7386\u001b[0m\n",
      "open_qa        \t0.9952\t0.9999\t0.9964\t0.9941\t0.9941\t0.9964\t0.9952\t0.9953\n",
      "finance        \t0.9964\t1.0000\t0.9988\t0.9941\t0.9941\t0.9988\t0.9964\t0.9964\n",
      "medicine       \t0.9988\t1.0000\t0.9988\t0.9988\t0.9988\t0.9988\t0.9988\t0.9988\n",
      "\n",
      "\n",
      "\n",
      "NTO: open_qa\n",
      "Domain\t\tAcc\tAUC\tpH\tpAI\trH\trAI\tf1H\tf1AI\n",
      "==============================================================================\n",
      "reddit_train   \t1.0000\t1.0000\t1.0000\t1.0000\t1.0000\t1.0000\t1.0000\t1.0000\n",
      "wiki_csai      \t0.9846\t1.0000\t1.0000\t0.9700\t0.9691\t1.0000\t0.9843\t0.9848\n",
      "open_qa        \t0.9561\t0.9921\t0.9528\t0.9593\t0.9596\t0.9525\t0.9562\t0.9559\n",
      "finance        \t0.9952\t0.9999\t0.9988\t0.9917\t0.9917\t0.9988\t0.9952\t0.9953\n",
      "medicine       \t0.9982\t1.0000\t1.0000\t0.9964\t0.9964\t1.0000\t0.9982\t0.9982\n",
      "\n",
      "\n",
      "\n",
      "NTO: finance\n",
      "Domain\t\tAcc\tAUC\tpH\tpAI\trH\trAI\tf1H\tf1AI\n",
      "==============================================================================\n",
      "reddit_train   \t1.0000\t1.0000\t1.0000\t1.0000\t1.0000\t1.0000\t1.0000\t1.0000\n",
      "wiki_csai      \t0.9816\t1.0000\t1.0000\t0.9645\t0.9632\t1.0000\t0.9812\t0.9819\n",
      "open_qa        \t0.9964\t1.0000\t0.9976\t0.9953\t0.9952\t0.9976\t0.9964\t0.9964\n",
      "finance        \t0.8985\t0.9921\t0.9884\t0.8365\t0.8064\t0.9905\t0.8882\t0.9070\n",
      "medicine       \t0.9976\t1.0000\t1.0000\t0.9953\t0.9952\t1.0000\t0.9976\t0.9976\n",
      "\n",
      "\n",
      "\n",
      "NTO: medicine\n",
      "Domain\t\tAcc\tAUC\tpH\tpAI\trH\trAI\tf1H\tf1AI\n",
      "==============================================================================\n",
      "reddit_train   \t1.0000\t1.0000\t1.0000\t1.0000\t1.0000\t1.0000\t1.0000\t1.0000\n",
      "wiki_csai      \t0.9899\t1.0000\t1.0000\t0.9802\t0.9798\t1.0000\t0.9898\t0.9900\n",
      "open_qa        \t0.9917\t0.9999\t0.9964\t0.9871\t0.9869\t0.9964\t0.9916\t0.9917\n",
      "finance        \t0.9929\t1.0000\t0.9988\t0.9871\t0.9869\t0.9988\t0.9928\t0.9929\n",
      "medicine       \t\u001b[91m0.7542\u001b[0m\t0.9965\t0.9954\t\u001b[91m0.6709\u001b[0m\t\u001b[91m0.5107\u001b[0m\t0.9976\t\u001b[91m0.6750\u001b[0m\t0.8023\n",
      "\n",
      "\n",
      "\n",
      "NTO: All\n",
      "Domain\t\tAcc\tAUC\tpH\tpAI\trH\trAI\tf1H\tf1AI\n",
      "==============================================================================\n",
      "reddit_train   \t1.0000\t1.0000\t1.0000\t1.0000\t1.0000\t1.0000\t1.0000\t1.0000\n",
      "wiki_csai      \t0.9822\t0.9999\t1.0000\t0.9656\t0.9644\t1.0000\t0.9819\t0.9825\n",
      "open_qa        \t0.9988\t1.0000\t0.9976\t1.0000\t1.0000\t0.9976\t0.9988\t0.9988\n",
      "finance        \t0.9929\t1.0000\t0.9976\t0.9882\t0.9881\t0.9976\t0.9928\t0.9929\n",
      "medicine       \t0.9988\t1.0000\t1.0000\t0.9976\t0.9976\t1.0000\t0.9988\t0.9988\n",
      "\n",
      "\n",
      "\n",
      "NTO: wiki_csai open_qa finance medicine\n",
      "Domain\t\tAcc\tAUC\tpH\tpAI\trH\trAI\tf1H\tf1AI\n",
      "==============================================================================\n",
      "reddit_train   \t1.0000\t1.0000\t1.0000\t1.0000\t1.0000\t1.0000\t1.0000\t1.0000\n",
      "wiki_csai      \t\u001b[91m0.5006\u001b[0m\t\u001b[91m0.5071\u001b[0m\t\u001b[91m0.6000\u001b[0m\t\u001b[91m0.5003\u001b[0m\t\u001b[91m0.0036\u001b[0m\t0.9976\t\u001b[91m0.0071\u001b[0m\t\u001b[91m0.6664\u001b[0m\n",
      "open_qa        \t\u001b[91m0.7749\u001b[0m\t0.9701\t0.9874\t\u001b[91m0.6915\u001b[0m\t\u001b[91m0.5570\u001b[0m\t0.9929\t\u001b[91m0.7122\u001b[0m\t0.8152\n",
      "finance        \t\u001b[91m0.5059\u001b[0m\t\u001b[91m0.4786\u001b[0m\t1.0000\t\u001b[91m0.5030\u001b[0m\t\u001b[91m0.0119\u001b[0m\t1.0000\t\u001b[91m0.0235\u001b[0m\t\u001b[91m0.6693\u001b[0m\n",
      "medicine       \t\u001b[91m0.5362\u001b[0m\t\u001b[91m0.7135\u001b[0m\t\u001b[91m0.7850\u001b[0m\t\u001b[91m0.5193\u001b[0m\t\u001b[91m0.0998\u001b[0m\t0.9727\t\u001b[91m0.1770\u001b[0m\t\u001b[91m0.6771\u001b[0m\n",
      "\n",
      "\n",
      "\n"
     ]
    }
   ],
   "source": [
    "domain_names = [\"reddit_test\", \"wiki_csai\", \"open_qa\", \"finance\", \"medicine\", \"All\", \"wiki_csai open_qa finance medicine\"]\n",
    "[print_results(model_name=f\"{model_names[i]}/checkpoint-1516\", test_generator=\"chatgpt\", not_trained_on=domain_names[i]) for i in range(5)]\n",
    "print_results(model_name=f\"{model_names[-2]}/checkpoint-1895\", test_generator=\"chatgpt\", not_trained_on=domain_names[-2])\n",
    "print_results(model_name=f\"{model_names[-1]}\", test_generator=\"chatgpt\", not_trained_on=domain_names[-1])\n"
   ]
  },
  {
   "cell_type": "code",
   "execution_count": null,
   "metadata": {},
   "outputs": [],
   "source": []
  }
 ],
 "metadata": {
  "kernelspec": {
   "display_name": "DL4NLP",
   "language": "python",
   "name": "python3"
  },
  "language_info": {
   "codemirror_mode": {
    "name": "ipython",
    "version": 3
   },
   "file_extension": ".py",
   "mimetype": "text/x-python",
   "name": "python",
   "nbconvert_exporter": "python",
   "pygments_lexer": "ipython3",
   "version": "3.11.9"
  }
 },
 "nbformat": 4,
 "nbformat_minor": 2
}
