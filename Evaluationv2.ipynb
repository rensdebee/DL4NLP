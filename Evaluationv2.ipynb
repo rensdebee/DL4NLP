{
 "cells": [
  {
   "cell_type": "code",
   "execution_count": 2,
   "metadata": {},
   "outputs": [],
   "source": [
    "%load_ext autoreload\n",
    "%autoreload 2"
   ]
  },
  {
   "cell_type": "code",
   "execution_count": 3,
   "metadata": {},
   "outputs": [],
   "source": [
    "import json\n",
    "from custom_test import test\n",
    "from utils import test_all_domains, colorize, print_results"
   ]
  },
  {
   "cell_type": "markdown",
   "metadata": {},
   "source": [
    "# ChatGPT"
   ]
  },
  {
   "cell_type": "code",
   "execution_count": 17,
   "metadata": {},
   "outputs": [],
   "source": [
    "model_names = [\"models/train_conf_wiki_csai_open_qa_finance_medicine_chatgpt_head_only_False\",\n",
    "               \"models/train_conf_reddit_train_open_qa_finance_medicine_chatgpt_head_only_False\",\n",
    "               \"models/train_conf_reddit_train_wiki_csai_finance_medicine_chatgpt_head_only_False\",\n",
    "               \"models/train_conf_reddit_train_wiki_csai_open_qa_medicine_chatgpt_head_only_False\",\n",
    "               \"models/train_conf_reddit_train_wiki_csai_open_qa_finance_chatgpt_head_only_False\",\n",
    "               \"models/train_conf_reddit_train_wiki_csai_open_qa_finance_medicine_chatgpt_head_only_False\",\n",
    "               \"models/train_conf_reddit_train_chatgpt_head_only_False/checkpoint-1170\"]\n",
    "domains = [\"reddit_test\", \"wiki_csai\", \"open_qa\", \"finance\", \"medicine\"]\n",
    "# [test_all_domains(f\"{model_name}/checkpoint-1516\") for model_name in model_names]\n",
    "# test_all_domains(f\"{model_names[-2]}/checkpoint-1895\")\n",
    "# test_all_domains(f\"{model_names[-1]}\")\n"
   ]
  },
  {
   "cell_type": "code",
   "execution_count": 16,
   "metadata": {},
   "outputs": [
    {
     "name": "stdout",
     "output_type": "stream",
     "text": [
      "NTO: reddit_test\n",
      "Domain\t\tAcc\tAUC\tpH\tpAI\trH\trAI\tf1H\tf1AI\n",
      "==============================================================================\n",
      "reddit_train   \t\u001b[91m0.5656\u001b[0m\t0.9491\t\u001b[91m0.5351\u001b[0m\t1.0000\t1.0000\t\u001b[91m0.1313\u001b[0m\t\u001b[91m0.6972\u001b[0m\t\u001b[91m0.2320\u001b[0m\n",
      "wiki_csai      \t0.9917\t1.0000\t1.0000\t0.9836\t0.9834\t1.0000\t0.9916\t0.9918\n",
      "open_qa        \t0.9970\t0.9999\t0.9976\t0.9964\t0.9964\t0.9976\t0.9970\t0.9970\n",
      "finance        \t0.9982\t1.0000\t0.9988\t0.9976\t0.9976\t0.9988\t0.9982\t0.9982\n",
      "medicine       \t0.9988\t1.0000\t0.9988\t0.9988\t0.9988\t0.9988\t0.9988\t0.9988\n",
      "\n",
      "\n",
      "\n",
      "NTO: wiki_csai\n",
      "Domain\t\tAcc\tAUC\tpH\tpAI\trH\trAI\tf1H\tf1AI\n",
      "==============================================================================\n",
      "reddit_train   \t1.0000\t1.0000\t1.0000\t1.0000\t1.0000\t1.0000\t1.0000\t1.0000\n",
      "wiki_csai      \t\u001b[91m0.6461\u001b[0m\t0.9851\t1.0000\t\u001b[91m0.5855\u001b[0m\t\u001b[91m0.2922\u001b[0m\t1.0000\t\u001b[91m0.4522\u001b[0m\t\u001b[91m0.7386\u001b[0m\n",
      "open_qa        \t0.9952\t0.9999\t0.9964\t0.9941\t0.9941\t0.9964\t0.9952\t0.9953\n",
      "finance        \t0.9964\t1.0000\t0.9988\t0.9941\t0.9941\t0.9988\t0.9964\t0.9964\n",
      "medicine       \t0.9988\t1.0000\t0.9988\t0.9988\t0.9988\t0.9988\t0.9988\t0.9988\n",
      "\n",
      "\n",
      "\n",
      "NTO: open_qa\n",
      "Domain\t\tAcc\tAUC\tpH\tpAI\trH\trAI\tf1H\tf1AI\n",
      "==============================================================================\n",
      "reddit_train   \t1.0000\t1.0000\t1.0000\t1.0000\t1.0000\t1.0000\t1.0000\t1.0000\n",
      "wiki_csai      \t0.9846\t1.0000\t1.0000\t0.9700\t0.9691\t1.0000\t0.9843\t0.9848\n",
      "open_qa        \t0.9561\t0.9921\t0.9528\t0.9593\t0.9596\t0.9525\t0.9562\t0.9559\n",
      "finance        \t0.9952\t0.9999\t0.9988\t0.9917\t0.9917\t0.9988\t0.9952\t0.9953\n",
      "medicine       \t0.9982\t1.0000\t1.0000\t0.9964\t0.9964\t1.0000\t0.9982\t0.9982\n",
      "\n",
      "\n",
      "\n",
      "NTO: finance\n",
      "Domain\t\tAcc\tAUC\tpH\tpAI\trH\trAI\tf1H\tf1AI\n",
      "==============================================================================\n",
      "reddit_train   \t1.0000\t1.0000\t1.0000\t1.0000\t1.0000\t1.0000\t1.0000\t1.0000\n",
      "wiki_csai      \t0.9816\t1.0000\t1.0000\t0.9645\t0.9632\t1.0000\t0.9812\t0.9819\n",
      "open_qa        \t0.9964\t1.0000\t0.9976\t0.9953\t0.9952\t0.9976\t0.9964\t0.9964\n",
      "finance        \t0.8985\t0.9921\t0.9884\t0.8365\t0.8064\t0.9905\t0.8882\t0.9070\n",
      "medicine       \t0.9976\t1.0000\t1.0000\t0.9953\t0.9952\t1.0000\t0.9976\t0.9976\n",
      "\n",
      "\n",
      "\n",
      "NTO: medicine\n",
      "Domain\t\tAcc\tAUC\tpH\tpAI\trH\trAI\tf1H\tf1AI\n",
      "==============================================================================\n",
      "reddit_train   \t1.0000\t1.0000\t1.0000\t1.0000\t1.0000\t1.0000\t1.0000\t1.0000\n",
      "wiki_csai      \t0.9899\t1.0000\t1.0000\t0.9802\t0.9798\t1.0000\t0.9898\t0.9900\n",
      "open_qa        \t0.9917\t0.9999\t0.9964\t0.9871\t0.9869\t0.9964\t0.9916\t0.9917\n",
      "finance        \t0.9929\t1.0000\t0.9988\t0.9871\t0.9869\t0.9988\t0.9928\t0.9929\n",
      "medicine       \t\u001b[91m0.7542\u001b[0m\t0.9965\t0.9954\t\u001b[91m0.6709\u001b[0m\t\u001b[91m0.5107\u001b[0m\t0.9976\t\u001b[91m0.6750\u001b[0m\t0.8023\n",
      "\n",
      "\n",
      "\n",
      "NTO: All\n",
      "Domain\t\tAcc\tAUC\tpH\tpAI\trH\trAI\tf1H\tf1AI\n",
      "==============================================================================\n",
      "reddit_train   \t1.0000\t1.0000\t1.0000\t1.0000\t1.0000\t1.0000\t1.0000\t1.0000\n",
      "wiki_csai      \t0.9822\t0.9999\t1.0000\t0.9656\t0.9644\t1.0000\t0.9819\t0.9825\n",
      "open_qa        \t0.9988\t1.0000\t0.9976\t1.0000\t1.0000\t0.9976\t0.9988\t0.9988\n",
      "finance        \t0.9929\t1.0000\t0.9976\t0.9882\t0.9881\t0.9976\t0.9928\t0.9929\n",
      "medicine       \t0.9988\t1.0000\t1.0000\t0.9976\t0.9976\t1.0000\t0.9988\t0.9988\n",
      "\n",
      "\n",
      "\n",
      "NTO: wiki_csai open_qa finance medicine\n",
      "Domain\t\tAcc\tAUC\tpH\tpAI\trH\trAI\tf1H\tf1AI\n",
      "==============================================================================\n",
      "reddit_train   \t1.0000\t1.0000\t1.0000\t1.0000\t1.0000\t1.0000\t1.0000\t1.0000\n",
      "wiki_csai      \t\u001b[91m0.5006\u001b[0m\t\u001b[91m0.5071\u001b[0m\t\u001b[91m0.6000\u001b[0m\t\u001b[91m0.5003\u001b[0m\t\u001b[91m0.0036\u001b[0m\t0.9976\t\u001b[91m0.0071\u001b[0m\t\u001b[91m0.6664\u001b[0m\n",
      "open_qa        \t\u001b[91m0.7749\u001b[0m\t0.9701\t0.9874\t\u001b[91m0.6915\u001b[0m\t\u001b[91m0.5570\u001b[0m\t0.9929\t\u001b[91m0.7122\u001b[0m\t0.8152\n",
      "finance        \t\u001b[91m0.5059\u001b[0m\t\u001b[91m0.4786\u001b[0m\t1.0000\t\u001b[91m0.5030\u001b[0m\t\u001b[91m0.0119\u001b[0m\t1.0000\t\u001b[91m0.0235\u001b[0m\t\u001b[91m0.6693\u001b[0m\n",
      "medicine       \t\u001b[91m0.5362\u001b[0m\t\u001b[91m0.7135\u001b[0m\t\u001b[91m0.7850\u001b[0m\t\u001b[91m0.5193\u001b[0m\t\u001b[91m0.0998\u001b[0m\t0.9727\t\u001b[91m0.1770\u001b[0m\t\u001b[91m0.6771\u001b[0m\n",
      "\n",
      "\n",
      "\n"
     ]
    }
   ],
   "source": [
    "domain_names = [\"reddit_test\", \"wiki_csai\", \"open_qa\", \"finance\", \"medicine\", \"All\", \"wiki_csai open_qa finance medicine\"]\n",
    "[print_results(model_name=f\"{model_names[i]}/checkpoint-1516\", test_generator=\"chatgpt\", not_trained_on=domain_names[i]) for i in range(5)]\n",
    "print_results(model_name=f\"{model_names[-2]}/checkpoint-1895\", test_generator=\"chatgpt\", not_trained_on=domain_names[-2])\n",
    "print_results(model_name=f\"{model_names[-1]}\", test_generator=\"chatgpt\", not_trained_on=domain_names[-1])\n"
   ]
  },
  {
   "cell_type": "markdown",
   "metadata": {},
   "source": [
    "# Medium LLAMA"
   ]
  },
  {
   "cell_type": "code",
   "execution_count": 8,
   "metadata": {},
   "outputs": [
    {
     "name": "stdout",
     "output_type": "stream",
     "text": [
      "Test set:\n",
      "Counter({0: 800, 1: 800})\n",
      "Tokenizing and mapping...\n"
     ]
    },
    {
     "data": {
      "application/vnd.jupyter.widget-view+json": {
       "model_id": "9d910919d27d4e3188c66d6042ee7358",
       "version_major": 2,
       "version_minor": 0
      },
      "text/plain": [
       "Map:   0%|          | 0/1600 [00:00<?, ? examples/s]"
      ]
     },
     "metadata": {},
     "output_type": "display_data"
    },
    {
     "data": {
      "application/vnd.jupyter.widget-view+json": {
       "model_id": "cce391b2d7ca4417bcc6c66ff5602651",
       "version_major": 2,
       "version_minor": 0
      },
      "text/plain": [
       "  0%|          | 0/100 [00:00<?, ?it/s]"
      ]
     },
     "metadata": {},
     "output_type": "display_data"
    },
    {
     "name": "stdout",
     "output_type": "stream",
     "text": [
      "{'eval_loss': 0.17650331556797028, 'eval_model_preparation_time': 0.0019, 'eval_accuracy': 0.973125, 'eval_precision': [0.9489916963226572, 1.0], 'eval_recall': [1.0, 0.94625], 'eval_f1': [0.9738283627510651, 0.9723827874116892], 'eval_roc_auc': 0.9998890625, 'eval_sk_roc_auc': 0.9998890625, 'eval_runtime': 19.1875, 'eval_samples_per_second': 83.388, 'eval_steps_per_second': 5.212}\n",
      "models/train_conf_wiki_csai_open_qa_finance_medicine_llama_head_only_False/checkpoint-1516/eval/reddit_test_llama/test_results.json\n",
      "Test set:\n",
      "Counter({0: 842, 1: 842})\n",
      "Tokenizing and mapping...\n"
     ]
    },
    {
     "data": {
      "application/vnd.jupyter.widget-view+json": {
       "model_id": "89bfd1f288824b9f8c615884ab5f5e7d",
       "version_major": 2,
       "version_minor": 0
      },
      "text/plain": [
       "Map:   0%|          | 0/1684 [00:00<?, ? examples/s]"
      ]
     },
     "metadata": {},
     "output_type": "display_data"
    },
    {
     "data": {
      "application/vnd.jupyter.widget-view+json": {
       "model_id": "c4cff4259fbf4fbf85ade258c2f35ac4",
       "version_major": 2,
       "version_minor": 0
      },
      "text/plain": [
       "  0%|          | 0/106 [00:00<?, ?it/s]"
      ]
     },
     "metadata": {},
     "output_type": "display_data"
    },
    {
     "name": "stdout",
     "output_type": "stream",
     "text": [
      "{'eval_loss': 0.02146800607442856, 'eval_model_preparation_time': 0.0019, 'eval_accuracy': 0.9970308788598575, 'eval_precision': [1.0, 0.9940968122786304], 'eval_recall': [0.994061757719715, 1.0], 'eval_f1': [0.9970220369267421, 0.9970396684428656], 'eval_roc_auc': 1.0, 'eval_sk_roc_auc': 1.0, 'eval_runtime': 27.6567, 'eval_samples_per_second': 60.889, 'eval_steps_per_second': 3.833}\n",
      "models/train_conf_wiki_csai_open_qa_finance_medicine_llama_head_only_False/checkpoint-1516/eval/wiki_csai_llama/test_results.json\n",
      "Test set:\n",
      "Counter({0: 842, 1: 842})\n",
      "Tokenizing and mapping...\n"
     ]
    },
    {
     "data": {
      "application/vnd.jupyter.widget-view+json": {
       "model_id": "5dc4f31ca0c24ad8828e5611f1028c41",
       "version_major": 2,
       "version_minor": 0
      },
      "text/plain": [
       "Map:   0%|          | 0/1684 [00:00<?, ? examples/s]"
      ]
     },
     "metadata": {},
     "output_type": "display_data"
    },
    {
     "data": {
      "application/vnd.jupyter.widget-view+json": {
       "model_id": "3d03c88019634c48b764ed3a67ee24b1",
       "version_major": 2,
       "version_minor": 0
      },
      "text/plain": [
       "  0%|          | 0/106 [00:00<?, ?it/s]"
      ]
     },
     "metadata": {},
     "output_type": "display_data"
    },
    {
     "name": "stdout",
     "output_type": "stream",
     "text": [
      "{'eval_loss': 0.006630782037973404, 'eval_model_preparation_time': 0.0019, 'eval_accuracy': 0.998812351543943, 'eval_precision': [1.0, 0.9976303317535545], 'eval_recall': [0.997624703087886, 1.0], 'eval_f1': [0.9988109393579072, 0.9988137603795967], 'eval_roc_auc': 0.9999873054203035, 'eval_sk_roc_auc': 0.9999873054203035, 'eval_runtime': 15.0938, 'eval_samples_per_second': 111.569, 'eval_steps_per_second': 7.023}\n",
      "models/train_conf_wiki_csai_open_qa_finance_medicine_llama_head_only_False/checkpoint-1516/eval/open_qa_llama/test_results.json\n",
      "Test set:\n",
      "Counter({0: 842, 1: 842})\n",
      "Tokenizing and mapping...\n"
     ]
    },
    {
     "data": {
      "application/vnd.jupyter.widget-view+json": {
       "model_id": "a29ef410b00141c28cbb1318f6cbcfb5",
       "version_major": 2,
       "version_minor": 0
      },
      "text/plain": [
       "Map:   0%|          | 0/1684 [00:00<?, ? examples/s]"
      ]
     },
     "metadata": {},
     "output_type": "display_data"
    },
    {
     "data": {
      "application/vnd.jupyter.widget-view+json": {
       "model_id": "856b1dd96fd5445cacd1f1c5f4cd1cbe",
       "version_major": 2,
       "version_minor": 0
      },
      "text/plain": [
       "  0%|          | 0/106 [00:00<?, ?it/s]"
      ]
     },
     "metadata": {},
     "output_type": "display_data"
    },
    {
     "name": "stdout",
     "output_type": "stream",
     "text": [
      "{'eval_loss': 0.021001849323511124, 'eval_model_preparation_time': 0.0019, 'eval_accuracy': 0.996437054631829, 'eval_precision': [1.0, 0.9929245283018868], 'eval_recall': [0.9928741092636579, 1.0], 'eval_f1': [0.9964243146603099, 0.9964497041420118], 'eval_roc_auc': 1.0, 'eval_sk_roc_auc': 1.0, 'eval_runtime': 29.7936, 'eval_samples_per_second': 56.522, 'eval_steps_per_second': 3.558}\n",
      "models/train_conf_wiki_csai_open_qa_finance_medicine_llama_head_only_False/checkpoint-1516/eval/finance_llama/test_results.json\n",
      "Test set:\n",
      "Counter({0: 842, 1: 842})\n",
      "Tokenizing and mapping...\n"
     ]
    },
    {
     "data": {
      "application/vnd.jupyter.widget-view+json": {
       "model_id": "0cd86e22167146e48a10e8a39edebc8f",
       "version_major": 2,
       "version_minor": 0
      },
      "text/plain": [
       "Map:   0%|          | 0/1684 [00:00<?, ? examples/s]"
      ]
     },
     "metadata": {},
     "output_type": "display_data"
    },
    {
     "data": {
      "application/vnd.jupyter.widget-view+json": {
       "model_id": "25e5a4d08eb04b0b803fe9cb25b91693",
       "version_major": 2,
       "version_minor": 0
      },
      "text/plain": [
       "  0%|          | 0/106 [00:00<?, ?it/s]"
      ]
     },
     "metadata": {},
     "output_type": "display_data"
    },
    {
     "name": "stdout",
     "output_type": "stream",
     "text": [
      "{'eval_loss': 0.027871016412973404, 'eval_model_preparation_time': 0.0019, 'eval_accuracy': 0.995249406175772, 'eval_precision': [0.9988038277511961, 0.9917452830188679], 'eval_recall': [0.9916864608076009, 0.998812351543943], 'eval_f1': [0.9952324195470799, 0.9952662721893492], 'eval_roc_auc': 0.9999344113382344, 'eval_sk_roc_auc': 0.9999344113382344, 'eval_runtime': 15.9191, 'eval_samples_per_second': 105.785, 'eval_steps_per_second': 6.659}\n",
      "models/train_conf_wiki_csai_open_qa_finance_medicine_llama_head_only_False/checkpoint-1516/eval/medicine_llama/test_results.json\n",
      "Test set:\n",
      "Counter({0: 800, 1: 800})\n",
      "Tokenizing and mapping...\n"
     ]
    },
    {
     "data": {
      "application/vnd.jupyter.widget-view+json": {
       "model_id": "f09186df92214fa88f9ed19cbd942b49",
       "version_major": 2,
       "version_minor": 0
      },
      "text/plain": [
       "Map:   0%|          | 0/1600 [00:00<?, ? examples/s]"
      ]
     },
     "metadata": {},
     "output_type": "display_data"
    },
    {
     "data": {
      "application/vnd.jupyter.widget-view+json": {
       "model_id": "cc5e1723abef42b69e0b5ff08a4197f9",
       "version_major": 2,
       "version_minor": 0
      },
      "text/plain": [
       "  0%|          | 0/100 [00:00<?, ?it/s]"
      ]
     },
     "metadata": {},
     "output_type": "display_data"
    },
    {
     "name": "stdout",
     "output_type": "stream",
     "text": [
      "{'eval_loss': 5.741132554248907e-05, 'eval_model_preparation_time': 0.0019, 'eval_accuracy': 1.0, 'eval_precision': [1.0, 1.0], 'eval_recall': [1.0, 1.0], 'eval_f1': [1.0, 1.0], 'eval_roc_auc': 1.0, 'eval_sk_roc_auc': 1.0, 'eval_runtime': 16.5056, 'eval_samples_per_second': 96.937, 'eval_steps_per_second': 6.059}\n",
      "models/train_conf_reddit_train_open_qa_finance_medicine_llama_head_only_False/checkpoint-1516/eval/reddit_test_llama/test_results.json\n",
      "Test set:\n",
      "Counter({0: 842, 1: 842})\n",
      "Tokenizing and mapping...\n"
     ]
    },
    {
     "data": {
      "application/vnd.jupyter.widget-view+json": {
       "model_id": "6413a5d422514711a40f2664fe812b1c",
       "version_major": 2,
       "version_minor": 0
      },
      "text/plain": [
       "Map:   0%|          | 0/1684 [00:00<?, ? examples/s]"
      ]
     },
     "metadata": {},
     "output_type": "display_data"
    },
    {
     "data": {
      "application/vnd.jupyter.widget-view+json": {
       "model_id": "a3a3e40f4c1049d5a8788ca3a81d06b7",
       "version_major": 2,
       "version_minor": 0
      },
      "text/plain": [
       "  0%|          | 0/106 [00:00<?, ?it/s]"
      ]
     },
     "metadata": {},
     "output_type": "display_data"
    },
    {
     "name": "stdout",
     "output_type": "stream",
     "text": [
      "{'eval_loss': 1.8455064296722412, 'eval_model_preparation_time': 0.002, 'eval_accuracy': 0.7773159144893111, 'eval_precision': [1.0, 0.6918652423993427], 'eval_recall': [0.5546318289786223, 1.0], 'eval_f1': [0.7135217723453018, 0.8178727537639631], 'eval_roc_auc': 0.9977297859975964, 'eval_sk_roc_auc': 0.9977297859975964, 'eval_runtime': 20.4561, 'eval_samples_per_second': 82.323, 'eval_steps_per_second': 5.182}\n",
      "models/train_conf_reddit_train_open_qa_finance_medicine_llama_head_only_False/checkpoint-1516/eval/wiki_csai_llama/test_results.json\n",
      "Test set:\n",
      "Counter({0: 842, 1: 842})\n",
      "Tokenizing and mapping...\n"
     ]
    },
    {
     "data": {
      "application/vnd.jupyter.widget-view+json": {
       "model_id": "81236d60b6c74c3fa109be855965378e",
       "version_major": 2,
       "version_minor": 0
      },
      "text/plain": [
       "Map:   0%|          | 0/1684 [00:00<?, ? examples/s]"
      ]
     },
     "metadata": {},
     "output_type": "display_data"
    },
    {
     "data": {
      "application/vnd.jupyter.widget-view+json": {
       "model_id": "f7ade069b4d94c43aed4b5f7244c0da2",
       "version_major": 2,
       "version_minor": 0
      },
      "text/plain": [
       "  0%|          | 0/106 [00:00<?, ?it/s]"
      ]
     },
     "metadata": {},
     "output_type": "display_data"
    },
    {
     "name": "stdout",
     "output_type": "stream",
     "text": [
      "{'eval_loss': 0.016208814457058907, 'eval_model_preparation_time': 0.0019, 'eval_accuracy': 0.9970308788598575, 'eval_precision': [0.9976218787158145, 0.99644128113879], 'eval_recall': [0.996437054631829, 0.997624703087886], 'eval_f1': [0.9970291146761735, 0.9970326409495549], 'eval_roc_auc': 0.9999774318583171, 'eval_sk_roc_auc': 0.9999774318583171, 'eval_runtime': 14.7177, 'eval_samples_per_second': 114.42, 'eval_steps_per_second': 7.202}\n",
      "models/train_conf_reddit_train_open_qa_finance_medicine_llama_head_only_False/checkpoint-1516/eval/open_qa_llama/test_results.json\n",
      "Test set:\n",
      "Counter({0: 842, 1: 842})\n",
      "Tokenizing and mapping...\n"
     ]
    },
    {
     "data": {
      "application/vnd.jupyter.widget-view+json": {
       "model_id": "b0c776598a44483e9a873af7489bce2d",
       "version_major": 2,
       "version_minor": 0
      },
      "text/plain": [
       "Map:   0%|          | 0/1684 [00:00<?, ? examples/s]"
      ]
     },
     "metadata": {},
     "output_type": "display_data"
    },
    {
     "data": {
      "application/vnd.jupyter.widget-view+json": {
       "model_id": "fa05bf7bb482448c9a3465dc9437b92a",
       "version_major": 2,
       "version_minor": 0
      },
      "text/plain": [
       "  0%|          | 0/106 [00:00<?, ?it/s]"
      ]
     },
     "metadata": {},
     "output_type": "display_data"
    },
    {
     "name": "stdout",
     "output_type": "stream",
     "text": [
      "{'eval_loss': 0.018130842596292496, 'eval_model_preparation_time': 0.0019, 'eval_accuracy': 0.997624703087886, 'eval_precision': [0.997624703087886, 0.997624703087886], 'eval_recall': [0.997624703087886, 0.997624703087886], 'eval_f1': [0.997624703087886, 0.997624703087886], 'eval_roc_auc': 0.9999506321900689, 'eval_sk_roc_auc': 0.9999506321900689, 'eval_runtime': 22.615, 'eval_samples_per_second': 74.464, 'eval_steps_per_second': 4.687}\n",
      "models/train_conf_reddit_train_open_qa_finance_medicine_llama_head_only_False/checkpoint-1516/eval/finance_llama/test_results.json\n",
      "Test set:\n",
      "Counter({0: 842, 1: 842})\n",
      "Tokenizing and mapping...\n"
     ]
    },
    {
     "data": {
      "application/vnd.jupyter.widget-view+json": {
       "model_id": "a171019402ce45c2a1bfe1b7f71fcc20",
       "version_major": 2,
       "version_minor": 0
      },
      "text/plain": [
       "Map:   0%|          | 0/1684 [00:00<?, ? examples/s]"
      ]
     },
     "metadata": {},
     "output_type": "display_data"
    },
    {
     "data": {
      "application/vnd.jupyter.widget-view+json": {
       "model_id": "2106f2a39be54d06bbd800629be80561",
       "version_major": 2,
       "version_minor": 0
      },
      "text/plain": [
       "  0%|          | 0/106 [00:00<?, ?it/s]"
      ]
     },
     "metadata": {},
     "output_type": "display_data"
    },
    {
     "name": "stdout",
     "output_type": "stream",
     "text": [
      "{'eval_loss': 0.040791500359773636, 'eval_model_preparation_time': 0.002, 'eval_accuracy': 0.9928741092636579, 'eval_precision': [0.9987980769230769, 0.9870892018779343], 'eval_recall': [0.9869358669833729, 0.998812351543943], 'eval_f1': [0.992831541218638, 0.9929161747343566], 'eval_roc_auc': 0.9999576847343448, 'eval_sk_roc_auc': 0.9999576847343448, 'eval_runtime': 19.9735, 'eval_samples_per_second': 84.312, 'eval_steps_per_second': 5.307}\n",
      "models/train_conf_reddit_train_open_qa_finance_medicine_llama_head_only_False/checkpoint-1516/eval/medicine_llama/test_results.json\n",
      "Test set:\n",
      "Counter({0: 800, 1: 800})\n",
      "Tokenizing and mapping...\n"
     ]
    },
    {
     "data": {
      "application/vnd.jupyter.widget-view+json": {
       "model_id": "d95b2c969fb849b8aa1a78f138b099e9",
       "version_major": 2,
       "version_minor": 0
      },
      "text/plain": [
       "Map:   0%|          | 0/1600 [00:00<?, ? examples/s]"
      ]
     },
     "metadata": {},
     "output_type": "display_data"
    },
    {
     "data": {
      "application/vnd.jupyter.widget-view+json": {
       "model_id": "691be84a7d72449b8221ce22e88cb21e",
       "version_major": 2,
       "version_minor": 0
      },
      "text/plain": [
       "  0%|          | 0/100 [00:00<?, ?it/s]"
      ]
     },
     "metadata": {},
     "output_type": "display_data"
    },
    {
     "name": "stdout",
     "output_type": "stream",
     "text": [
      "{'eval_loss': 9.880907600745559e-05, 'eval_model_preparation_time': 0.0019, 'eval_accuracy': 1.0, 'eval_precision': [1.0, 1.0], 'eval_recall': [1.0, 1.0], 'eval_f1': [1.0, 1.0], 'eval_roc_auc': 1.0, 'eval_sk_roc_auc': 1.0, 'eval_runtime': 17.7804, 'eval_samples_per_second': 89.987, 'eval_steps_per_second': 5.624}\n",
      "models/train_conf_reddit_train_wiki_csai_finance_medicine_llama_head_only_False/checkpoint-1516/eval/reddit_test_llama/test_results.json\n",
      "Test set:\n",
      "Counter({0: 842, 1: 842})\n",
      "Tokenizing and mapping...\n"
     ]
    },
    {
     "data": {
      "application/vnd.jupyter.widget-view+json": {
       "model_id": "f0709bb826ab426a822134383b6c06cb",
       "version_major": 2,
       "version_minor": 0
      },
      "text/plain": [
       "Map:   0%|          | 0/1684 [00:00<?, ? examples/s]"
      ]
     },
     "metadata": {},
     "output_type": "display_data"
    },
    {
     "data": {
      "application/vnd.jupyter.widget-view+json": {
       "model_id": "8fa2247653484929b7667aa9d6dbb31c",
       "version_major": 2,
       "version_minor": 0
      },
      "text/plain": [
       "  0%|          | 0/106 [00:00<?, ?it/s]"
      ]
     },
     "metadata": {},
     "output_type": "display_data"
    },
    {
     "name": "stdout",
     "output_type": "stream",
     "text": [
      "{'eval_loss': 0.008369295857846737, 'eval_model_preparation_time': 0.0019, 'eval_accuracy': 0.998812351543943, 'eval_precision': [1.0, 0.9976303317535545], 'eval_recall': [0.997624703087886, 1.0], 'eval_f1': [0.9988109393579072, 0.9988137603795967], 'eval_roc_auc': 0.9999985894911447, 'eval_sk_roc_auc': 0.9999985894911447, 'eval_runtime': 20.892, 'eval_samples_per_second': 80.605, 'eval_steps_per_second': 5.074}\n",
      "models/train_conf_reddit_train_wiki_csai_finance_medicine_llama_head_only_False/checkpoint-1516/eval/wiki_csai_llama/test_results.json\n",
      "Test set:\n",
      "Counter({0: 842, 1: 842})\n",
      "Tokenizing and mapping...\n"
     ]
    },
    {
     "data": {
      "application/vnd.jupyter.widget-view+json": {
       "model_id": "92949e3c59f04ea695b8f84baa162f19",
       "version_major": 2,
       "version_minor": 0
      },
      "text/plain": [
       "Map:   0%|          | 0/1684 [00:00<?, ? examples/s]"
      ]
     },
     "metadata": {},
     "output_type": "display_data"
    },
    {
     "data": {
      "application/vnd.jupyter.widget-view+json": {
       "model_id": "bc4ca80a53444d1bbf0973fa9d3123a1",
       "version_major": 2,
       "version_minor": 0
      },
      "text/plain": [
       "  0%|          | 0/106 [00:00<?, ?it/s]"
      ]
     },
     "metadata": {},
     "output_type": "display_data"
    },
    {
     "name": "stdout",
     "output_type": "stream",
     "text": [
      "{'eval_loss': 0.05541197583079338, 'eval_model_preparation_time': 0.002, 'eval_accuracy': 0.9916864608076009, 'eval_precision': [0.9940334128878282, 0.9893617021276596], 'eval_recall': [0.9893111638954869, 0.994061757719715], 'eval_f1': [0.9916666666666667, 0.9917061611374408], 'eval_roc_auc': 0.9997559819680548, 'eval_sk_roc_auc': 0.9997559819680548, 'eval_runtime': 31.9597, 'eval_samples_per_second': 52.691, 'eval_steps_per_second': 3.317}\n",
      "models/train_conf_reddit_train_wiki_csai_finance_medicine_llama_head_only_False/checkpoint-1516/eval/open_qa_llama/test_results.json\n",
      "Test set:\n",
      "Counter({0: 842, 1: 842})\n",
      "Tokenizing and mapping...\n"
     ]
    },
    {
     "data": {
      "application/vnd.jupyter.widget-view+json": {
       "model_id": "4b5b8e7999014a4188b973e63ea93265",
       "version_major": 2,
       "version_minor": 0
      },
      "text/plain": [
       "Map:   0%|          | 0/1684 [00:00<?, ? examples/s]"
      ]
     },
     "metadata": {},
     "output_type": "display_data"
    },
    {
     "data": {
      "application/vnd.jupyter.widget-view+json": {
       "model_id": "ce5d622ce6044cef867d21330b05a72a",
       "version_major": 2,
       "version_minor": 0
      },
      "text/plain": [
       "  0%|          | 0/106 [00:00<?, ?it/s]"
      ]
     },
     "metadata": {},
     "output_type": "display_data"
    },
    {
     "name": "stdout",
     "output_type": "stream",
     "text": [
      "{'eval_loss': 0.046701110899448395, 'eval_model_preparation_time': 0.0019, 'eval_accuracy': 0.9922802850356295, 'eval_precision': [0.9987966305655837, 0.9859320046893317], 'eval_recall': [0.9857482185273159, 0.998812351543943], 'eval_f1': [0.9922295277943813, 0.9923303834808259], 'eval_roc_auc': 0.9999344113382344, 'eval_sk_roc_auc': 0.9999344113382344, 'eval_runtime': 20.6093, 'eval_samples_per_second': 81.711, 'eval_steps_per_second': 5.143}\n",
      "models/train_conf_reddit_train_wiki_csai_finance_medicine_llama_head_only_False/checkpoint-1516/eval/finance_llama/test_results.json\n",
      "Test set:\n",
      "Counter({0: 842, 1: 842})\n",
      "Tokenizing and mapping...\n"
     ]
    },
    {
     "data": {
      "application/vnd.jupyter.widget-view+json": {
       "model_id": "bff46ba911da406ca7d10054dfe67945",
       "version_major": 2,
       "version_minor": 0
      },
      "text/plain": [
       "Map:   0%|          | 0/1684 [00:00<?, ? examples/s]"
      ]
     },
     "metadata": {},
     "output_type": "display_data"
    },
    {
     "data": {
      "application/vnd.jupyter.widget-view+json": {
       "model_id": "be3fd2e53520467c92243f2bc05f9900",
       "version_major": 2,
       "version_minor": 0
      },
      "text/plain": [
       "  0%|          | 0/106 [00:00<?, ?it/s]"
      ]
     },
     "metadata": {},
     "output_type": "display_data"
    },
    {
     "name": "stdout",
     "output_type": "stream",
     "text": [
      "{'eval_loss': 0.02223089337348938, 'eval_model_preparation_time': 0.0019, 'eval_accuracy': 0.996437054631829, 'eval_precision': [0.9988066825775657, 0.9940898345153665], 'eval_recall': [0.994061757719715, 0.998812351543943], 'eval_f1': [0.9964285714285714, 0.9964454976303317], 'eval_roc_auc': 0.9999661477874757, 'eval_sk_roc_auc': 0.9999661477874757, 'eval_runtime': 24.997, 'eval_samples_per_second': 67.368, 'eval_steps_per_second': 4.241}\n",
      "models/train_conf_reddit_train_wiki_csai_finance_medicine_llama_head_only_False/checkpoint-1516/eval/medicine_llama/test_results.json\n",
      "Test set:\n",
      "Counter({0: 800, 1: 800})\n",
      "Tokenizing and mapping...\n"
     ]
    },
    {
     "data": {
      "application/vnd.jupyter.widget-view+json": {
       "model_id": "3721d4332f6749c2af0a237edb27dd1a",
       "version_major": 2,
       "version_minor": 0
      },
      "text/plain": [
       "Map:   0%|          | 0/1600 [00:00<?, ? examples/s]"
      ]
     },
     "metadata": {},
     "output_type": "display_data"
    },
    {
     "data": {
      "application/vnd.jupyter.widget-view+json": {
       "model_id": "0278784135cf49bbb420483b257e5c93",
       "version_major": 2,
       "version_minor": 0
      },
      "text/plain": [
       "  0%|          | 0/100 [00:00<?, ?it/s]"
      ]
     },
     "metadata": {},
     "output_type": "display_data"
    },
    {
     "name": "stdout",
     "output_type": "stream",
     "text": [
      "{'eval_loss': 7.133068720577285e-05, 'eval_model_preparation_time': 0.0019, 'eval_accuracy': 1.0, 'eval_precision': [1.0, 1.0], 'eval_recall': [1.0, 1.0], 'eval_f1': [1.0, 1.0], 'eval_roc_auc': 1.0, 'eval_sk_roc_auc': 1.0, 'eval_runtime': 20.2319, 'eval_samples_per_second': 79.083, 'eval_steps_per_second': 4.943}\n",
      "models/train_conf_reddit_train_wiki_csai_open_qa_medicine_llama_head_only_False/checkpoint-1516/eval/reddit_test_llama/test_results.json\n",
      "Test set:\n",
      "Counter({0: 842, 1: 842})\n",
      "Tokenizing and mapping...\n"
     ]
    },
    {
     "data": {
      "application/vnd.jupyter.widget-view+json": {
       "model_id": "a9652c17d9134940811fbbd8317bcd3b",
       "version_major": 2,
       "version_minor": 0
      },
      "text/plain": [
       "Map:   0%|          | 0/1684 [00:00<?, ? examples/s]"
      ]
     },
     "metadata": {},
     "output_type": "display_data"
    },
    {
     "data": {
      "application/vnd.jupyter.widget-view+json": {
       "model_id": "9ea0be0a609743b5a667133b83d33a11",
       "version_major": 2,
       "version_minor": 0
      },
      "text/plain": [
       "  0%|          | 0/106 [00:00<?, ?it/s]"
      ]
     },
     "metadata": {},
     "output_type": "display_data"
    },
    {
     "name": "stdout",
     "output_type": "stream",
     "text": [
      "{'eval_loss': 0.011045468039810658, 'eval_model_preparation_time': 0.0019, 'eval_accuracy': 0.997624703087886, 'eval_precision': [1.0, 0.9952718676122931], 'eval_recall': [0.995249406175772, 1.0], 'eval_f1': [0.9976190476190476, 0.9976303317535545], 'eval_roc_auc': 1.0, 'eval_sk_roc_auc': 1.0, 'eval_runtime': 17.6353, 'eval_samples_per_second': 95.49, 'eval_steps_per_second': 6.011}\n",
      "models/train_conf_reddit_train_wiki_csai_open_qa_medicine_llama_head_only_False/checkpoint-1516/eval/wiki_csai_llama/test_results.json\n",
      "Test set:\n",
      "Counter({0: 842, 1: 842})\n",
      "Tokenizing and mapping...\n"
     ]
    },
    {
     "data": {
      "application/vnd.jupyter.widget-view+json": {
       "model_id": "2434c6ecf2d04a86bd58a0c5758b6c3c",
       "version_major": 2,
       "version_minor": 0
      },
      "text/plain": [
       "Map:   0%|          | 0/1684 [00:00<?, ? examples/s]"
      ]
     },
     "metadata": {},
     "output_type": "display_data"
    },
    {
     "data": {
      "application/vnd.jupyter.widget-view+json": {
       "model_id": "60ca8da2730046e2ad22c3ad6878f6cb",
       "version_major": 2,
       "version_minor": 0
      },
      "text/plain": [
       "  0%|          | 0/106 [00:00<?, ?it/s]"
      ]
     },
     "metadata": {},
     "output_type": "display_data"
    },
    {
     "name": "stdout",
     "output_type": "stream",
     "text": [
      "{'eval_loss': 8.375802281079814e-05, 'eval_model_preparation_time': 0.0018, 'eval_accuracy': 1.0, 'eval_precision': [1.0, 1.0], 'eval_recall': [1.0, 1.0], 'eval_f1': [1.0, 1.0], 'eval_roc_auc': 1.0, 'eval_sk_roc_auc': 1.0, 'eval_runtime': 20.7536, 'eval_samples_per_second': 81.142, 'eval_steps_per_second': 5.108}\n",
      "models/train_conf_reddit_train_wiki_csai_open_qa_medicine_llama_head_only_False/checkpoint-1516/eval/open_qa_llama/test_results.json\n",
      "Test set:\n",
      "Counter({0: 842, 1: 842})\n",
      "Tokenizing and mapping...\n"
     ]
    },
    {
     "data": {
      "application/vnd.jupyter.widget-view+json": {
       "model_id": "c8ff1bf53e014da985eb7532861dc8c9",
       "version_major": 2,
       "version_minor": 0
      },
      "text/plain": [
       "Map:   0%|          | 0/1684 [00:00<?, ? examples/s]"
      ]
     },
     "metadata": {},
     "output_type": "display_data"
    },
    {
     "data": {
      "application/vnd.jupyter.widget-view+json": {
       "model_id": "18c99c22adec4f728bbed32c18016150",
       "version_major": 2,
       "version_minor": 0
      },
      "text/plain": [
       "  0%|          | 0/106 [00:00<?, ?it/s]"
      ]
     },
     "metadata": {},
     "output_type": "display_data"
    },
    {
     "name": "stdout",
     "output_type": "stream",
     "text": [
      "{'eval_loss': 0.9622312784194946, 'eval_model_preparation_time': 0.0019, 'eval_accuracy': 0.8652019002375297, 'eval_precision': [0.9967689822294022, 0.7887323943661971], 'eval_recall': [0.7327790973871734, 0.997624703087886], 'eval_f1': [0.8446269678302533, 0.8809648662821186], 'eval_roc_auc': 0.9954066779131238, 'eval_sk_roc_auc': 0.9954066779131238, 'eval_runtime': 18.1312, 'eval_samples_per_second': 92.879, 'eval_steps_per_second': 5.846}\n",
      "models/train_conf_reddit_train_wiki_csai_open_qa_medicine_llama_head_only_False/checkpoint-1516/eval/finance_llama/test_results.json\n",
      "Test set:\n",
      "Counter({0: 842, 1: 842})\n",
      "Tokenizing and mapping...\n"
     ]
    },
    {
     "data": {
      "application/vnd.jupyter.widget-view+json": {
       "model_id": "356626e0de1f46fda2e519ef31167357",
       "version_major": 2,
       "version_minor": 0
      },
      "text/plain": [
       "Map:   0%|          | 0/1684 [00:00<?, ? examples/s]"
      ]
     },
     "metadata": {},
     "output_type": "display_data"
    },
    {
     "data": {
      "application/vnd.jupyter.widget-view+json": {
       "model_id": "4f0e15774dbe44c3b2ab70df2429cc75",
       "version_major": 2,
       "version_minor": 0
      },
      "text/plain": [
       "  0%|          | 0/106 [00:00<?, ?it/s]"
      ]
     },
     "metadata": {},
     "output_type": "display_data"
    },
    {
     "name": "stdout",
     "output_type": "stream",
     "text": [
      "{'eval_loss': 0.013949067331850529, 'eval_model_preparation_time': 0.0019, 'eval_accuracy': 0.9982185273159145, 'eval_precision': [0.9988109393579072, 0.9976275207591934], 'eval_recall': [0.997624703087886, 0.998812351543943], 'eval_f1': [0.9982174688057041, 0.9982195845697329], 'eval_roc_auc': 0.999984484402593, 'eval_sk_roc_auc': 0.999984484402593, 'eval_runtime': 19.0898, 'eval_samples_per_second': 88.214, 'eval_steps_per_second': 5.553}\n",
      "models/train_conf_reddit_train_wiki_csai_open_qa_medicine_llama_head_only_False/checkpoint-1516/eval/medicine_llama/test_results.json\n",
      "Test set:\n",
      "Counter({0: 800, 1: 800})\n",
      "Tokenizing and mapping...\n"
     ]
    },
    {
     "data": {
      "application/vnd.jupyter.widget-view+json": {
       "model_id": "532e11e8fe044a8696b8a2b96747a811",
       "version_major": 2,
       "version_minor": 0
      },
      "text/plain": [
       "Map:   0%|          | 0/1600 [00:00<?, ? examples/s]"
      ]
     },
     "metadata": {},
     "output_type": "display_data"
    },
    {
     "data": {
      "application/vnd.jupyter.widget-view+json": {
       "model_id": "a3327404512745c09439d4f08bb8331e",
       "version_major": 2,
       "version_minor": 0
      },
      "text/plain": [
       "  0%|          | 0/100 [00:00<?, ?it/s]"
      ]
     },
     "metadata": {},
     "output_type": "display_data"
    },
    {
     "name": "stdout",
     "output_type": "stream",
     "text": [
      "{'eval_loss': 2.732691791607067e-05, 'eval_model_preparation_time': 0.0019, 'eval_accuracy': 1.0, 'eval_precision': [1.0, 1.0], 'eval_recall': [1.0, 1.0], 'eval_f1': [1.0, 1.0], 'eval_roc_auc': 1.0, 'eval_sk_roc_auc': 1.0, 'eval_runtime': 17.0245, 'eval_samples_per_second': 93.982, 'eval_steps_per_second': 5.874}\n",
      "models/train_conf_reddit_train_wiki_csai_open_qa_finance_llama_head_only_False/checkpoint-1516/eval/reddit_test_llama/test_results.json\n",
      "Test set:\n",
      "Counter({0: 842, 1: 842})\n",
      "Tokenizing and mapping...\n"
     ]
    },
    {
     "data": {
      "application/vnd.jupyter.widget-view+json": {
       "model_id": "031fb0886e3647e6bdc443590f277359",
       "version_major": 2,
       "version_minor": 0
      },
      "text/plain": [
       "Map:   0%|          | 0/1684 [00:00<?, ? examples/s]"
      ]
     },
     "metadata": {},
     "output_type": "display_data"
    },
    {
     "data": {
      "application/vnd.jupyter.widget-view+json": {
       "model_id": "94bfe7bc03fd404f9369dccdd5d4722f",
       "version_major": 2,
       "version_minor": 0
      },
      "text/plain": [
       "  0%|          | 0/106 [00:00<?, ?it/s]"
      ]
     },
     "metadata": {},
     "output_type": "display_data"
    },
    {
     "name": "stdout",
     "output_type": "stream",
     "text": [
      "{'eval_loss': 0.019343120977282524, 'eval_model_preparation_time': 0.0031, 'eval_accuracy': 0.9958432304038005, 'eval_precision': [1.0, 0.9917550058892816], 'eval_recall': [0.9916864608076009, 1.0], 'eval_f1': [0.9958258795468098, 0.9958604376108812], 'eval_roc_auc': 0.9999985894911448, 'eval_sk_roc_auc': 0.9999985894911448, 'eval_runtime': 18.7136, 'eval_samples_per_second': 89.988, 'eval_steps_per_second': 5.664}\n",
      "models/train_conf_reddit_train_wiki_csai_open_qa_finance_llama_head_only_False/checkpoint-1516/eval/wiki_csai_llama/test_results.json\n",
      "Test set:\n",
      "Counter({0: 842, 1: 842})\n",
      "Tokenizing and mapping...\n"
     ]
    },
    {
     "data": {
      "application/vnd.jupyter.widget-view+json": {
       "model_id": "356efffdbbb04ddba931bea181a3859d",
       "version_major": 2,
       "version_minor": 0
      },
      "text/plain": [
       "Map:   0%|          | 0/1684 [00:00<?, ? examples/s]"
      ]
     },
     "metadata": {},
     "output_type": "display_data"
    },
    {
     "data": {
      "application/vnd.jupyter.widget-view+json": {
       "model_id": "ae396dada9ad4f1896c975017d4f2f28",
       "version_major": 2,
       "version_minor": 0
      },
      "text/plain": [
       "  0%|          | 0/106 [00:00<?, ?it/s]"
      ]
     },
     "metadata": {},
     "output_type": "display_data"
    },
    {
     "name": "stdout",
     "output_type": "stream",
     "text": [
      "{'eval_loss': 0.0018564632628113031, 'eval_model_preparation_time': 0.0018, 'eval_accuracy': 0.9994061757719715, 'eval_precision': [0.9988137603795967, 1.0], 'eval_recall': [1.0, 0.998812351543943], 'eval_f1': [0.9994065281899109, 0.9994058229352347], 'eval_roc_auc': 0.9999985894911448, 'eval_sk_roc_auc': 0.9999985894911448, 'eval_runtime': 13.9652, 'eval_samples_per_second': 120.585, 'eval_steps_per_second': 7.59}\n",
      "models/train_conf_reddit_train_wiki_csai_open_qa_finance_llama_head_only_False/checkpoint-1516/eval/open_qa_llama/test_results.json\n",
      "Test set:\n",
      "Counter({0: 842, 1: 842})\n",
      "Tokenizing and mapping...\n"
     ]
    },
    {
     "data": {
      "application/vnd.jupyter.widget-view+json": {
       "model_id": "03bacc5f7fc74ac48f81267c93035fde",
       "version_major": 2,
       "version_minor": 0
      },
      "text/plain": [
       "Map:   0%|          | 0/1684 [00:00<?, ? examples/s]"
      ]
     },
     "metadata": {},
     "output_type": "display_data"
    },
    {
     "data": {
      "application/vnd.jupyter.widget-view+json": {
       "model_id": "592f6391b4b24666be0f6acc05d866cc",
       "version_major": 2,
       "version_minor": 0
      },
      "text/plain": [
       "  0%|          | 0/106 [00:00<?, ?it/s]"
      ]
     },
     "metadata": {},
     "output_type": "display_data"
    },
    {
     "name": "stdout",
     "output_type": "stream",
     "text": [
      "{'eval_loss': 0.05029089376330376, 'eval_model_preparation_time': 0.0018, 'eval_accuracy': 0.9893111638954869, 'eval_precision': [1.0, 0.9790697674418605], 'eval_recall': [0.9786223277909739, 1.0], 'eval_f1': [0.9891956782713085, 0.9894242068155111], 'eval_roc_auc': 0.9999830738937379, 'eval_sk_roc_auc': 0.9999830738937379, 'eval_runtime': 17.6477, 'eval_samples_per_second': 95.423, 'eval_steps_per_second': 6.006}\n",
      "models/train_conf_reddit_train_wiki_csai_open_qa_finance_llama_head_only_False/checkpoint-1516/eval/finance_llama/test_results.json\n",
      "Test set:\n",
      "Counter({0: 842, 1: 842})\n",
      "Tokenizing and mapping...\n"
     ]
    },
    {
     "data": {
      "application/vnd.jupyter.widget-view+json": {
       "model_id": "9ed9f7dd7b0042a4a8b1c1de3b798844",
       "version_major": 2,
       "version_minor": 0
      },
      "text/plain": [
       "Map:   0%|          | 0/1684 [00:00<?, ? examples/s]"
      ]
     },
     "metadata": {},
     "output_type": "display_data"
    },
    {
     "data": {
      "application/vnd.jupyter.widget-view+json": {
       "model_id": "d906d7e37f5b4f618c24ef66eb77c5c0",
       "version_major": 2,
       "version_minor": 0
      },
      "text/plain": [
       "  0%|          | 0/106 [00:00<?, ?it/s]"
      ]
     },
     "metadata": {},
     "output_type": "display_data"
    },
    {
     "name": "stdout",
     "output_type": "stream",
     "text": [
      "{'eval_loss': 0.5738592147827148, 'eval_model_preparation_time': 0.0019, 'eval_accuracy': 0.9091448931116389, 'eval_precision': [0.9985528219971056, 0.8469284994964753], 'eval_recall': [0.8194774346793349, 0.998812351543943], 'eval_f1': [0.9001956947162426, 0.9166212534059945], 'eval_roc_auc': 0.9982890527586732, 'eval_sk_roc_auc': 0.9982890527586732, 'eval_runtime': 14.7977, 'eval_samples_per_second': 113.802, 'eval_steps_per_second': 7.163}\n",
      "models/train_conf_reddit_train_wiki_csai_open_qa_finance_llama_head_only_False/checkpoint-1516/eval/medicine_llama/test_results.json\n",
      "Test set:\n",
      "Counter({0: 800, 1: 800})\n",
      "Tokenizing and mapping...\n"
     ]
    },
    {
     "data": {
      "application/vnd.jupyter.widget-view+json": {
       "model_id": "5de5fd444ece4e9988f61f56ea9f83a8",
       "version_major": 2,
       "version_minor": 0
      },
      "text/plain": [
       "Map:   0%|          | 0/1600 [00:00<?, ? examples/s]"
      ]
     },
     "metadata": {},
     "output_type": "display_data"
    },
    {
     "data": {
      "application/vnd.jupyter.widget-view+json": {
       "model_id": "91dd5a4fe1a94c00a2a4f8f768ae6dc7",
       "version_major": 2,
       "version_minor": 0
      },
      "text/plain": [
       "  0%|          | 0/100 [00:00<?, ?it/s]"
      ]
     },
     "metadata": {},
     "output_type": "display_data"
    },
    {
     "name": "stdout",
     "output_type": "stream",
     "text": [
      "{'eval_loss': 5.092278297524899e-05, 'eval_model_preparation_time': 0.0019, 'eval_accuracy': 1.0, 'eval_precision': [1.0, 1.0], 'eval_recall': [1.0, 1.0], 'eval_f1': [1.0, 1.0], 'eval_roc_auc': 1.0, 'eval_sk_roc_auc': 1.0, 'eval_runtime': 17.7996, 'eval_samples_per_second': 89.89, 'eval_steps_per_second': 5.618}\n",
      "models/train_conf_reddit_train_wiki_csai_open_qa_finance_medicine_llama_head_only_False/checkpoint-1895/eval/reddit_test_llama/test_results.json\n",
      "Test set:\n",
      "Counter({0: 842, 1: 842})\n",
      "Tokenizing and mapping...\n"
     ]
    },
    {
     "data": {
      "application/vnd.jupyter.widget-view+json": {
       "model_id": "b36401d0429b4414b4e36975ce6d05ac",
       "version_major": 2,
       "version_minor": 0
      },
      "text/plain": [
       "Map:   0%|          | 0/1684 [00:00<?, ? examples/s]"
      ]
     },
     "metadata": {},
     "output_type": "display_data"
    },
    {
     "data": {
      "application/vnd.jupyter.widget-view+json": {
       "model_id": "abb64ac727244c67bf5821eebfe2cc20",
       "version_major": 2,
       "version_minor": 0
      },
      "text/plain": [
       "  0%|          | 0/106 [00:00<?, ?it/s]"
      ]
     },
     "metadata": {},
     "output_type": "display_data"
    },
    {
     "name": "stdout",
     "output_type": "stream",
     "text": [
      "{'eval_loss': 0.01706535369157791, 'eval_model_preparation_time': 0.0019, 'eval_accuracy': 0.9970308788598575, 'eval_precision': [1.0, 0.9940968122786304], 'eval_recall': [0.994061757719715, 1.0], 'eval_f1': [0.9970220369267421, 0.9970396684428656], 'eval_roc_auc': 0.9999971789822897, 'eval_sk_roc_auc': 0.9999971789822897, 'eval_runtime': 18.9514, 'eval_samples_per_second': 88.859, 'eval_steps_per_second': 5.593}\n",
      "models/train_conf_reddit_train_wiki_csai_open_qa_finance_medicine_llama_head_only_False/checkpoint-1895/eval/wiki_csai_llama/test_results.json\n",
      "Test set:\n",
      "Counter({0: 842, 1: 842})\n",
      "Tokenizing and mapping...\n"
     ]
    },
    {
     "data": {
      "application/vnd.jupyter.widget-view+json": {
       "model_id": "313d7cb5e08c4f6395003321b592d251",
       "version_major": 2,
       "version_minor": 0
      },
      "text/plain": [
       "Map:   0%|          | 0/1684 [00:00<?, ? examples/s]"
      ]
     },
     "metadata": {},
     "output_type": "display_data"
    },
    {
     "data": {
      "application/vnd.jupyter.widget-view+json": {
       "model_id": "8101e360ce6b4963920238cbf8faa421",
       "version_major": 2,
       "version_minor": 0
      },
      "text/plain": [
       "  0%|          | 0/106 [00:00<?, ?it/s]"
      ]
     },
     "metadata": {},
     "output_type": "display_data"
    },
    {
     "name": "stdout",
     "output_type": "stream",
     "text": [
      "{'eval_loss': 0.0071559930220246315, 'eval_model_preparation_time': 0.0019, 'eval_accuracy': 0.998812351543943, 'eval_precision': [1.0, 0.9976303317535545], 'eval_recall': [0.997624703087886, 1.0], 'eval_f1': [0.9988109393579072, 0.9988137603795967], 'eval_roc_auc': 0.9999985894911448, 'eval_sk_roc_auc': 0.9999985894911448, 'eval_runtime': 19.7349, 'eval_samples_per_second': 85.331, 'eval_steps_per_second': 5.371}\n",
      "models/train_conf_reddit_train_wiki_csai_open_qa_finance_medicine_llama_head_only_False/checkpoint-1895/eval/open_qa_llama/test_results.json\n",
      "Test set:\n",
      "Counter({0: 842, 1: 842})\n",
      "Tokenizing and mapping...\n"
     ]
    },
    {
     "data": {
      "application/vnd.jupyter.widget-view+json": {
       "model_id": "9f67c49fb03d4edd8285cbb3c53524d5",
       "version_major": 2,
       "version_minor": 0
      },
      "text/plain": [
       "Map:   0%|          | 0/1684 [00:00<?, ? examples/s]"
      ]
     },
     "metadata": {},
     "output_type": "display_data"
    },
    {
     "data": {
      "application/vnd.jupyter.widget-view+json": {
       "model_id": "8af4dc8b57cd4b9cbceece7d1f5e23b4",
       "version_major": 2,
       "version_minor": 0
      },
      "text/plain": [
       "  0%|          | 0/106 [00:00<?, ?it/s]"
      ]
     },
     "metadata": {},
     "output_type": "display_data"
    },
    {
     "name": "stdout",
     "output_type": "stream",
     "text": [
      "{'eval_loss': 0.020708199590444565, 'eval_model_preparation_time': 0.0019, 'eval_accuracy': 0.9958432304038005, 'eval_precision': [1.0, 0.9917550058892816], 'eval_recall': [0.9916864608076009, 1.0], 'eval_f1': [0.9958258795468098, 0.9958604376108812], 'eval_roc_auc': 0.9999858949114483, 'eval_sk_roc_auc': 0.9999858949114483, 'eval_runtime': 23.6398, 'eval_samples_per_second': 71.236, 'eval_steps_per_second': 4.484}\n",
      "models/train_conf_reddit_train_wiki_csai_open_qa_finance_medicine_llama_head_only_False/checkpoint-1895/eval/finance_llama/test_results.json\n",
      "Test set:\n",
      "Counter({0: 842, 1: 842})\n",
      "Tokenizing and mapping...\n"
     ]
    },
    {
     "data": {
      "application/vnd.jupyter.widget-view+json": {
       "model_id": "c33b4f592f9443d08ead06656639828d",
       "version_major": 2,
       "version_minor": 0
      },
      "text/plain": [
       "Map:   0%|          | 0/1684 [00:00<?, ? examples/s]"
      ]
     },
     "metadata": {},
     "output_type": "display_data"
    },
    {
     "data": {
      "application/vnd.jupyter.widget-view+json": {
       "model_id": "2d61b44ff5844d6c9b94517e1bf5d13c",
       "version_major": 2,
       "version_minor": 0
      },
      "text/plain": [
       "  0%|          | 0/106 [00:00<?, ?it/s]"
      ]
     },
     "metadata": {},
     "output_type": "display_data"
    },
    {
     "name": "stdout",
     "output_type": "stream",
     "text": [
      "{'eval_loss': 0.01449141837656498, 'eval_model_preparation_time': 0.0018, 'eval_accuracy': 0.9982185273159145, 'eval_precision': [0.9988109393579072, 0.9976275207591934], 'eval_recall': [0.997624703087886, 0.998812351543943], 'eval_f1': [0.9982174688057041, 0.9982195845697329], 'eval_roc_auc': 0.999854717587917, 'eval_sk_roc_auc': 0.999854717587917, 'eval_runtime': 18.553, 'eval_samples_per_second': 90.767, 'eval_steps_per_second': 5.713}\n",
      "models/train_conf_reddit_train_wiki_csai_open_qa_finance_medicine_llama_head_only_False/checkpoint-1895/eval/medicine_llama/test_results.json\n",
      "Test set:\n",
      "Counter({0: 800, 1: 800})\n",
      "Tokenizing and mapping...\n"
     ]
    },
    {
     "data": {
      "application/vnd.jupyter.widget-view+json": {
       "model_id": "ec570a5e42ff4456ae65c5dd8dc3efb8",
       "version_major": 2,
       "version_minor": 0
      },
      "text/plain": [
       "Map:   0%|          | 0/1600 [00:00<?, ? examples/s]"
      ]
     },
     "metadata": {},
     "output_type": "display_data"
    },
    {
     "data": {
      "application/vnd.jupyter.widget-view+json": {
       "model_id": "ea183d65b47e42548f0e1771d105cfe9",
       "version_major": 2,
       "version_minor": 0
      },
      "text/plain": [
       "  0%|          | 0/100 [00:00<?, ?it/s]"
      ]
     },
     "metadata": {},
     "output_type": "display_data"
    },
    {
     "name": "stdout",
     "output_type": "stream",
     "text": [
      "{'eval_loss': 0.003134889993816614, 'eval_model_preparation_time': 0.0019, 'eval_accuracy': 0.999375, 'eval_precision': [1.0, 0.9987515605493134], 'eval_recall': [0.99875, 1.0], 'eval_f1': [0.9993746091307066, 0.9993753903810119], 'eval_roc_auc': 0.9999999999999999, 'eval_sk_roc_auc': 0.9999999999999999, 'eval_runtime': 14.8917, 'eval_samples_per_second': 107.443, 'eval_steps_per_second': 6.715}\n",
      "models/train_conf_reddit_train_llama_head_only_False/checkpoint-1170/eval/reddit_test_llama/test_results.json\n",
      "Test set:\n",
      "Counter({0: 842, 1: 842})\n",
      "Tokenizing and mapping...\n"
     ]
    },
    {
     "data": {
      "application/vnd.jupyter.widget-view+json": {
       "model_id": "e04d64751b2e4a80a521dc47fe0f1405",
       "version_major": 2,
       "version_minor": 0
      },
      "text/plain": [
       "Map:   0%|          | 0/1684 [00:00<?, ? examples/s]"
      ]
     },
     "metadata": {},
     "output_type": "display_data"
    },
    {
     "data": {
      "application/vnd.jupyter.widget-view+json": {
       "model_id": "72ead30dd654466da9b4170d4cc8d559",
       "version_major": 2,
       "version_minor": 0
      },
      "text/plain": [
       "  0%|          | 0/106 [00:00<?, ?it/s]"
      ]
     },
     "metadata": {},
     "output_type": "display_data"
    },
    {
     "name": "stdout",
     "output_type": "stream",
     "text": [
      "{'eval_loss': 5.702249526977539, 'eval_model_preparation_time': 0.0019, 'eval_accuracy': 0.5017814726840855, 'eval_precision': [1.0, 0.5008923259964307], 'eval_recall': [0.0035629453681710215, 1.0], 'eval_f1': [0.007100591715976331, 0.6674593737613952], 'eval_roc_auc': 0.6422512285532129, 'eval_sk_roc_auc': 0.6422512285532129, 'eval_runtime': 19.4661, 'eval_samples_per_second': 86.509, 'eval_steps_per_second': 5.445}\n",
      "models/train_conf_reddit_train_llama_head_only_False/checkpoint-1170/eval/wiki_csai_llama/test_results.json\n",
      "Test set:\n",
      "Counter({0: 842, 1: 842})\n",
      "Tokenizing and mapping...\n"
     ]
    },
    {
     "data": {
      "application/vnd.jupyter.widget-view+json": {
       "model_id": "e25b43c622984d40bd2c3fc7ff8c1640",
       "version_major": 2,
       "version_minor": 0
      },
      "text/plain": [
       "Map:   0%|          | 0/1684 [00:00<?, ? examples/s]"
      ]
     },
     "metadata": {},
     "output_type": "display_data"
    },
    {
     "data": {
      "application/vnd.jupyter.widget-view+json": {
       "model_id": "dd4d262f7d50490384a799c821243d0f",
       "version_major": 2,
       "version_minor": 0
      },
      "text/plain": [
       "  0%|          | 0/106 [00:00<?, ?it/s]"
      ]
     },
     "metadata": {},
     "output_type": "display_data"
    },
    {
     "name": "stdout",
     "output_type": "stream",
     "text": [
      "{'eval_loss': 2.0144476890563965, 'eval_model_preparation_time': 0.0019, 'eval_accuracy': 0.7790973871733967, 'eval_precision': [0.9978813559322034, 0.6938943894389439], 'eval_recall': [0.5593824228028503, 0.998812351543943], 'eval_f1': [0.7168949771689498, 0.818889970788705], 'eval_roc_auc': 0.9957959783571522, 'eval_sk_roc_auc': 0.9957959783571522, 'eval_runtime': 14.4366, 'eval_samples_per_second': 116.648, 'eval_steps_per_second': 7.342}\n",
      "models/train_conf_reddit_train_llama_head_only_False/checkpoint-1170/eval/open_qa_llama/test_results.json\n",
      "Test set:\n",
      "Counter({0: 842, 1: 842})\n",
      "Tokenizing and mapping...\n"
     ]
    },
    {
     "data": {
      "application/vnd.jupyter.widget-view+json": {
       "model_id": "57ec7ee995d44be8abc0f5b450e2677a",
       "version_major": 2,
       "version_minor": 0
      },
      "text/plain": [
       "Map:   0%|          | 0/1684 [00:00<?, ? examples/s]"
      ]
     },
     "metadata": {},
     "output_type": "display_data"
    },
    {
     "data": {
      "application/vnd.jupyter.widget-view+json": {
       "model_id": "a2153777c6144953a49a1f30018b74ef",
       "version_major": 2,
       "version_minor": 0
      },
      "text/plain": [
       "  0%|          | 0/106 [00:00<?, ?it/s]"
      ]
     },
     "metadata": {},
     "output_type": "display_data"
    },
    {
     "name": "stdout",
     "output_type": "stream",
     "text": [
      "{'eval_loss': 5.573138236999512, 'eval_model_preparation_time': 0.0019, 'eval_accuracy': 0.5077197149643705, 'eval_precision': [0.8823529411764706, 0.5038992201559688], 'eval_recall': [0.017814726840855107, 0.997624703087886], 'eval_f1': [0.034924330616996506, 0.6695894778796333], 'eval_roc_auc': 0.6190977256955219, 'eval_sk_roc_auc': 0.6190977256955219, 'eval_runtime': 24.5629, 'eval_samples_per_second': 68.559, 'eval_steps_per_second': 4.315}\n",
      "models/train_conf_reddit_train_llama_head_only_False/checkpoint-1170/eval/finance_llama/test_results.json\n",
      "Test set:\n",
      "Counter({0: 842, 1: 842})\n",
      "Tokenizing and mapping...\n"
     ]
    },
    {
     "data": {
      "application/vnd.jupyter.widget-view+json": {
       "model_id": "766282e7fb7b4490ab949335cfe84e6a",
       "version_major": 2,
       "version_minor": 0
      },
      "text/plain": [
       "Map:   0%|          | 0/1684 [00:00<?, ? examples/s]"
      ]
     },
     "metadata": {},
     "output_type": "display_data"
    },
    {
     "data": {
      "application/vnd.jupyter.widget-view+json": {
       "model_id": "a49283bc38444f2f97277be299098cc9",
       "version_major": 2,
       "version_minor": 0
      },
      "text/plain": [
       "  0%|          | 0/106 [00:00<?, ?it/s]"
      ]
     },
     "metadata": {},
     "output_type": "display_data"
    },
    {
     "name": "stdout",
     "output_type": "stream",
     "text": [
      "{'eval_loss': 4.667466163635254, 'eval_model_preparation_time': 0.0019, 'eval_accuracy': 0.5665083135391924, 'eval_precision': [0.9912280701754386, 0.5356687898089172], 'eval_recall': [0.1342042755344418, 0.998812351543943], 'eval_f1': [0.23640167364016737, 0.697346600331675], 'eval_roc_auc': 0.9740910680937254, 'eval_sk_roc_auc': 0.9740910680937254, 'eval_runtime': 19.2583, 'eval_samples_per_second': 87.443, 'eval_steps_per_second': 5.504}\n",
      "models/train_conf_reddit_train_llama_head_only_False/checkpoint-1170/eval/medicine_llama/test_results.json\n"
     ]
    },
    {
     "data": {
      "text/plain": [
       "[None, None, None, None, None, None, None]"
      ]
     },
     "execution_count": 8,
     "metadata": {},
     "output_type": "execute_result"
    }
   ],
   "source": [
    "model_names = [\"models/train_conf_wiki_csai_open_qa_finance_medicine_llama_head_only_False/checkpoint-1516\",\n",
    "               \"models/train_conf_reddit_train_open_qa_finance_medicine_llama_head_only_False/checkpoint-1516\",\n",
    "               \"models/train_conf_reddit_train_wiki_csai_finance_medicine_llama_head_only_False/checkpoint-1516\",\n",
    "               \"models/train_conf_reddit_train_wiki_csai_open_qa_medicine_llama_head_only_False/checkpoint-1516\",\n",
    "               \"models/train_conf_reddit_train_wiki_csai_open_qa_finance_llama_head_only_False/checkpoint-1516\",\n",
    "               \"models/train_conf_reddit_train_wiki_csai_open_qa_finance_medicine_llama_head_only_False/checkpoint-1895\",\n",
    "               \"models/train_conf_reddit_train_llama_head_only_False/checkpoint-1170\"]\n",
    "domains = [\"reddit_test\", \"wiki_csai\", \"open_qa\", \"finance\", \"medicine\"]\n",
    "[test_all_domains(f\"{model_name}\", \"llama\") for model_name in model_names]\n"
   ]
  },
  {
   "cell_type": "code",
   "execution_count": 7,
   "metadata": {},
   "outputs": [
    {
     "name": "stdout",
     "output_type": "stream",
     "text": [
      "NTO: reddit_test\n",
      "Domain\t\tAcc\tAUC\tpH\tpAI\trH\trAI\tf1H\tf1AI\n",
      "==============================================================================\n",
      "reddit_train   \t0.9925\t0.9999\t0.9852\t1.0000\t1.0000\t0.9850\t0.9926\t0.9924\n",
      "wiki_csai      \t0.9691\t0.9939\t0.9468\t0.9938\t0.9941\t0.9442\t0.9699\t0.9683\n",
      "open_qa        \t0.9026\t0.9888\t0.8383\t0.9971\t0.9976\t0.8076\t0.9111\t0.8924\n",
      "finance        \t0.9822\t0.9909\t0.9721\t0.9927\t0.9929\t0.9715\t0.9824\t0.9820\n",
      "medicine       \t0.9952\t0.9999\t0.9988\t0.9917\t0.9917\t0.9988\t0.9952\t0.9953\n",
      "\n",
      "\n",
      "\n",
      "NTO: wiki_csai\n",
      "Domain\t\tAcc\tAUC\tpH\tpAI\trH\trAI\tf1H\tf1AI\n",
      "==============================================================================\n",
      "reddit_train   \t0.9994\t1.0000\t0.9988\t1.0000\t1.0000\t0.9988\t0.9994\t0.9994\n",
      "wiki_csai      \t\u001b[91m0.7708\u001b[0m\t0.9819\t0.9770\t\u001b[91m0.6891\u001b[0m\t\u001b[91m0.5546\u001b[0m\t0.9869\t\u001b[91m0.7076\u001b[0m\t0.8115\n",
      "open_qa        \t0.9608\t0.9965\t0.9302\t0.9962\t0.9964\t0.9252\t0.9622\t0.9594\n",
      "finance        \t0.9656\t0.9925\t0.9375\t0.9975\t0.9976\t0.9335\t0.9666\t0.9644\n",
      "medicine       \t0.9935\t0.9999\t1.0000\t0.9871\t0.9869\t1.0000\t0.9934\t0.9935\n",
      "\n",
      "\n",
      "\n",
      "NTO: open_qa\n",
      "Domain\t\tAcc\tAUC\tpH\tpAI\trH\trAI\tf1H\tf1AI\n",
      "==============================================================================\n",
      "reddit_train   \t0.9925\t0.9999\t0.9852\t1.0000\t1.0000\t0.9850\t0.9926\t0.9924\n",
      "wiki_csai      \t0.9828\t0.9963\t0.9689\t0.9976\t0.9976\t0.9679\t0.9830\t0.9825\n",
      "open_qa        \t0.8961\t0.9856\t0.8338\t0.9869\t0.9893\t0.8029\t0.9049\t0.8854\n",
      "finance        \t0.9727\t0.9954\t0.9606\t0.9854\t0.9857\t0.9596\t0.9730\t0.9723\n",
      "medicine       \t0.9970\t1.0000\t1.0000\t0.9941\t0.9941\t1.0000\t0.9970\t0.9970\n",
      "\n",
      "\n",
      "\n",
      "NTO: finance\n",
      "Domain\t\tAcc\tAUC\tpH\tpAI\trH\trAI\tf1H\tf1AI\n",
      "==============================================================================\n",
      "reddit_train   \t0.9994\t1.0000\t0.9988\t1.0000\t1.0000\t0.9988\t0.9994\t0.9994\n",
      "wiki_csai      \t0.9840\t0.9995\t0.9733\t0.9951\t0.9952\t0.9727\t0.9841\t0.9838\n",
      "open_qa        \t0.9091\t0.9948\t0.8462\t1.0000\t1.0000\t0.8183\t0.9167\t0.9001\n",
      "finance        \t0.8456\t0.9624\t0.9463\t\u001b[91m0.7820\u001b[0m\t\u001b[91m0.7328\u001b[0m\t0.9584\t0.8260\t0.8613\n",
      "medicine       \t0.9947\t0.9999\t0.9917\t0.9976\t0.9976\t0.9917\t0.9947\t0.9946\n",
      "\n",
      "\n",
      "\n",
      "NTO: medicine\n",
      "Domain\t\tAcc\tAUC\tpH\tpAI\trH\trAI\tf1H\tf1AI\n",
      "==============================================================================\n",
      "reddit_train   \t0.9994\t1.0000\t0.9988\t1.0000\t1.0000\t0.9988\t0.9994\t0.9994\n",
      "wiki_csai      \t0.9828\t0.9982\t0.9743\t0.9915\t0.9917\t0.9739\t0.9829\t0.9826\n",
      "open_qa        \t0.9567\t0.9943\t0.9202\t1.0000\t1.0000\t0.9133\t0.9585\t0.9547\n",
      "finance        \t0.9822\t0.9987\t0.9856\t0.9788\t0.9786\t0.9857\t0.9821\t0.9822\n",
      "medicine       \t0.9097\t0.9996\t1.0000\t0.8471\t0.8195\t1.0000\t0.9008\t0.9172\n",
      "\n",
      "\n",
      "\n",
      "NTO: All\n",
      "Domain\t\tAcc\tAUC\tpH\tpAI\trH\trAI\tf1H\tf1AI\n",
      "==============================================================================\n",
      "reddit_train   \t0.9962\t1.0000\t0.9926\t1.0000\t1.0000\t0.9925\t0.9963\t0.9962\n",
      "wiki_csai      \t0.9828\t0.9954\t0.9721\t0.9939\t0.9941\t0.9715\t0.9830\t0.9826\n",
      "open_qa        \t0.9406\t0.9934\t0.8955\t0.9973\t0.9976\t0.8836\t0.9438\t0.9370\n",
      "finance        \t0.9798\t0.9916\t0.9687\t0.9915\t0.9917\t0.9679\t0.9800\t0.9796\n",
      "medicine       \t0.9982\t1.0000\t0.9988\t0.9976\t0.9976\t0.9988\t0.9982\t0.9982\n",
      "\n",
      "\n",
      "\n",
      "NTO: wiki_csai open_qa finance medicine\n",
      "Domain\t\tAcc\tAUC\tpH\tpAI\trH\trAI\tf1H\tf1AI\n",
      "==============================================================================\n",
      "reddit_train   \t0.9994\t1.0000\t1.0000\t0.9988\t0.9988\t1.0000\t0.9994\t0.9994\n",
      "wiki_csai      \t\u001b[91m0.5000\u001b[0m\t\u001b[91m0.7421\u001b[0m\t\u001b[91m0.5000\u001b[0m\t\u001b[91m0.5000\u001b[0m\t\u001b[91m0.0036\u001b[0m\t0.9964\t\u001b[91m0.0071\u001b[0m\t\u001b[91m0.6659\u001b[0m\n",
      "open_qa        \t\u001b[91m0.7743\u001b[0m\t0.9834\t0.9812\t\u001b[91m0.6919\u001b[0m\t\u001b[91m0.5594\u001b[0m\t0.9893\t\u001b[91m0.7126\u001b[0m\t0.8143\n",
      "finance        \t\u001b[91m0.5048\u001b[0m\t\u001b[91m0.7560\u001b[0m\t\u001b[91m0.6818\u001b[0m\t\u001b[91m0.5024\u001b[0m\t\u001b[91m0.0178\u001b[0m\t0.9917\t\u001b[91m0.0347\u001b[0m\t\u001b[91m0.6669\u001b[0m\n",
      "medicine       \t\u001b[91m0.5540\u001b[0m\t0.9622\t0.8370\t\u001b[91m0.5294\u001b[0m\t\u001b[91m0.1342\u001b[0m\t0.9739\t\u001b[91m0.2313\u001b[0m\t\u001b[91m0.6859\u001b[0m\n",
      "\n",
      "\n",
      "\n"
     ]
    },
    {
     "data": {
      "text/plain": [
       "[None, None, None, None, None, None, None]"
      ]
     },
     "execution_count": 7,
     "metadata": {},
     "output_type": "execute_result"
    }
   ],
   "source": [
    "print(\"trained with LLAMA tested with CHATGPT\")\n",
    "domain_names = [\"reddit_test\", \"wiki_csai\", \"open_qa\", \"finance\", \"medicine\", \"All\", \"wiki_csai open_qa finance medicine\"]\n",
    "[print_results(model_name=f\"{model_names[i]}\", test_generator=\"chatgpt\", not_trained_on=domain_names[i]) for i in range(7)]"
   ]
  },
  {
   "cell_type": "code",
   "execution_count": 9,
   "metadata": {},
   "outputs": [
    {
     "name": "stdout",
     "output_type": "stream",
     "text": [
      "trained with LLAMA tested with LLAMA\n",
      "NTO: reddit_test\n",
      "Domain\t\tAcc\tAUC\tpH\tpAI\trH\trAI\tf1H\tf1AI\n",
      "==============================================================================\n",
      "reddit_train   \t0.9731\t0.9999\t0.9490\t1.0000\t1.0000\t0.9463\t0.9738\t0.9724\n",
      "wiki_csai      \t0.9970\t1.0000\t1.0000\t0.9941\t0.9941\t1.0000\t0.9970\t0.9970\n",
      "open_qa        \t0.9988\t1.0000\t1.0000\t0.9976\t0.9976\t1.0000\t0.9988\t0.9988\n",
      "finance        \t0.9964\t1.0000\t1.0000\t0.9929\t0.9929\t1.0000\t0.9964\t0.9964\n",
      "medicine       \t0.9952\t0.9999\t0.9988\t0.9917\t0.9917\t0.9988\t0.9952\t0.9953\n",
      "\n",
      "\n",
      "\n",
      "NTO: wiki_csai\n",
      "Domain\t\tAcc\tAUC\tpH\tpAI\trH\trAI\tf1H\tf1AI\n",
      "==============================================================================\n",
      "reddit_train   \t1.0000\t1.0000\t1.0000\t1.0000\t1.0000\t1.0000\t1.0000\t1.0000\n",
      "wiki_csai      \t\u001b[91m0.7773\u001b[0m\t0.9977\t1.0000\t\u001b[91m0.6919\u001b[0m\t\u001b[91m0.5546\u001b[0m\t1.0000\t\u001b[91m0.7135\u001b[0m\t0.8179\n",
      "open_qa        \t0.9970\t1.0000\t0.9976\t0.9964\t0.9964\t0.9976\t0.9970\t0.9970\n",
      "finance        \t0.9976\t1.0000\t0.9976\t0.9976\t0.9976\t0.9976\t0.9976\t0.9976\n",
      "medicine       \t0.9929\t1.0000\t0.9988\t0.9871\t0.9869\t0.9988\t0.9928\t0.9929\n",
      "\n",
      "\n",
      "\n",
      "NTO: open_qa\n",
      "Domain\t\tAcc\tAUC\tpH\tpAI\trH\trAI\tf1H\tf1AI\n",
      "==============================================================================\n",
      "reddit_train   \t1.0000\t1.0000\t1.0000\t1.0000\t1.0000\t1.0000\t1.0000\t1.0000\n",
      "wiki_csai      \t0.9988\t1.0000\t1.0000\t0.9976\t0.9976\t1.0000\t0.9988\t0.9988\n",
      "open_qa        \t0.9917\t0.9998\t0.9940\t0.9894\t0.9893\t0.9941\t0.9917\t0.9917\n",
      "finance        \t0.9923\t0.9999\t0.9988\t0.9859\t0.9857\t0.9988\t0.9922\t0.9923\n",
      "medicine       \t0.9964\t1.0000\t0.9988\t0.9941\t0.9941\t0.9988\t0.9964\t0.9964\n",
      "\n",
      "\n",
      "\n",
      "NTO: finance\n",
      "Domain\t\tAcc\tAUC\tpH\tpAI\trH\trAI\tf1H\tf1AI\n",
      "==============================================================================\n",
      "reddit_train   \t1.0000\t1.0000\t1.0000\t1.0000\t1.0000\t1.0000\t1.0000\t1.0000\n",
      "wiki_csai      \t0.9976\t1.0000\t1.0000\t0.9953\t0.9952\t1.0000\t0.9976\t0.9976\n",
      "open_qa        \t1.0000\t1.0000\t1.0000\t1.0000\t1.0000\t1.0000\t1.0000\t1.0000\n",
      "finance        \t0.8652\t0.9954\t0.9968\t\u001b[91m0.7887\u001b[0m\t\u001b[91m0.7328\u001b[0m\t0.9976\t0.8446\t0.8810\n",
      "medicine       \t0.9982\t1.0000\t0.9988\t0.9976\t0.9976\t0.9988\t0.9982\t0.9982\n",
      "\n",
      "\n",
      "\n",
      "NTO: medicine\n",
      "Domain\t\tAcc\tAUC\tpH\tpAI\trH\trAI\tf1H\tf1AI\n",
      "==============================================================================\n",
      "reddit_train   \t1.0000\t1.0000\t1.0000\t1.0000\t1.0000\t1.0000\t1.0000\t1.0000\n",
      "wiki_csai      \t0.9958\t1.0000\t1.0000\t0.9918\t0.9917\t1.0000\t0.9958\t0.9959\n",
      "open_qa        \t0.9994\t1.0000\t0.9988\t1.0000\t1.0000\t0.9988\t0.9994\t0.9994\n",
      "finance        \t0.9893\t1.0000\t1.0000\t0.9791\t0.9786\t1.0000\t0.9892\t0.9894\n",
      "medicine       \t0.9091\t0.9983\t0.9986\t0.8469\t0.8195\t0.9988\t0.9002\t0.9166\n",
      "\n",
      "\n",
      "\n",
      "NTO: All\n",
      "Domain\t\tAcc\tAUC\tpH\tpAI\trH\trAI\tf1H\tf1AI\n",
      "==============================================================================\n",
      "reddit_train   \t1.0000\t1.0000\t1.0000\t1.0000\t1.0000\t1.0000\t1.0000\t1.0000\n",
      "wiki_csai      \t0.9970\t1.0000\t1.0000\t0.9941\t0.9941\t1.0000\t0.9970\t0.9970\n",
      "open_qa        \t0.9988\t1.0000\t1.0000\t0.9976\t0.9976\t1.0000\t0.9988\t0.9988\n",
      "finance        \t0.9958\t1.0000\t1.0000\t0.9918\t0.9917\t1.0000\t0.9958\t0.9959\n",
      "medicine       \t0.9982\t0.9999\t0.9988\t0.9976\t0.9976\t0.9988\t0.9982\t0.9982\n",
      "\n",
      "\n",
      "\n",
      "NTO: wiki_csai open_qa finance medicine\n",
      "Domain\t\tAcc\tAUC\tpH\tpAI\trH\trAI\tf1H\tf1AI\n",
      "==============================================================================\n",
      "reddit_train   \t0.9994\t1.0000\t1.0000\t0.9988\t0.9988\t1.0000\t0.9994\t0.9994\n",
      "wiki_csai      \t\u001b[91m0.5018\u001b[0m\t\u001b[91m0.6423\u001b[0m\t1.0000\t\u001b[91m0.5009\u001b[0m\t\u001b[91m0.0036\u001b[0m\t1.0000\t\u001b[91m0.0071\u001b[0m\t\u001b[91m0.6675\u001b[0m\n",
      "open_qa        \t\u001b[91m0.7791\u001b[0m\t0.9958\t0.9979\t\u001b[91m0.6939\u001b[0m\t\u001b[91m0.5594\u001b[0m\t0.9988\t\u001b[91m0.7169\u001b[0m\t0.8189\n",
      "finance        \t\u001b[91m0.5077\u001b[0m\t\u001b[91m0.6191\u001b[0m\t0.8824\t\u001b[91m0.5039\u001b[0m\t\u001b[91m0.0178\u001b[0m\t0.9976\t\u001b[91m0.0349\u001b[0m\t\u001b[91m0.6696\u001b[0m\n",
      "medicine       \t\u001b[91m0.5665\u001b[0m\t0.9741\t0.9912\t\u001b[91m0.5357\u001b[0m\t\u001b[91m0.1342\u001b[0m\t0.9988\t\u001b[91m0.2364\u001b[0m\t\u001b[91m0.6973\u001b[0m\n",
      "\n",
      "\n",
      "\n"
     ]
    },
    {
     "data": {
      "text/plain": [
       "[None, None, None, None, None, None, None]"
      ]
     },
     "execution_count": 9,
     "metadata": {},
     "output_type": "execute_result"
    }
   ],
   "source": [
    "print(\"trained with LLAMA tested with LLAMA\")\n",
    "domain_names = [\"reddit_test\", \"wiki_csai\", \"open_qa\", \"finance\", \"medicine\", \"All\", \"wiki_csai open_qa finance medicine\"]\n",
    "[print_results(model_name=f\"{model_names[i]}\", test_generator=\"llama\", not_trained_on=domain_names[i]) for i in range(7)]"
   ]
  }
 ],
 "metadata": {
  "kernelspec": {
   "display_name": "DL4NLP",
   "language": "python",
   "name": "python3"
  },
  "language_info": {
   "codemirror_mode": {
    "name": "ipython",
    "version": 3
   },
   "file_extension": ".py",
   "mimetype": "text/x-python",
   "name": "python",
   "nbconvert_exporter": "python",
   "pygments_lexer": "ipython3",
   "version": "3.11.9"
  }
 },
 "nbformat": 4,
 "nbformat_minor": 2
}
