{
 "cells": [
  {
   "cell_type": "code",
   "execution_count": 1,
   "metadata": {},
   "outputs": [],
   "source": [
    "%load_ext autoreload\n",
    "%autoreload 2"
   ]
  },
  {
   "cell_type": "code",
   "execution_count": 7,
   "metadata": {},
   "outputs": [],
   "source": [
    "import json\n",
    "from custom_test import test\n",
    "from utils import test_all_domains, colorize, print_results"
   ]
  },
  {
   "cell_type": "code",
   "execution_count": 11,
   "metadata": {},
   "outputs": [
    {
     "name": "stdout",
     "output_type": "stream",
     "text": [
      "models/train_conf_reddit_train_wiki_csai_open_qa_finance_medicine_chatgpt_head_only_False/checkpoint-1895\n"
     ]
    },
    {
     "data": {
      "application/vnd.jupyter.widget-view+json": {
       "model_id": "a3bb35ebe26d4765a12a78aea0cf949d",
       "version_major": 2,
       "version_minor": 0
      },
      "text/plain": [
       "README.md:   0%|          | 0.00/1.44k [00:00<?, ?B/s]"
      ]
     },
     "metadata": {},
     "output_type": "display_data"
    },
    {
     "data": {
      "application/vnd.jupyter.widget-view+json": {
       "model_id": "f4c21f1f60104e3085f24e5966f76fa3",
       "version_major": 2,
       "version_minor": 0
      },
      "text/plain": [
       "train-00000-of-00001.parquet:   0%|          | 0.00/15.2M [00:00<?, ?B/s]"
      ]
     },
     "metadata": {},
     "output_type": "display_data"
    },
    {
     "data": {
      "application/vnd.jupyter.widget-view+json": {
       "model_id": "c24ae7c6ad2b462fa06b6e5bace20286",
       "version_major": 2,
       "version_minor": 0
      },
      "text/plain": [
       "test-00000-of-00001.parquet:   0%|          | 0.00/4.15M [00:00<?, ?B/s]"
      ]
     },
     "metadata": {},
     "output_type": "display_data"
    },
    {
     "data": {
      "application/vnd.jupyter.widget-view+json": {
       "model_id": "1d595c1a9c544010a1a2276be5f062ba",
       "version_major": 2,
       "version_minor": 0
      },
      "text/plain": [
       "reddit_test-00000-of-00001.parquet:   0%|          | 0.00/2.18M [00:00<?, ?B/s]"
      ]
     },
     "metadata": {},
     "output_type": "display_data"
    },
    {
     "data": {
      "application/vnd.jupyter.widget-view+json": {
       "model_id": "e6259fd4a59b4a088638ef35bb1e2b8e",
       "version_major": 2,
       "version_minor": 0
      },
      "text/plain": [
       "wiki_csai-00000-of-00001.parquet:   0%|          | 0.00/2.03M [00:00<?, ?B/s]"
      ]
     },
     "metadata": {},
     "output_type": "display_data"
    },
    {
     "data": {
      "application/vnd.jupyter.widget-view+json": {
       "model_id": "4e1b0fef2ab24c19b704f649d0d51e76",
       "version_major": 2,
       "version_minor": 0
      },
      "text/plain": [
       "open_qa-00000-of-00001.parquet:   0%|          | 0.00/1.87M [00:00<?, ?B/s]"
      ]
     },
     "metadata": {},
     "output_type": "display_data"
    },
    {
     "data": {
      "application/vnd.jupyter.widget-view+json": {
       "model_id": "952f4dc6fece4593b9794fdc2c589adf",
       "version_major": 2,
       "version_minor": 0
      },
      "text/plain": [
       "finance-00000-of-00001.parquet:   0%|          | 0.00/2.07M [00:00<?, ?B/s]"
      ]
     },
     "metadata": {},
     "output_type": "display_data"
    },
    {
     "data": {
      "application/vnd.jupyter.widget-view+json": {
       "model_id": "fa4d9868ec014915b6c91926ae35af6f",
       "version_major": 2,
       "version_minor": 0
      },
      "text/plain": [
       "medicine-00000-of-00001.parquet:   0%|          | 0.00/1.94M [00:00<?, ?B/s]"
      ]
     },
     "metadata": {},
     "output_type": "display_data"
    },
    {
     "data": {
      "application/vnd.jupyter.widget-view+json": {
       "model_id": "557d010df7164ab9b887bdc7fd3b8906",
       "version_major": 2,
       "version_minor": 0
      },
      "text/plain": [
       "non_reddit_test-00000-of-00001.parquet:   0%|          | 0.00/7.92M [00:00<?, ?B/s]"
      ]
     },
     "metadata": {},
     "output_type": "display_data"
    },
    {
     "data": {
      "application/vnd.jupyter.widget-view+json": {
       "model_id": "e48ccaa57d4f485eb2b420d3c36dc20c",
       "version_major": 2,
       "version_minor": 0
      },
      "text/plain": [
       "Generating train split:   0%|          | 0/5200 [00:00<?, ? examples/s]"
      ]
     },
     "metadata": {},
     "output_type": "display_data"
    },
    {
     "data": {
      "application/vnd.jupyter.widget-view+json": {
       "model_id": "af2f8db6e70b46499268d856e19d5405",
       "version_major": 2,
       "version_minor": 0
      },
      "text/plain": [
       "Generating test split:   0%|          | 0/1600 [00:00<?, ? examples/s]"
      ]
     },
     "metadata": {},
     "output_type": "display_data"
    },
    {
     "data": {
      "application/vnd.jupyter.widget-view+json": {
       "model_id": "a90fcbb6bb9b471d9d0e1096867cc5eb",
       "version_major": 2,
       "version_minor": 0
      },
      "text/plain": [
       "Generating reddit_train split:   0%|          | 0/5200 [00:00<?, ? examples/s]"
      ]
     },
     "metadata": {},
     "output_type": "display_data"
    },
    {
     "data": {
      "application/vnd.jupyter.widget-view+json": {
       "model_id": "0f12f55c7a13416497ef8f18c5da6c49",
       "version_major": 2,
       "version_minor": 0
      },
      "text/plain": [
       "Generating reddit_test split:   0%|          | 0/800 [00:00<?, ? examples/s]"
      ]
     },
     "metadata": {},
     "output_type": "display_data"
    },
    {
     "data": {
      "application/vnd.jupyter.widget-view+json": {
       "model_id": "19628c40c637457da74d40ec74df8c9b",
       "version_major": 2,
       "version_minor": 0
      },
      "text/plain": [
       "Generating wiki_csai split:   0%|          | 0/842 [00:00<?, ? examples/s]"
      ]
     },
     "metadata": {},
     "output_type": "display_data"
    },
    {
     "data": {
      "application/vnd.jupyter.widget-view+json": {
       "model_id": "0db71928cc11447a9d9f424af8df934b",
       "version_major": 2,
       "version_minor": 0
      },
      "text/plain": [
       "Generating open_qa split:   0%|          | 0/842 [00:00<?, ? examples/s]"
      ]
     },
     "metadata": {},
     "output_type": "display_data"
    },
    {
     "data": {
      "application/vnd.jupyter.widget-view+json": {
       "model_id": "66d21c8bb71b4c0296f2f9f490de55b4",
       "version_major": 2,
       "version_minor": 0
      },
      "text/plain": [
       "Generating finance split:   0%|          | 0/842 [00:00<?, ? examples/s]"
      ]
     },
     "metadata": {},
     "output_type": "display_data"
    },
    {
     "data": {
      "application/vnd.jupyter.widget-view+json": {
       "model_id": "b1ac356f70ab4fae8d9cdc6279e528a4",
       "version_major": 2,
       "version_minor": 0
      },
      "text/plain": [
       "Generating medicine split:   0%|          | 0/842 [00:00<?, ? examples/s]"
      ]
     },
     "metadata": {},
     "output_type": "display_data"
    },
    {
     "data": {
      "application/vnd.jupyter.widget-view+json": {
       "model_id": "49df7d51b53f4f3fa80f42ec80242bb9",
       "version_major": 2,
       "version_minor": 0
      },
      "text/plain": [
       "Generating non_reddit_test split:   0%|          | 0/3368 [00:00<?, ? examples/s]"
      ]
     },
     "metadata": {},
     "output_type": "display_data"
    },
    {
     "name": "stdout",
     "output_type": "stream",
     "text": [
      "Test set:\n",
      "Counter({0: 800, 1: 800})\n",
      "Tokenizing and mapping...\n"
     ]
    },
    {
     "data": {
      "application/vnd.jupyter.widget-view+json": {
       "model_id": "b019b1e97bf1473fa801d03b783d0d3d",
       "version_major": 2,
       "version_minor": 0
      },
      "text/plain": [
       "Map:   0%|          | 0/1600 [00:00<?, ? examples/s]"
      ]
     },
     "metadata": {},
     "output_type": "display_data"
    },
    {
     "data": {
      "application/vnd.jupyter.widget-view+json": {
       "model_id": "1ec521de8cf24639876ff49f13b6d49c",
       "version_major": 2,
       "version_minor": 0
      },
      "text/plain": [
       "  0%|          | 0/100 [00:00<?, ?it/s]"
      ]
     },
     "metadata": {},
     "output_type": "display_data"
    },
    {
     "name": "stdout",
     "output_type": "stream",
     "text": [
      "{'eval_loss': 5.90186937188264e-05, 'eval_model_preparation_time': 0.0019, 'eval_accuracy': 1.0, 'eval_precision': [1.0, 1.0], 'eval_recall': [1.0, 1.0], 'eval_f1': [1.0, 1.0], 'eval_roc_auc': 1.0, 'eval_sk_roc_auc': 1.0, 'eval_runtime': 15.6244, 'eval_samples_per_second': 102.404, 'eval_steps_per_second': 6.4}\n",
      "models/train_conf_reddit_train_wiki_csai_open_qa_finance_medicine_chatgpt_head_only_False/checkpoint-1895/eval/reddit_test_chatgpt/test_results.json\n",
      "models/train_conf_reddit_train_wiki_csai_open_qa_finance_medicine_chatgpt_head_only_False/checkpoint-1895\n",
      "Test set:\n",
      "Counter({0: 842, 1: 842})\n",
      "Tokenizing and mapping...\n"
     ]
    },
    {
     "data": {
      "application/vnd.jupyter.widget-view+json": {
       "model_id": "5adfe56aab224c3ca5e8069f7ce080ba",
       "version_major": 2,
       "version_minor": 0
      },
      "text/plain": [
       "Map:   0%|          | 0/1684 [00:00<?, ? examples/s]"
      ]
     },
     "metadata": {},
     "output_type": "display_data"
    },
    {
     "data": {
      "application/vnd.jupyter.widget-view+json": {
       "model_id": "5c8b21783d654b809daef20523d86392",
       "version_major": 2,
       "version_minor": 0
      },
      "text/plain": [
       "  0%|          | 0/106 [00:00<?, ?it/s]"
      ]
     },
     "metadata": {},
     "output_type": "display_data"
    },
    {
     "name": "stdout",
     "output_type": "stream",
     "text": [
      "{'eval_loss': 0.10448674857616425, 'eval_model_preparation_time': 0.0019, 'eval_accuracy': 0.982185273159145, 'eval_precision': [1.0, 0.9655963302752294], 'eval_recall': [0.9643705463182898, 1.0], 'eval_f1': [0.9818621523579202, 0.9824970828471412], 'eval_roc_auc': 0.9999118431965516, 'eval_sk_roc_auc': 0.9999118431965516, 'eval_runtime': 18.1984, 'eval_samples_per_second': 92.535, 'eval_steps_per_second': 5.825}\n",
      "models/train_conf_reddit_train_wiki_csai_open_qa_finance_medicine_chatgpt_head_only_False/checkpoint-1895/eval/wiki_csai_chatgpt/test_results.json\n",
      "models/train_conf_reddit_train_wiki_csai_open_qa_finance_medicine_chatgpt_head_only_False/checkpoint-1895\n",
      "Test set:\n",
      "Counter({0: 842, 1: 842})\n",
      "Tokenizing and mapping...\n"
     ]
    },
    {
     "data": {
      "application/vnd.jupyter.widget-view+json": {
       "model_id": "6be3839ccc5c4fff88dac29315ada2ef",
       "version_major": 2,
       "version_minor": 0
      },
      "text/plain": [
       "Map:   0%|          | 0/1684 [00:00<?, ? examples/s]"
      ]
     },
     "metadata": {},
     "output_type": "display_data"
    },
    {
     "data": {
      "application/vnd.jupyter.widget-view+json": {
       "model_id": "4dc7e48f06e6410c8138fc6f2bf29712",
       "version_major": 2,
       "version_minor": 0
      },
      "text/plain": [
       "  0%|          | 0/106 [00:00<?, ?it/s]"
      ]
     },
     "metadata": {},
     "output_type": "display_data"
    },
    {
     "name": "stdout",
     "output_type": "stream",
     "text": [
      "{'eval_loss': 0.005205067805945873, 'eval_model_preparation_time': 0.0019, 'eval_accuracy': 0.998812351543943, 'eval_precision': [0.9976303317535545, 1.0], 'eval_recall': [1.0, 0.997624703087886], 'eval_f1': [0.9988137603795967, 0.9988109393579072], 'eval_roc_auc': 0.9999915369468689, 'eval_sk_roc_auc': 0.9999915369468689, 'eval_runtime': 11.8939, 'eval_samples_per_second': 141.585, 'eval_steps_per_second': 8.912}\n",
      "models/train_conf_reddit_train_wiki_csai_open_qa_finance_medicine_chatgpt_head_only_False/checkpoint-1895/eval/open_qa_chatgpt/test_results.json\n",
      "models/train_conf_reddit_train_wiki_csai_open_qa_finance_medicine_chatgpt_head_only_False/checkpoint-1895\n",
      "Test set:\n",
      "Counter({0: 842, 1: 842})\n",
      "Tokenizing and mapping...\n"
     ]
    },
    {
     "data": {
      "application/vnd.jupyter.widget-view+json": {
       "model_id": "4f8df037e24e43ab847c48accbd3cc87",
       "version_major": 2,
       "version_minor": 0
      },
      "text/plain": [
       "Map:   0%|          | 0/1684 [00:00<?, ? examples/s]"
      ]
     },
     "metadata": {},
     "output_type": "display_data"
    },
    {
     "data": {
      "application/vnd.jupyter.widget-view+json": {
       "model_id": "acec5f4fdc6940c996b608b22f44807a",
       "version_major": 2,
       "version_minor": 0
      },
      "text/plain": [
       "  0%|          | 0/106 [00:00<?, ?it/s]"
      ]
     },
     "metadata": {},
     "output_type": "display_data"
    },
    {
     "name": "stdout",
     "output_type": "stream",
     "text": [
      "{'eval_loss': 0.03952899947762489, 'eval_model_preparation_time': 0.0019, 'eval_accuracy': 0.9928741092636579, 'eval_precision': [0.9976019184652278, 0.9882352941176471], 'eval_recall': [0.9881235154394299, 0.997624703087886], 'eval_f1': [0.9928400954653938, 0.9929078014184397], 'eval_roc_auc': 0.9999576847343448, 'eval_sk_roc_auc': 0.9999576847343448, 'eval_runtime': 18.3254, 'eval_samples_per_second': 91.894, 'eval_steps_per_second': 5.784}\n",
      "models/train_conf_reddit_train_wiki_csai_open_qa_finance_medicine_chatgpt_head_only_False/checkpoint-1895/eval/finance_chatgpt/test_results.json\n",
      "models/train_conf_reddit_train_wiki_csai_open_qa_finance_medicine_chatgpt_head_only_False/checkpoint-1895\n",
      "Test set:\n",
      "Counter({0: 842, 1: 842})\n",
      "Tokenizing and mapping...\n"
     ]
    },
    {
     "data": {
      "application/vnd.jupyter.widget-view+json": {
       "model_id": "ecbb4725718f44fa8c7a925a1c479cc8",
       "version_major": 2,
       "version_minor": 0
      },
      "text/plain": [
       "Map:   0%|          | 0/1684 [00:00<?, ? examples/s]"
      ]
     },
     "metadata": {},
     "output_type": "display_data"
    },
    {
     "data": {
      "application/vnd.jupyter.widget-view+json": {
       "model_id": "0d859b4c8b4f4c309a197a8f13e2438b",
       "version_major": 2,
       "version_minor": 0
      },
      "text/plain": [
       "  0%|          | 0/106 [00:00<?, ?it/s]"
      ]
     },
     "metadata": {},
     "output_type": "display_data"
    },
    {
     "name": "stdout",
     "output_type": "stream",
     "text": [
      "{'eval_loss': 0.010451977141201496, 'eval_model_preparation_time': 0.0019, 'eval_accuracy': 0.998812351543943, 'eval_precision': [1.0, 0.9976303317535545], 'eval_recall': [0.997624703087886, 1.0], 'eval_f1': [0.9988109393579072, 0.9988137603795967], 'eval_roc_auc': 0.9999971789822897, 'eval_sk_roc_auc': 0.9999971789822897, 'eval_runtime': 14.4195, 'eval_samples_per_second': 116.786, 'eval_steps_per_second': 7.351}\n",
      "models/train_conf_reddit_train_wiki_csai_open_qa_finance_medicine_chatgpt_head_only_False/checkpoint-1895/eval/medicine_chatgpt/test_results.json\n"
     ]
    }
   ],
   "source": [
    "model_names = [\"models/train_conf_wiki_csai_open_qa_finance_medicine_chatgpt_head_only_False\",\n",
    "               \"models/train_conf_reddit_train_open_qa_finance_medicine_chatgpt_head_only_False\",\n",
    "               \"models/train_conf_reddit_train_wiki_csai_finance_medicine_chatgpt_head_only_False\",\n",
    "               \"models/train_conf_reddit_train_wiki_csai_open_qa_medicine_chatgpt_head_only_False\",\n",
    "               \"models/train_conf_reddit_train_wiki_csai_open_qa_finance_chatgpt_head_only_False\",\n",
    "               \"models/train_conf_reddit_train_wiki_csai_open_qa_finance_medicine_chatgpt_head_only_False\",\n",
    "               ]\n",
    "domains = [\"reddit_test\", \"wiki_csai\", \"open_qa\", \"finance\", \"medicine\"]\n",
    "# [test_all_domains(f\"{model_name}/checkpoint-1516\") for model_name in model_names]\n",
    "test_all_domains(f\"{model_names[-1]}/checkpoint-1895\")"
   ]
  },
  {
   "cell_type": "code",
   "execution_count": 13,
   "metadata": {},
   "outputs": [
    {
     "name": "stdout",
     "output_type": "stream",
     "text": [
      "NTO: reddit_test\n",
      "Domain\t\tAcc\tAUC\tpH\tpAI\trH\trAI\tf1H\tf1AI\n",
      "==============================================================================\n",
      "reddit_train   \t\u001b[91m0.5656\u001b[0m\t0.9491\t\u001b[91m0.5351\u001b[0m\t1.0000\t1.0000\t\u001b[91m0.1313\u001b[0m\t\u001b[91m0.6972\u001b[0m\t\u001b[91m0.2320\u001b[0m\n",
      "wiki_csai      \t0.9917\t1.0000\t1.0000\t0.9836\t0.9834\t1.0000\t0.9916\t0.9918\n",
      "open_qa        \t0.9970\t0.9999\t0.9976\t0.9964\t0.9964\t0.9976\t0.9970\t0.9970\n",
      "finance        \t0.9982\t1.0000\t0.9988\t0.9976\t0.9976\t0.9988\t0.9982\t0.9982\n",
      "medicine       \t0.9988\t1.0000\t0.9988\t0.9988\t0.9988\t0.9988\t0.9988\t0.9988\n",
      "\n",
      "\n",
      "\n",
      "NTO: wiki_csai\n",
      "Domain\t\tAcc\tAUC\tpH\tpAI\trH\trAI\tf1H\tf1AI\n",
      "==============================================================================\n",
      "reddit_train   \t1.0000\t1.0000\t1.0000\t1.0000\t1.0000\t1.0000\t1.0000\t1.0000\n",
      "wiki_csai      \t\u001b[91m0.6461\u001b[0m\t0.9851\t1.0000\t\u001b[91m0.5855\u001b[0m\t\u001b[91m0.2922\u001b[0m\t1.0000\t\u001b[91m0.4522\u001b[0m\t\u001b[91m0.7386\u001b[0m\n",
      "open_qa        \t0.9952\t0.9999\t0.9964\t0.9941\t0.9941\t0.9964\t0.9952\t0.9953\n",
      "finance        \t0.9964\t1.0000\t0.9988\t0.9941\t0.9941\t0.9988\t0.9964\t0.9964\n",
      "medicine       \t0.9988\t1.0000\t0.9988\t0.9988\t0.9988\t0.9988\t0.9988\t0.9988\n",
      "\n",
      "\n",
      "\n",
      "NTO: open_qa\n",
      "Domain\t\tAcc\tAUC\tpH\tpAI\trH\trAI\tf1H\tf1AI\n",
      "==============================================================================\n",
      "reddit_train   \t1.0000\t1.0000\t1.0000\t1.0000\t1.0000\t1.0000\t1.0000\t1.0000\n",
      "wiki_csai      \t0.9846\t1.0000\t1.0000\t0.9700\t0.9691\t1.0000\t0.9843\t0.9848\n",
      "open_qa        \t0.9561\t0.9921\t0.9528\t0.9593\t0.9596\t0.9525\t0.9562\t0.9559\n",
      "finance        \t0.9952\t0.9999\t0.9988\t0.9917\t0.9917\t0.9988\t0.9952\t0.9953\n",
      "medicine       \t0.9982\t1.0000\t1.0000\t0.9964\t0.9964\t1.0000\t0.9982\t0.9982\n",
      "\n",
      "\n",
      "\n",
      "NTO: finance\n",
      "Domain\t\tAcc\tAUC\tpH\tpAI\trH\trAI\tf1H\tf1AI\n",
      "==============================================================================\n",
      "reddit_train   \t1.0000\t1.0000\t1.0000\t1.0000\t1.0000\t1.0000\t1.0000\t1.0000\n",
      "wiki_csai      \t0.9816\t1.0000\t1.0000\t0.9645\t0.9632\t1.0000\t0.9812\t0.9819\n",
      "open_qa        \t0.9964\t1.0000\t0.9976\t0.9953\t0.9952\t0.9976\t0.9964\t0.9964\n",
      "finance        \t0.8985\t0.9921\t0.9884\t0.8365\t0.8064\t0.9905\t0.8882\t0.9070\n",
      "medicine       \t0.9976\t1.0000\t1.0000\t0.9953\t0.9952\t1.0000\t0.9976\t0.9976\n",
      "\n",
      "\n",
      "\n",
      "NTO: medicine\n",
      "Domain\t\tAcc\tAUC\tpH\tpAI\trH\trAI\tf1H\tf1AI\n",
      "==============================================================================\n",
      "reddit_train   \t1.0000\t1.0000\t1.0000\t1.0000\t1.0000\t1.0000\t1.0000\t1.0000\n",
      "wiki_csai      \t0.9899\t1.0000\t1.0000\t0.9802\t0.9798\t1.0000\t0.9898\t0.9900\n",
      "open_qa        \t0.9917\t0.9999\t0.9964\t0.9871\t0.9869\t0.9964\t0.9916\t0.9917\n",
      "finance        \t0.9929\t1.0000\t0.9988\t0.9871\t0.9869\t0.9988\t0.9928\t0.9929\n",
      "medicine       \t\u001b[91m0.7542\u001b[0m\t0.9965\t0.9954\t\u001b[91m0.6709\u001b[0m\t\u001b[91m0.5107\u001b[0m\t0.9976\t\u001b[91m0.6750\u001b[0m\t0.8023\n",
      "\n",
      "\n",
      "\n",
      "NTO: All\n",
      "Domain\t\tAcc\tAUC\tpH\tpAI\trH\trAI\tf1H\tf1AI\n",
      "==============================================================================\n",
      "reddit_train   \t1.0000\t1.0000\t1.0000\t1.0000\t1.0000\t1.0000\t1.0000\t1.0000\n",
      "wiki_csai      \t0.9822\t0.9999\t1.0000\t0.9656\t0.9644\t1.0000\t0.9819\t0.9825\n",
      "open_qa        \t0.9988\t1.0000\t0.9976\t1.0000\t1.0000\t0.9976\t0.9988\t0.9988\n",
      "finance        \t0.9929\t1.0000\t0.9976\t0.9882\t0.9881\t0.9976\t0.9928\t0.9929\n",
      "medicine       \t0.9988\t1.0000\t1.0000\t0.9976\t0.9976\t1.0000\t0.9988\t0.9988\n",
      "\n",
      "\n",
      "\n"
     ]
    }
   ],
   "source": [
    "domain_names = [\"reddit_test\", \"wiki_csai\", \"open_qa\", \"finance\", \"medicine\", \"All\"]\n",
    "[print_results(model_name=f\"{model_names[i]}/checkpoint-1516\", test_generator=\"chatgpt\", not_trained_on=domain_names[i]) for i in range(5)]\n",
    "print_results(model_name=f\"{model_names[-1]}/checkpoint-1895\", test_generator=\"chatgpt\", not_trained_on=domain_names[-1])"
   ]
  },
  {
   "cell_type": "code",
   "execution_count": null,
   "metadata": {},
   "outputs": [],
   "source": []
  }
 ],
 "metadata": {
  "kernelspec": {
   "display_name": "DL4NLP",
   "language": "python",
   "name": "python3"
  },
  "language_info": {
   "codemirror_mode": {
    "name": "ipython",
    "version": 3
   },
   "file_extension": ".py",
   "mimetype": "text/x-python",
   "name": "python",
   "nbconvert_exporter": "python",
   "pygments_lexer": "ipython3",
   "version": "3.11.9"
  }
 },
 "nbformat": 4,
 "nbformat_minor": 2
}
