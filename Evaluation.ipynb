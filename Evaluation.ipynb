{
 "cells": [
  {
   "cell_type": "code",
   "execution_count": 10,
   "metadata": {},
   "outputs": [],
   "source": [
    "from datasets import Dataset, load_dataset, concatenate_datasets, DatasetDict\n",
    "from transformers import (\n",
    "    AutoModelForSequenceClassification,\n",
    "    AutoTokenizer,\n",
    "    DataCollatorWithPadding,\n",
    "    Trainer,\n",
    "    TrainingArguments,\n",
    ")\n",
    "from collections import Counter\n",
    "import pandas as pd\n",
    "import os\n",
    "import evaluate\n",
    "from scipy.special import softmax\n",
    "import numpy as np\n",
    "import json\n",
    "ds = load_dataset(\"DanteZD/HC3_plus_llama70B\")"
   ]
  },
  {
   "cell_type": "code",
   "execution_count": 11,
   "metadata": {},
   "outputs": [],
   "source": [
    "def get_datasets(\n",
    "    train_domain=None,\n",
    "    train_generator=None,\n",
    "    test_domain=None,\n",
    "    test_generator=None,\n",
    "    ratio=0.2,\n",
    "    seed=None,\n",
    "):\n",
    "    def convert_dataset(dataset, generator):\n",
    "        ds = []\n",
    "        for row in dataset:\n",
    "            q = row[\"question\"]\n",
    "            human = row[\"human_answers\"]\n",
    "            model = row[f\"{generator}_answers\"]\n",
    "            for h in human[:1]:\n",
    "                ds.append([q, h, 0])\n",
    "            for m in model[:1]:\n",
    "                ds.append([q, m, 1])\n",
    "\n",
    "        ds = Dataset.from_pandas(pd.DataFrame(ds, columns=[\"question\", \"answer\", \"label\"]))\n",
    "\n",
    "        return ds\n",
    "    dataset_url = \"DanteZD/HC3_plus_llama70B\"\n",
    "    # Filter dataset based on the source\n",
    "    if train_domain and train_generator:\n",
    "        ds = load_dataset(dataset_url, split=train_domain)\n",
    "        ds = convert_dataset(ds, train_generator)\n",
    "        ds = ds.class_encode_column(\"label\")\n",
    "        ds = ds.train_test_split(test_size=ratio, seed=seed, stratify_by_column=\"label\")\n",
    "        print(\"Train set:\")\n",
    "        ds_train = ds[\"train\"]\n",
    "        print(Counter(ds_train[\"label\"]))\n",
    "        ds_val = ds[\"test\"]\n",
    "        print(\"Eval set\")\n",
    "        print(Counter(ds_val[\"label\"]))\n",
    "    else:\n",
    "        ds_train = None\n",
    "        ds_val = None\n",
    "\n",
    "    if test_domain and test_generator:\n",
    "        ds_test = load_dataset(dataset_url, split=test_domain)\n",
    "        ds_test = convert_dataset(ds_test, test_generator)\n",
    "        print(\"Test set:\")\n",
    "        print(Counter(ds_test[\"label\"]))\n",
    "    else:\n",
    "        ds_test = None\n",
    "\n",
    "    return ds_train, ds_val, ds_test\n",
    "\n",
    "def compute_metrics(eval_preds):\n",
    "    metrics = {}\n",
    "    logits, labels = eval_preds\n",
    "    predictions = np.argmax(logits, axis=-1)\n",
    "    probs = softmax(logits, axis=-1)\n",
    "\n",
    "    roc_auc = evaluate.load(\"roc_auc\")\n",
    "    precision = evaluate.load(\"precision\")\n",
    "    recall = evaluate.load(\"recall\")\n",
    "    f1 = evaluate.load(\"f1\")\n",
    "    accuracy = evaluate.load(\"accuracy\")\n",
    "\n",
    "    metrics[\"accuracy\"] = accuracy.compute(predictions=predictions, references=labels)[\n",
    "        \"accuracy\"\n",
    "    ]\n",
    "    metrics[\"precision\"] = precision.compute(\n",
    "        predictions=predictions, references=labels, average=None\n",
    "    )[\"precision\"].tolist()\n",
    "    metrics[\"recall\"] = recall.compute(\n",
    "        predictions=predictions, references=labels, average=None\n",
    "    )[\"recall\"].tolist()\n",
    "    metrics[\"f1\"] = f1.compute(\n",
    "        predictions=predictions, references=labels, average=None\n",
    "    )[\"f1\"].tolist()\n",
    "    metrics[\"roc_auc\"] = roc_auc.compute(\n",
    "        prediction_scores=probs[np.arange(len(labels)), labels], references=labels\n",
    "    )[\"roc_auc\"]\n",
    "    return metrics"
   ]
  },
  {
   "cell_type": "code",
   "execution_count": 12,
   "metadata": {},
   "outputs": [
    {
     "name": "stdout",
     "output_type": "stream",
     "text": [
      "Test set:\n",
      "Counter({0: 800, 1: 800})\n",
      "Tokenizing and mapping...\n"
     ]
    },
    {
     "data": {
      "application/vnd.jupyter.widget-view+json": {
       "model_id": "053930f1edc04ca8ac2854298946e8dd",
       "version_major": 2,
       "version_minor": 0
      },
      "text/plain": [
       "Map:   0%|          | 0/1600 [00:00<?, ? examples/s]"
      ]
     },
     "metadata": {},
     "output_type": "display_data"
    },
    {
     "data": {
      "text/html": [
       "\n",
       "    <div>\n",
       "      \n",
       "      <progress value='200' max='200' style='width:300px; height:20px; vertical-align: middle;'></progress>\n",
       "      [200/200 00:08]\n",
       "    </div>\n",
       "    "
      ],
      "text/plain": [
       "<IPython.core.display.HTML object>"
      ]
     },
     "metadata": {},
     "output_type": "display_data"
    },
    {
     "data": {
      "application/vnd.jupyter.widget-view+json": {
       "model_id": "0164849f8cd043b6bfb0ae3aaeaa1a25",
       "version_major": 2,
       "version_minor": 0
      },
      "text/plain": [
       "Downloading builder script:   0%|          | 0.00/9.54k [00:00<?, ?B/s]"
      ]
     },
     "metadata": {},
     "output_type": "display_data"
    },
    {
     "data": {
      "application/vnd.jupyter.widget-view+json": {
       "model_id": "98ad0c64f3d843a1b771b10f4f767357",
       "version_major": 2,
       "version_minor": 0
      },
      "text/plain": [
       "Downloading builder script:   0%|          | 0.00/7.55k [00:00<?, ?B/s]"
      ]
     },
     "metadata": {},
     "output_type": "display_data"
    },
    {
     "data": {
      "application/vnd.jupyter.widget-view+json": {
       "model_id": "a46758f25a4444caa1d9b1a950022076",
       "version_major": 2,
       "version_minor": 0
      },
      "text/plain": [
       "Downloading builder script:   0%|          | 0.00/7.36k [00:00<?, ?B/s]"
      ]
     },
     "metadata": {},
     "output_type": "display_data"
    },
    {
     "data": {
      "application/vnd.jupyter.widget-view+json": {
       "model_id": "fd8a352d587f48008bbd6a14e2c6d7f9",
       "version_major": 2,
       "version_minor": 0
      },
      "text/plain": [
       "Downloading builder script:   0%|          | 0.00/6.77k [00:00<?, ?B/s]"
      ]
     },
     "metadata": {},
     "output_type": "display_data"
    },
    {
     "name": "stdout",
     "output_type": "stream",
     "text": [
      "{'eval_loss': 0.2542557120323181, 'eval_model_preparation_time': 0.0018, 'eval_accuracy': 0.9975, 'eval_precision': [1.0, 0.9950248756218906], 'eval_recall': [0.995, 1.0], 'eval_f1': [0.9974937343358395, 0.9975062344139651], 'eval_roc_auc': 0.54051015625, 'eval_runtime': 12.9296, 'eval_samples_per_second': 123.747, 'eval_steps_per_second': 15.468}\n"
     ]
    }
   ],
   "source": [
    "MODELNAME =\"models/train_conf_reddit_train_chatgpt_head_only_True/checkpoint-200\"\n",
    "PAIR = False\n",
    "OUT = f\"models/results/{MODELNAME}\"\n",
    "TEST_DOMAIN = \"reddit_test\"\n",
    "TEST_GENERATOR = \"chatgpt\"\n",
    "SEED=42\n",
    "BATCH_SIZE=8\n",
    "\n",
    "_, _, test_dataset = get_datasets(\n",
    "    test_domain=TEST_DOMAIN,\n",
    "    test_generator=TEST_GENERATOR,\n",
    "    ratio=0.1,\n",
    ")\n",
    "\n",
    "tokenizer = AutoTokenizer.from_pretrained(\n",
    "    MODELNAME, clean_up_tokenization_spaces=True\n",
    ")\n",
    "kwargs = dict(max_length=512, truncation=True)\n",
    "if PAIR:\n",
    "\n",
    "    def tokenize_fn(example):\n",
    "        return tokenizer(example[\"question\"], example[\"answer\"], **kwargs)\n",
    "else:\n",
    "    def tokenize_fn(example):\n",
    "        return tokenizer(example[\"answer\"], **kwargs)\n",
    "\n",
    "print(\"Tokenizing and mapping...\")\n",
    "test_dataset = test_dataset.map(tokenize_fn)\n",
    "\n",
    "model = AutoModelForSequenceClassification.from_pretrained(\n",
    "    MODELNAME, num_labels=2\n",
    ")\n",
    "\n",
    "output_dir = OUT\n",
    "os.makedirs(output_dir, exist_ok=True)\n",
    "\n",
    "training_args = TrainingArguments(\n",
    "    output_dir=output_dir,\n",
    "    seed=SEED,\n",
    "    per_device_eval_batch_size=BATCH_SIZE,\n",
    ")\n",
    "\n",
    "data_collator = DataCollatorWithPadding(tokenizer=tokenizer)\n",
    "trainer = Trainer(\n",
    "    model,\n",
    "    training_args,\n",
    "    data_collator=data_collator,\n",
    "    tokenizer=tokenizer,\n",
    "    compute_metrics=compute_metrics,\n",
    ")\n",
    "\n",
    "test_results = trainer.evaluate(test_dataset)\n",
    "print(test_results)\n",
    "with open(output_dir + \"/test_results.json\", \"w\") as f:\n",
    "    json.dump(test_results, f)\n"
   ]
  },
  {
   "cell_type": "code",
   "execution_count": 23,
   "metadata": {},
   "outputs": [],
   "source": [
    "import os\n",
    "import json\n",
    "from transformers import (\n",
    "    AutoTokenizer, \n",
    "    AutoModelForSequenceClassification, \n",
    "    TrainingArguments, \n",
    "    Trainer, \n",
    "    DataCollatorWithPadding\n",
    ")\n",
    "\n",
    "def evaluate_model(\n",
    "    modelname=\"models/train_conf_reddit_train_chatgpt_head_only_True/checkpoint-200\",\n",
    "    pair=False,\n",
    "    out_dir=None,\n",
    "    test_domain=\"reddit_test\",\n",
    "    test_generator=\"chatgpt\",\n",
    "    seed=42,\n",
    "    batch_size=8\n",
    "):\n",
    "    # Prepare output directory\n",
    "    if out_dir is None:\n",
    "        out_dir = f\"models/results/{modelname}/{test_domain}/\"\n",
    "\n",
    "    # Load dataset\n",
    "    _, _, test_dataset = get_datasets(\n",
    "        test_domain=test_domain,\n",
    "        test_generator=test_generator,\n",
    "        ratio=0.1,\n",
    "    )\n",
    "\n",
    "    # Load tokenizer\n",
    "    tokenizer = AutoTokenizer.from_pretrained(\n",
    "        modelname, clean_up_tokenization_spaces=True\n",
    "    )\n",
    "    kwargs = dict(max_length=512, truncation=True)\n",
    "\n",
    "    # Tokenization function\n",
    "    if pair:\n",
    "        def tokenize_fn(example):\n",
    "            return tokenizer(example[\"question\"], example[\"answer\"], **kwargs)\n",
    "    else:\n",
    "        def tokenize_fn(example):\n",
    "            return tokenizer(example[\"answer\"], **kwargs)\n",
    "\n",
    "    print(\"Tokenizing and mapping...\")\n",
    "    test_dataset = test_dataset.map(tokenize_fn)\n",
    "\n",
    "    # Load model\n",
    "    model = AutoModelForSequenceClassification.from_pretrained(\n",
    "        modelname, num_labels=2\n",
    "    )\n",
    "\n",
    "    # Create output directory if it doesn't exist\n",
    "    os.makedirs(out_dir, exist_ok=True)\n",
    "\n",
    "    # Training arguments\n",
    "    training_args = TrainingArguments(\n",
    "        output_dir=out_dir,\n",
    "        seed=seed,\n",
    "        per_device_eval_batch_size=batch_size,\n",
    "    )\n",
    "\n",
    "    # Data collator\n",
    "    data_collator = DataCollatorWithPadding(tokenizer=tokenizer)\n",
    "\n",
    "    # Trainer\n",
    "    trainer = Trainer(\n",
    "        model,\n",
    "        training_args,\n",
    "        data_collator=data_collator,\n",
    "        tokenizer=tokenizer,\n",
    "        compute_metrics=compute_metrics,\n",
    "    )\n",
    "\n",
    "    # Evaluate and save results\n",
    "    test_results = trainer.evaluate(test_dataset)\n",
    "    print(test_results)\n",
    "    \n",
    "    with open(os.path.join(out_dir, \"test_results.json\"), \"w\") as f:\n",
    "        json.dump(test_results, f)\n",
    "\n",
    "    return test_results\n"
   ]
  },
  {
   "cell_type": "code",
   "execution_count": 24,
   "metadata": {},
   "outputs": [
    {
     "name": "stdout",
     "output_type": "stream",
     "text": [
      "Test set:\n",
      "Counter({0: 800, 1: 800})\n",
      "Tokenizing and mapping...\n"
     ]
    },
    {
     "data": {
      "application/vnd.jupyter.widget-view+json": {
       "model_id": "883eb022011945ff915213ceb340b4ce",
       "version_major": 2,
       "version_minor": 0
      },
      "text/plain": [
       "Map:   0%|          | 0/1600 [00:00<?, ? examples/s]"
      ]
     },
     "metadata": {},
     "output_type": "display_data"
    },
    {
     "data": {
      "text/html": [
       "\n",
       "    <div>\n",
       "      \n",
       "      <progress value='200' max='200' style='width:300px; height:20px; vertical-align: middle;'></progress>\n",
       "      [200/200 00:08]\n",
       "    </div>\n",
       "    "
      ],
      "text/plain": [
       "<IPython.core.display.HTML object>"
      ]
     },
     "metadata": {},
     "output_type": "display_data"
    },
    {
     "name": "stdout",
     "output_type": "stream",
     "text": [
      "{'eval_loss': 0.2542557120323181, 'eval_model_preparation_time': 0.0018, 'eval_accuracy': 0.9975, 'eval_precision': [1.0, 0.9950248756218906], 'eval_recall': [0.995, 1.0], 'eval_f1': [0.9974937343358395, 0.9975062344139651], 'eval_roc_auc': 0.54051015625, 'eval_runtime': 12.2655, 'eval_samples_per_second': 130.447, 'eval_steps_per_second': 16.306}\n",
      "Test set:\n",
      "Counter({0: 800, 1: 800})\n",
      "Tokenizing and mapping...\n"
     ]
    },
    {
     "data": {
      "application/vnd.jupyter.widget-view+json": {
       "model_id": "940dbc8af18f42e3a215e9aa0c5e126c",
       "version_major": 2,
       "version_minor": 0
      },
      "text/plain": [
       "Map:   0%|          | 0/1600 [00:00<?, ? examples/s]"
      ]
     },
     "metadata": {},
     "output_type": "display_data"
    },
    {
     "data": {
      "text/html": [
       "\n",
       "    <div>\n",
       "      \n",
       "      <progress value='200' max='200' style='width:300px; height:20px; vertical-align: middle;'></progress>\n",
       "      [200/200 00:08]\n",
       "    </div>\n",
       "    "
      ],
      "text/plain": [
       "<IPython.core.display.HTML object>"
      ]
     },
     "metadata": {},
     "output_type": "display_data"
    },
    {
     "name": "stdout",
     "output_type": "stream",
     "text": [
      "{'eval_loss': 0.08793215453624725, 'eval_model_preparation_time': 0.0019, 'eval_accuracy': 0.9975, 'eval_precision': [1.0, 0.9950248756218906], 'eval_recall': [0.995, 1.0], 'eval_f1': [0.9974937343358395, 0.9975062344139651], 'eval_roc_auc': 0.813728125, 'eval_runtime': 12.1909, 'eval_samples_per_second': 131.245, 'eval_steps_per_second': 16.406}\n",
      "Test set:\n",
      "Counter({0: 800, 1: 800})\n",
      "Tokenizing and mapping...\n"
     ]
    },
    {
     "data": {
      "application/vnd.jupyter.widget-view+json": {
       "model_id": "43ce925ec1d044ca9086bc42d50a1535",
       "version_major": 2,
       "version_minor": 0
      },
      "text/plain": [
       "Map:   0%|          | 0/1600 [00:00<?, ? examples/s]"
      ]
     },
     "metadata": {},
     "output_type": "display_data"
    },
    {
     "data": {
      "text/html": [
       "\n",
       "    <div>\n",
       "      \n",
       "      <progress value='200' max='200' style='width:300px; height:20px; vertical-align: middle;'></progress>\n",
       "      [200/200 00:08]\n",
       "    </div>\n",
       "    "
      ],
      "text/plain": [
       "<IPython.core.display.HTML object>"
      ]
     },
     "metadata": {},
     "output_type": "display_data"
    },
    {
     "name": "stdout",
     "output_type": "stream",
     "text": [
      "{'eval_loss': 0.04589931666851044, 'eval_model_preparation_time': 0.0019, 'eval_accuracy': 0.9975, 'eval_precision': [1.0, 0.9950248756218906], 'eval_recall': [0.995, 1.0], 'eval_f1': [0.9974937343358395, 0.9975062344139651], 'eval_roc_auc': 0.71535, 'eval_runtime': 12.249, 'eval_samples_per_second': 130.623, 'eval_steps_per_second': 16.328}\n",
      "Test set:\n",
      "Counter({0: 800, 1: 800})\n",
      "Tokenizing and mapping...\n"
     ]
    },
    {
     "data": {
      "application/vnd.jupyter.widget-view+json": {
       "model_id": "99d57db1735d4655939bf12ec5fdccd2",
       "version_major": 2,
       "version_minor": 0
      },
      "text/plain": [
       "Map:   0%|          | 0/1600 [00:00<?, ? examples/s]"
      ]
     },
     "metadata": {},
     "output_type": "display_data"
    },
    {
     "data": {
      "text/html": [
       "\n",
       "    <div>\n",
       "      \n",
       "      <progress value='200' max='200' style='width:300px; height:20px; vertical-align: middle;'></progress>\n",
       "      [200/200 00:08]\n",
       "    </div>\n",
       "    "
      ],
      "text/plain": [
       "<IPython.core.display.HTML object>"
      ]
     },
     "metadata": {},
     "output_type": "display_data"
    },
    {
     "name": "stdout",
     "output_type": "stream",
     "text": [
      "{'eval_loss': 0.03528202697634697, 'eval_model_preparation_time': 0.0018, 'eval_accuracy': 0.9975, 'eval_precision': [1.0, 0.9950248756218906], 'eval_recall': [0.995, 1.0], 'eval_f1': [0.9974937343358395, 0.9975062344139651], 'eval_roc_auc': 0.8458687500000001, 'eval_runtime': 12.5268, 'eval_samples_per_second': 127.726, 'eval_steps_per_second': 15.966}\n",
      "Test set:\n",
      "Counter({0: 800, 1: 800})\n",
      "Tokenizing and mapping...\n"
     ]
    },
    {
     "data": {
      "application/vnd.jupyter.widget-view+json": {
       "model_id": "def80b39d31940e89a29020f6e777530",
       "version_major": 2,
       "version_minor": 0
      },
      "text/plain": [
       "Map:   0%|          | 0/1600 [00:00<?, ? examples/s]"
      ]
     },
     "metadata": {},
     "output_type": "display_data"
    },
    {
     "data": {
      "text/html": [
       "\n",
       "    <div>\n",
       "      \n",
       "      <progress value='200' max='200' style='width:300px; height:20px; vertical-align: middle;'></progress>\n",
       "      [200/200 00:08]\n",
       "    </div>\n",
       "    "
      ],
      "text/plain": [
       "<IPython.core.display.HTML object>"
      ]
     },
     "metadata": {},
     "output_type": "display_data"
    },
    {
     "name": "stdout",
     "output_type": "stream",
     "text": [
      "{'eval_loss': 0.028377514332532883, 'eval_model_preparation_time': 0.0018, 'eval_accuracy': 0.9975, 'eval_precision': [1.0, 0.9950248756218906], 'eval_recall': [0.995, 1.0], 'eval_f1': [0.9974937343358395, 0.9975062344139651], 'eval_roc_auc': 0.7740578125000002, 'eval_runtime': 12.7226, 'eval_samples_per_second': 125.76, 'eval_steps_per_second': 15.72}\n",
      "Test set:\n",
      "Counter({0: 800, 1: 800})\n",
      "Tokenizing and mapping...\n"
     ]
    },
    {
     "data": {
      "application/vnd.jupyter.widget-view+json": {
       "model_id": "d6671f13989b4d3688e3723af3df6ae7",
       "version_major": 2,
       "version_minor": 0
      },
      "text/plain": [
       "Map:   0%|          | 0/1600 [00:00<?, ? examples/s]"
      ]
     },
     "metadata": {},
     "output_type": "display_data"
    },
    {
     "data": {
      "text/html": [
       "\n",
       "    <div>\n",
       "      \n",
       "      <progress value='200' max='200' style='width:300px; height:20px; vertical-align: middle;'></progress>\n",
       "      [200/200 00:08]\n",
       "    </div>\n",
       "    "
      ],
      "text/plain": [
       "<IPython.core.display.HTML object>"
      ]
     },
     "metadata": {},
     "output_type": "display_data"
    },
    {
     "name": "stdout",
     "output_type": "stream",
     "text": [
      "{'eval_loss': 0.02737586200237274, 'eval_model_preparation_time': 0.0018, 'eval_accuracy': 0.9975, 'eval_precision': [1.0, 0.9950248756218906], 'eval_recall': [0.995, 1.0], 'eval_f1': [0.9974937343358395, 0.9975062344139651], 'eval_roc_auc': 0.7829203125, 'eval_runtime': 12.2943, 'eval_samples_per_second': 130.142, 'eval_steps_per_second': 16.268}\n",
      "Test set:\n",
      "Counter({0: 800, 1: 800})\n",
      "Tokenizing and mapping...\n"
     ]
    },
    {
     "data": {
      "application/vnd.jupyter.widget-view+json": {
       "model_id": "af9afbbaba5e486b84754f71a0803f63",
       "version_major": 2,
       "version_minor": 0
      },
      "text/plain": [
       "Map:   0%|          | 0/1600 [00:00<?, ? examples/s]"
      ]
     },
     "metadata": {},
     "output_type": "display_data"
    },
    {
     "data": {
      "text/html": [
       "\n",
       "    <div>\n",
       "      \n",
       "      <progress value='200' max='200' style='width:300px; height:20px; vertical-align: middle;'></progress>\n",
       "      [200/200 00:08]\n",
       "    </div>\n",
       "    "
      ],
      "text/plain": [
       "<IPython.core.display.HTML object>"
      ]
     },
     "metadata": {},
     "output_type": "display_data"
    },
    {
     "name": "stdout",
     "output_type": "stream",
     "text": [
      "{'eval_loss': 0.037860121577978134, 'eval_model_preparation_time': 0.0018, 'eval_accuracy': 0.995625, 'eval_precision': [1.0, 0.9913258983890955], 'eval_recall': [0.99125, 1.0], 'eval_f1': [0.9956057752667922, 0.9956440572495333], 'eval_roc_auc': 0.99939453125, 'eval_runtime': 12.3972, 'eval_samples_per_second': 129.061, 'eval_steps_per_second': 16.133}\n",
      "Test set:\n",
      "Counter({0: 800, 1: 800})\n",
      "Tokenizing and mapping...\n"
     ]
    },
    {
     "data": {
      "application/vnd.jupyter.widget-view+json": {
       "model_id": "86039b46121a4146870c94f1b01d8d20",
       "version_major": 2,
       "version_minor": 0
      },
      "text/plain": [
       "Map:   0%|          | 0/1600 [00:00<?, ? examples/s]"
      ]
     },
     "metadata": {},
     "output_type": "display_data"
    },
    {
     "data": {
      "text/html": [
       "\n",
       "    <div>\n",
       "      \n",
       "      <progress value='200' max='200' style='width:300px; height:20px; vertical-align: middle;'></progress>\n",
       "      [200/200 00:08]\n",
       "    </div>\n",
       "    "
      ],
      "text/plain": [
       "<IPython.core.display.HTML object>"
      ]
     },
     "metadata": {},
     "output_type": "display_data"
    },
    {
     "name": "stdout",
     "output_type": "stream",
     "text": [
      "{'eval_loss': 1.3106568076182157e-05, 'eval_model_preparation_time': 0.0018, 'eval_accuracy': 1.0, 'eval_precision': [1.0, 1.0], 'eval_recall': [1.0, 1.0], 'eval_f1': [1.0, 1.0], 'eval_roc_auc': 0.0639578125, 'eval_runtime': 13.23, 'eval_samples_per_second': 120.937, 'eval_steps_per_second': 15.117}\n",
      "Test set:\n",
      "Counter({0: 800, 1: 800})\n",
      "Tokenizing and mapping...\n"
     ]
    },
    {
     "data": {
      "application/vnd.jupyter.widget-view+json": {
       "model_id": "3b1e08cd433841a7a1b2defdb87af252",
       "version_major": 2,
       "version_minor": 0
      },
      "text/plain": [
       "Map:   0%|          | 0/1600 [00:00<?, ? examples/s]"
      ]
     },
     "metadata": {},
     "output_type": "display_data"
    },
    {
     "data": {
      "text/html": [
       "\n",
       "    <div>\n",
       "      \n",
       "      <progress value='200' max='200' style='width:300px; height:20px; vertical-align: middle;'></progress>\n",
       "      [200/200 00:08]\n",
       "    </div>\n",
       "    "
      ],
      "text/plain": [
       "<IPython.core.display.HTML object>"
      ]
     },
     "metadata": {},
     "output_type": "display_data"
    },
    {
     "name": "stdout",
     "output_type": "stream",
     "text": [
      "{'eval_loss': 7.574529263365548e-06, 'eval_model_preparation_time': 0.0019, 'eval_accuracy': 1.0, 'eval_precision': [1.0, 1.0], 'eval_recall': [1.0, 1.0], 'eval_f1': [1.0, 1.0], 'eval_roc_auc': 0.003864843749999957, 'eval_runtime': 13.3634, 'eval_samples_per_second': 119.73, 'eval_steps_per_second': 14.966}\n",
      "Test set:\n",
      "Counter({0: 800, 1: 800})\n",
      "Tokenizing and mapping...\n"
     ]
    },
    {
     "data": {
      "application/vnd.jupyter.widget-view+json": {
       "model_id": "ea9d0d8e67e445d0b88975c48cc0b8e8",
       "version_major": 2,
       "version_minor": 0
      },
      "text/plain": [
       "Map:   0%|          | 0/1600 [00:00<?, ? examples/s]"
      ]
     },
     "metadata": {},
     "output_type": "display_data"
    },
    {
     "data": {
      "text/html": [
       "\n",
       "    <div>\n",
       "      \n",
       "      <progress value='200' max='200' style='width:300px; height:20px; vertical-align: middle;'></progress>\n",
       "      [200/200 00:08]\n",
       "    </div>\n",
       "    "
      ],
      "text/plain": [
       "<IPython.core.display.HTML object>"
      ]
     },
     "metadata": {},
     "output_type": "display_data"
    },
    {
     "name": "stdout",
     "output_type": "stream",
     "text": [
      "{'eval_loss': 5.848017735843314e-06, 'eval_model_preparation_time': 0.0018, 'eval_accuracy': 1.0, 'eval_precision': [1.0, 1.0], 'eval_recall': [1.0, 1.0], 'eval_f1': [1.0, 1.0], 'eval_roc_auc': 0.001725781249999963, 'eval_runtime': 12.4054, 'eval_samples_per_second': 128.976, 'eval_steps_per_second': 16.122}\n",
      "Test set:\n",
      "Counter({0: 800, 1: 800})\n",
      "Tokenizing and mapping...\n"
     ]
    },
    {
     "data": {
      "application/vnd.jupyter.widget-view+json": {
       "model_id": "5a658b02930341489ac5af9749d2dc85",
       "version_major": 2,
       "version_minor": 0
      },
      "text/plain": [
       "Map:   0%|          | 0/1600 [00:00<?, ? examples/s]"
      ]
     },
     "metadata": {},
     "output_type": "display_data"
    },
    {
     "data": {
      "text/html": [
       "\n",
       "    <div>\n",
       "      \n",
       "      <progress value='200' max='200' style='width:300px; height:20px; vertical-align: middle;'></progress>\n",
       "      [200/200 00:08]\n",
       "    </div>\n",
       "    "
      ],
      "text/plain": [
       "<IPython.core.display.HTML object>"
      ]
     },
     "metadata": {},
     "output_type": "display_data"
    },
    {
     "name": "stdout",
     "output_type": "stream",
     "text": [
      "{'eval_loss': 8.363462256966159e-06, 'eval_model_preparation_time': 0.0019, 'eval_accuracy': 1.0, 'eval_precision': [1.0, 1.0], 'eval_recall': [1.0, 1.0], 'eval_f1': [1.0, 1.0], 'eval_roc_auc': 0.9999546875, 'eval_runtime': 12.4775, 'eval_samples_per_second': 128.231, 'eval_steps_per_second': 16.029}\n",
      "Test set:\n",
      "Counter({0: 800, 1: 800})\n",
      "Tokenizing and mapping...\n"
     ]
    },
    {
     "data": {
      "application/vnd.jupyter.widget-view+json": {
       "model_id": "7661250347934acd94214a87f5015779",
       "version_major": 2,
       "version_minor": 0
      },
      "text/plain": [
       "Map:   0%|          | 0/1600 [00:00<?, ? examples/s]"
      ]
     },
     "metadata": {},
     "output_type": "display_data"
    },
    {
     "data": {
      "text/html": [
       "\n",
       "    <div>\n",
       "      \n",
       "      <progress value='200' max='200' style='width:300px; height:20px; vertical-align: middle;'></progress>\n",
       "      [200/200 00:08]\n",
       "    </div>\n",
       "    "
      ],
      "text/plain": [
       "<IPython.core.display.HTML object>"
      ]
     },
     "metadata": {},
     "output_type": "display_data"
    },
    {
     "name": "stdout",
     "output_type": "stream",
     "text": [
      "{'eval_loss': 8.943660941440612e-05, 'eval_model_preparation_time': 0.0018, 'eval_accuracy': 1.0, 'eval_precision': [1.0, 1.0], 'eval_recall': [1.0, 1.0], 'eval_f1': [1.0, 1.0], 'eval_roc_auc': 1.0, 'eval_runtime': 12.5073, 'eval_samples_per_second': 127.926, 'eval_steps_per_second': 15.991}\n",
      "Test set:\n",
      "Counter({0: 800, 1: 800})\n",
      "Tokenizing and mapping...\n"
     ]
    },
    {
     "data": {
      "application/vnd.jupyter.widget-view+json": {
       "model_id": "c6c6f96416fb4d3db4924c20de05f37f",
       "version_major": 2,
       "version_minor": 0
      },
      "text/plain": [
       "Map:   0%|          | 0/1600 [00:00<?, ? examples/s]"
      ]
     },
     "metadata": {},
     "output_type": "display_data"
    },
    {
     "data": {
      "text/html": [
       "\n",
       "    <div>\n",
       "      \n",
       "      <progress value='200' max='200' style='width:300px; height:20px; vertical-align: middle;'></progress>\n",
       "      [200/200 00:08]\n",
       "    </div>\n",
       "    "
      ],
      "text/plain": [
       "<IPython.core.display.HTML object>"
      ]
     },
     "metadata": {},
     "output_type": "display_data"
    },
    {
     "name": "stdout",
     "output_type": "stream",
     "text": [
      "{'eval_loss': 0.2631281316280365, 'eval_model_preparation_time': 0.0021, 'eval_accuracy': 0.995, 'eval_precision': [0.995, 0.995], 'eval_recall': [0.995, 0.995], 'eval_f1': [0.995, 0.995], 'eval_roc_auc': 0.7058593749999998, 'eval_runtime': 11.8597, 'eval_samples_per_second': 134.91, 'eval_steps_per_second': 16.864}\n",
      "Test set:\n",
      "Counter({0: 800, 1: 800})\n",
      "Tokenizing and mapping...\n"
     ]
    },
    {
     "data": {
      "application/vnd.jupyter.widget-view+json": {
       "model_id": "29f87d1dc19c4b50b4232c2a1d51a648",
       "version_major": 2,
       "version_minor": 0
      },
      "text/plain": [
       "Map:   0%|          | 0/1600 [00:00<?, ? examples/s]"
      ]
     },
     "metadata": {},
     "output_type": "display_data"
    },
    {
     "data": {
      "text/html": [
       "\n",
       "    <div>\n",
       "      \n",
       "      <progress value='200' max='200' style='width:300px; height:20px; vertical-align: middle;'></progress>\n",
       "      [200/200 00:08]\n",
       "    </div>\n",
       "    "
      ],
      "text/plain": [
       "<IPython.core.display.HTML object>"
      ]
     },
     "metadata": {},
     "output_type": "display_data"
    },
    {
     "name": "stdout",
     "output_type": "stream",
     "text": [
      "{'eval_loss': 0.09195384383201599, 'eval_model_preparation_time': 0.0018, 'eval_accuracy': 0.995, 'eval_precision': [0.995, 0.995], 'eval_recall': [0.995, 0.995], 'eval_f1': [0.995, 0.995], 'eval_roc_auc': 0.7619546875000001, 'eval_runtime': 11.9593, 'eval_samples_per_second': 133.787, 'eval_steps_per_second': 16.723}\n",
      "Test set:\n",
      "Counter({0: 800, 1: 800})\n",
      "Tokenizing and mapping...\n"
     ]
    },
    {
     "data": {
      "application/vnd.jupyter.widget-view+json": {
       "model_id": "6fe95d0df0a646288be61e788ae122fc",
       "version_major": 2,
       "version_minor": 0
      },
      "text/plain": [
       "Map:   0%|          | 0/1600 [00:00<?, ? examples/s]"
      ]
     },
     "metadata": {},
     "output_type": "display_data"
    },
    {
     "data": {
      "text/html": [
       "\n",
       "    <div>\n",
       "      \n",
       "      <progress value='200' max='200' style='width:300px; height:20px; vertical-align: middle;'></progress>\n",
       "      [200/200 00:08]\n",
       "    </div>\n",
       "    "
      ],
      "text/plain": [
       "<IPython.core.display.HTML object>"
      ]
     },
     "metadata": {},
     "output_type": "display_data"
    },
    {
     "name": "stdout",
     "output_type": "stream",
     "text": [
      "{'eval_loss': 0.05156891047954559, 'eval_model_preparation_time': 0.0019, 'eval_accuracy': 0.995, 'eval_precision': [0.995, 0.995], 'eval_recall': [0.995, 0.995], 'eval_f1': [0.995, 0.995], 'eval_roc_auc': 0.8116421875, 'eval_runtime': 11.6378, 'eval_samples_per_second': 137.483, 'eval_steps_per_second': 17.185}\n",
      "Test set:\n",
      "Counter({0: 800, 1: 800})\n",
      "Tokenizing and mapping...\n"
     ]
    },
    {
     "data": {
      "application/vnd.jupyter.widget-view+json": {
       "model_id": "10f08953a40d440f90f4f4654f84d1fa",
       "version_major": 2,
       "version_minor": 0
      },
      "text/plain": [
       "Map:   0%|          | 0/1600 [00:00<?, ? examples/s]"
      ]
     },
     "metadata": {},
     "output_type": "display_data"
    },
    {
     "data": {
      "text/html": [
       "\n",
       "    <div>\n",
       "      \n",
       "      <progress value='200' max='200' style='width:300px; height:20px; vertical-align: middle;'></progress>\n",
       "      [200/200 00:08]\n",
       "    </div>\n",
       "    "
      ],
      "text/plain": [
       "<IPython.core.display.HTML object>"
      ]
     },
     "metadata": {},
     "output_type": "display_data"
    },
    {
     "name": "stdout",
     "output_type": "stream",
     "text": [
      "{'eval_loss': 0.03822102025151253, 'eval_model_preparation_time': 0.0018, 'eval_accuracy': 0.995, 'eval_precision': [0.995, 0.995], 'eval_recall': [0.995, 0.995], 'eval_f1': [0.995, 0.995], 'eval_roc_auc': 0.83568359375, 'eval_runtime': 12.4996, 'eval_samples_per_second': 128.004, 'eval_steps_per_second': 16.0}\n",
      "Test set:\n",
      "Counter({0: 800, 1: 800})\n",
      "Tokenizing and mapping...\n"
     ]
    },
    {
     "data": {
      "application/vnd.jupyter.widget-view+json": {
       "model_id": "feb46ea264ef41b08ede4d21011a1a4a",
       "version_major": 2,
       "version_minor": 0
      },
      "text/plain": [
       "Map:   0%|          | 0/1600 [00:00<?, ? examples/s]"
      ]
     },
     "metadata": {},
     "output_type": "display_data"
    },
    {
     "data": {
      "text/html": [
       "\n",
       "    <div>\n",
       "      \n",
       "      <progress value='200' max='200' style='width:300px; height:20px; vertical-align: middle;'></progress>\n",
       "      [200/200 00:08]\n",
       "    </div>\n",
       "    "
      ],
      "text/plain": [
       "<IPython.core.display.HTML object>"
      ]
     },
     "metadata": {},
     "output_type": "display_data"
    },
    {
     "name": "stdout",
     "output_type": "stream",
     "text": [
      "{'eval_loss': 0.035057321190834045, 'eval_model_preparation_time': 0.0019, 'eval_accuracy': 0.995, 'eval_precision': [0.995, 0.995], 'eval_recall': [0.995, 0.995], 'eval_f1': [0.995, 0.995], 'eval_roc_auc': 0.8939867187499999, 'eval_runtime': 11.8893, 'eval_samples_per_second': 134.575, 'eval_steps_per_second': 16.822}\n",
      "Test set:\n",
      "Counter({0: 800, 1: 800})\n",
      "Tokenizing and mapping...\n"
     ]
    },
    {
     "data": {
      "application/vnd.jupyter.widget-view+json": {
       "model_id": "3ac1a4c211d04802b3422ecdff45e3ac",
       "version_major": 2,
       "version_minor": 0
      },
      "text/plain": [
       "Map:   0%|          | 0/1600 [00:00<?, ? examples/s]"
      ]
     },
     "metadata": {},
     "output_type": "display_data"
    },
    {
     "data": {
      "text/html": [
       "\n",
       "    <div>\n",
       "      \n",
       "      <progress value='200' max='200' style='width:300px; height:20px; vertical-align: middle;'></progress>\n",
       "      [200/200 00:08]\n",
       "    </div>\n",
       "    "
      ],
      "text/plain": [
       "<IPython.core.display.HTML object>"
      ]
     },
     "metadata": {},
     "output_type": "display_data"
    },
    {
     "name": "stdout",
     "output_type": "stream",
     "text": [
      "{'eval_loss': 0.03278687596321106, 'eval_model_preparation_time': 0.002, 'eval_accuracy': 0.995, 'eval_precision': [0.995, 0.995], 'eval_recall': [0.995, 0.995], 'eval_f1': [0.995, 0.995], 'eval_roc_auc': 0.872384375, 'eval_runtime': 12.1641, 'eval_samples_per_second': 131.535, 'eval_steps_per_second': 16.442}\n",
      "Test set:\n",
      "Counter({0: 800, 1: 800})\n",
      "Tokenizing and mapping...\n"
     ]
    },
    {
     "data": {
      "application/vnd.jupyter.widget-view+json": {
       "model_id": "77bed2b0ec3a4cd7929cab162b351d58",
       "version_major": 2,
       "version_minor": 0
      },
      "text/plain": [
       "Map:   0%|          | 0/1600 [00:00<?, ? examples/s]"
      ]
     },
     "metadata": {},
     "output_type": "display_data"
    },
    {
     "data": {
      "text/html": [
       "\n",
       "    <div>\n",
       "      \n",
       "      <progress value='200' max='200' style='width:300px; height:20px; vertical-align: middle;'></progress>\n",
       "      [200/200 00:08]\n",
       "    </div>\n",
       "    "
      ],
      "text/plain": [
       "<IPython.core.display.HTML object>"
      ]
     },
     "metadata": {},
     "output_type": "display_data"
    },
    {
     "name": "stdout",
     "output_type": "stream",
     "text": [
      "{'eval_loss': 0.012162742204964161, 'eval_model_preparation_time': 0.0018, 'eval_accuracy': 0.9975, 'eval_precision': [0.9987468671679198, 0.9962593516209476], 'eval_recall': [0.99625, 0.99875], 'eval_f1': [0.9974968710888611, 0.9975031210986267], 'eval_roc_auc': 0.9509375, 'eval_runtime': 12.3403, 'eval_samples_per_second': 129.657, 'eval_steps_per_second': 16.207}\n",
      "Test set:\n",
      "Counter({0: 800, 1: 800})\n",
      "Tokenizing and mapping...\n"
     ]
    },
    {
     "data": {
      "application/vnd.jupyter.widget-view+json": {
       "model_id": "5220fabd63ae4b3fae022ab416424431",
       "version_major": 2,
       "version_minor": 0
      },
      "text/plain": [
       "Map:   0%|          | 0/1600 [00:00<?, ? examples/s]"
      ]
     },
     "metadata": {},
     "output_type": "display_data"
    },
    {
     "data": {
      "text/html": [
       "\n",
       "    <div>\n",
       "      \n",
       "      <progress value='200' max='200' style='width:300px; height:20px; vertical-align: middle;'></progress>\n",
       "      [200/200 00:08]\n",
       "    </div>\n",
       "    "
      ],
      "text/plain": [
       "<IPython.core.display.HTML object>"
      ]
     },
     "metadata": {},
     "output_type": "display_data"
    },
    {
     "name": "stdout",
     "output_type": "stream",
     "text": [
      "{'eval_loss': 0.013537771999835968, 'eval_model_preparation_time': 0.0019, 'eval_accuracy': 0.998125, 'eval_precision': [0.9962640099626401, 1.0], 'eval_recall': [1.0, 0.99625], 'eval_f1': [0.9981285090455396, 0.9981214777708203], 'eval_roc_auc': 0.5477140625, 'eval_runtime': 12.116, 'eval_samples_per_second': 132.057, 'eval_steps_per_second': 16.507}\n",
      "Test set:\n",
      "Counter({0: 800, 1: 800})\n",
      "Tokenizing and mapping...\n"
     ]
    },
    {
     "data": {
      "application/vnd.jupyter.widget-view+json": {
       "model_id": "d55e8fea2e684a61a59fec4581490e9e",
       "version_major": 2,
       "version_minor": 0
      },
      "text/plain": [
       "Map:   0%|          | 0/1600 [00:00<?, ? examples/s]"
      ]
     },
     "metadata": {},
     "output_type": "display_data"
    },
    {
     "data": {
      "text/html": [
       "\n",
       "    <div>\n",
       "      \n",
       "      <progress value='200' max='200' style='width:300px; height:20px; vertical-align: middle;'></progress>\n",
       "      [200/200 00:08]\n",
       "    </div>\n",
       "    "
      ],
      "text/plain": [
       "<IPython.core.display.HTML object>"
      ]
     },
     "metadata": {},
     "output_type": "display_data"
    },
    {
     "name": "stdout",
     "output_type": "stream",
     "text": [
      "{'eval_loss': 0.0015797184314578772, 'eval_model_preparation_time': 0.0019, 'eval_accuracy': 0.999375, 'eval_precision': [0.9987515605493134, 1.0], 'eval_recall': [1.0, 0.99875], 'eval_f1': [0.9993753903810119, 0.9993746091307066], 'eval_roc_auc': 0.9937546875000001, 'eval_runtime': 12.1759, 'eval_samples_per_second': 131.407, 'eval_steps_per_second': 16.426}\n",
      "Test set:\n",
      "Counter({0: 800, 1: 800})\n",
      "Tokenizing and mapping...\n"
     ]
    },
    {
     "data": {
      "application/vnd.jupyter.widget-view+json": {
       "model_id": "be75054e513d4e2c87cf5da8f0baf435",
       "version_major": 2,
       "version_minor": 0
      },
      "text/plain": [
       "Map:   0%|          | 0/1600 [00:00<?, ? examples/s]"
      ]
     },
     "metadata": {},
     "output_type": "display_data"
    },
    {
     "data": {
      "text/html": [
       "\n",
       "    <div>\n",
       "      \n",
       "      <progress value='200' max='200' style='width:300px; height:20px; vertical-align: middle;'></progress>\n",
       "      [200/200 00:08]\n",
       "    </div>\n",
       "    "
      ],
      "text/plain": [
       "<IPython.core.display.HTML object>"
      ]
     },
     "metadata": {},
     "output_type": "display_data"
    },
    {
     "name": "stdout",
     "output_type": "stream",
     "text": [
      "{'eval_loss': 0.009940546937286854, 'eval_model_preparation_time': 0.0018, 'eval_accuracy': 0.998125, 'eval_precision': [0.9962640099626401, 1.0], 'eval_recall': [1.0, 0.99625], 'eval_f1': [0.9981285090455396, 0.9981214777708203], 'eval_roc_auc': 0.993753125, 'eval_runtime': 11.9018, 'eval_samples_per_second': 134.433, 'eval_steps_per_second': 16.804}\n",
      "Test set:\n",
      "Counter({0: 800, 1: 800})\n",
      "Tokenizing and mapping...\n"
     ]
    },
    {
     "data": {
      "application/vnd.jupyter.widget-view+json": {
       "model_id": "1bce26f765ad47c98a65a9096a4564dd",
       "version_major": 2,
       "version_minor": 0
      },
      "text/plain": [
       "Map:   0%|          | 0/1600 [00:00<?, ? examples/s]"
      ]
     },
     "metadata": {},
     "output_type": "display_data"
    },
    {
     "data": {
      "text/html": [
       "\n",
       "    <div>\n",
       "      \n",
       "      <progress value='200' max='200' style='width:300px; height:20px; vertical-align: middle;'></progress>\n",
       "      [200/200 00:08]\n",
       "    </div>\n",
       "    "
      ],
      "text/plain": [
       "<IPython.core.display.HTML object>"
      ]
     },
     "metadata": {},
     "output_type": "display_data"
    },
    {
     "name": "stdout",
     "output_type": "stream",
     "text": [
      "{'eval_loss': 0.008874356746673584, 'eval_model_preparation_time': 0.0018, 'eval_accuracy': 0.99875, 'eval_precision': [1.0, 0.9975062344139651], 'eval_recall': [0.9975, 1.0], 'eval_f1': [0.9987484355444305, 0.9987515605493134], 'eval_roc_auc': 0.9925390625, 'eval_runtime': 11.9059, 'eval_samples_per_second': 134.388, 'eval_steps_per_second': 16.798}\n",
      "Test set:\n",
      "Counter({0: 800, 1: 800})\n",
      "Tokenizing and mapping...\n"
     ]
    },
    {
     "data": {
      "application/vnd.jupyter.widget-view+json": {
       "model_id": "7b9f8a3c20d442aab7de44df2090d7a3",
       "version_major": 2,
       "version_minor": 0
      },
      "text/plain": [
       "Map:   0%|          | 0/1600 [00:00<?, ? examples/s]"
      ]
     },
     "metadata": {},
     "output_type": "display_data"
    },
    {
     "data": {
      "text/html": [
       "\n",
       "    <div>\n",
       "      \n",
       "      <progress value='200' max='200' style='width:300px; height:20px; vertical-align: middle;'></progress>\n",
       "      [200/200 00:08]\n",
       "    </div>\n",
       "    "
      ],
      "text/plain": [
       "<IPython.core.display.HTML object>"
      ]
     },
     "metadata": {},
     "output_type": "display_data"
    },
    {
     "name": "stdout",
     "output_type": "stream",
     "text": [
      "{'eval_loss': 0.003134902799502015, 'eval_model_preparation_time': 0.002, 'eval_accuracy': 0.999375, 'eval_precision': [1.0, 0.9987515605493134], 'eval_recall': [0.99875, 1.0], 'eval_f1': [0.9993746091307066, 0.9993753903810119], 'eval_roc_auc': 0.0029320312499999555, 'eval_runtime': 11.7808, 'eval_samples_per_second': 135.814, 'eval_steps_per_second': 16.977}\n"
     ]
    }
   ],
   "source": [
    "checkpoints = [\"checkpoint-200\", \"checkpoint-400\", \"checkpoint-600\", \"checkpoint-800\",\n",
    "               \"checkpoint-1000\", \"checkpoint-1170\"]\n",
    "_ = [evaluate_model(\n",
    "    modelname=f\"models/train_conf_reddit_train_chatgpt_head_only_True/{checkpoint}\",\n",
    "    pair=False, out_dir=None, test_domain=\"reddit_test\", test_generator=\"chatgpt\",\n",
    "    seed=42, batch_size=8) for checkpoint in checkpoints]\n",
    "_ = [evaluate_model(\n",
    "    modelname=f\"models/train_conf_reddit_train_chatgpt_head_only_False/{checkpoint}\",\n",
    "    pair=False, out_dir=None, test_domain=\"reddit_test\", test_generator=\"chatgpt\",\n",
    "    seed=42, batch_size=8) for checkpoint in checkpoints]\n",
    "_ = [evaluate_model(\n",
    "    modelname=f\"models/train_conf_reddit_train_llama_head_only_True/{checkpoint}\",\n",
    "    pair=False, out_dir=None, test_domain=\"reddit_test\", test_generator=\"llama\",\n",
    "    seed=42, batch_size=8) for checkpoint in checkpoints]\n",
    "_ = [evaluate_model(\n",
    "    modelname=f\"models/train_conf_reddit_train_llama_head_only_False/{checkpoint}\",\n",
    "    pair=False, out_dir=None, test_domain=\"reddit_test\", test_generator=\"llama\",\n",
    "    seed=42, batch_size=8) for checkpoint in checkpoints]"
   ]
  },
  {
   "cell_type": "code",
   "execution_count": 34,
   "metadata": {},
   "outputs": [
    {
     "name": "stdout",
     "output_type": "stream",
     "text": [
      "Test set:\n",
      "Counter({0: 200, 1: 200})\n",
      "Tokenizing and mapping...\n"
     ]
    },
    {
     "data": {
      "application/vnd.jupyter.widget-view+json": {
       "model_id": "250e0d4305ee4aca8af6ea5ebbf756a8",
       "version_major": 2,
       "version_minor": 0
      },
      "text/plain": [
       "Map:   0%|          | 0/400 [00:00<?, ? examples/s]"
      ]
     },
     "metadata": {},
     "output_type": "display_data"
    },
    {
     "data": {
      "text/html": [
       "\n",
       "    <div>\n",
       "      \n",
       "      <progress value='50' max='50' style='width:300px; height:20px; vertical-align: middle;'></progress>\n",
       "      [50/50 00:02]\n",
       "    </div>\n",
       "    "
      ],
      "text/plain": [
       "<IPython.core.display.HTML object>"
      ]
     },
     "metadata": {},
     "output_type": "display_data"
    },
    {
     "name": "stdout",
     "output_type": "stream",
     "text": [
      "{'eval_loss': 0.8626611232757568, 'eval_model_preparation_time': 0.0018, 'eval_accuracy': 0.4975, 'eval_precision': [0.0, 0.49874686716791977], 'eval_recall': [0.0, 0.995], 'eval_f1': [0.0, 0.664440734557596], 'eval_roc_auc': 0.999825, 'eval_runtime': 6.1231, 'eval_samples_per_second': 65.327, 'eval_steps_per_second': 8.166}\n",
      "Test set:\n",
      "Counter({0: 200, 1: 200})\n",
      "Tokenizing and mapping...\n"
     ]
    },
    {
     "data": {
      "application/vnd.jupyter.widget-view+json": {
       "model_id": "8916355345db45808ad7536be54f22f6",
       "version_major": 2,
       "version_minor": 0
      },
      "text/plain": [
       "Map:   0%|          | 0/400 [00:00<?, ? examples/s]"
      ]
     },
     "metadata": {},
     "output_type": "display_data"
    },
    {
     "data": {
      "text/html": [
       "\n",
       "    <div>\n",
       "      \n",
       "      <progress value='50' max='50' style='width:300px; height:20px; vertical-align: middle;'></progress>\n",
       "      [50/50 00:02]\n",
       "    </div>\n",
       "    "
      ],
      "text/plain": [
       "<IPython.core.display.HTML object>"
      ]
     },
     "metadata": {},
     "output_type": "display_data"
    },
    {
     "name": "stdout",
     "output_type": "stream",
     "text": [
      "{'eval_loss': 1.3659567832946777, 'eval_model_preparation_time': 0.0018, 'eval_accuracy': 0.4975, 'eval_precision': [0.0, 0.49874686716791977], 'eval_recall': [0.0, 0.995], 'eval_f1': [0.0, 0.664440734557596], 'eval_roc_auc': 0.999925, 'eval_runtime': 6.2051, 'eval_samples_per_second': 64.463, 'eval_steps_per_second': 8.058}\n",
      "Test set:\n",
      "Counter({0: 200, 1: 200})\n",
      "Tokenizing and mapping...\n"
     ]
    },
    {
     "data": {
      "application/vnd.jupyter.widget-view+json": {
       "model_id": "28720c8e376844a8a6358f566bb8e659",
       "version_major": 2,
       "version_minor": 0
      },
      "text/plain": [
       "Map:   0%|          | 0/400 [00:00<?, ? examples/s]"
      ]
     },
     "metadata": {},
     "output_type": "display_data"
    },
    {
     "data": {
      "text/html": [
       "\n",
       "    <div>\n",
       "      \n",
       "      <progress value='50' max='50' style='width:300px; height:20px; vertical-align: middle;'></progress>\n",
       "      [50/50 00:02]\n",
       "    </div>\n",
       "    "
      ],
      "text/plain": [
       "<IPython.core.display.HTML object>"
      ]
     },
     "metadata": {},
     "output_type": "display_data"
    },
    {
     "name": "stdout",
     "output_type": "stream",
     "text": [
      "{'eval_loss': 1.652907133102417, 'eval_model_preparation_time': 0.0018, 'eval_accuracy': 0.4975, 'eval_precision': [0.0, 0.49874686716791977], 'eval_recall': [0.0, 0.995], 'eval_f1': [0.0, 0.664440734557596], 'eval_roc_auc': 0.999925, 'eval_runtime': 6.1418, 'eval_samples_per_second': 65.127, 'eval_steps_per_second': 8.141}\n",
      "Test set:\n",
      "Counter({0: 200, 1: 200})\n",
      "Tokenizing and mapping...\n"
     ]
    },
    {
     "data": {
      "application/vnd.jupyter.widget-view+json": {
       "model_id": "b6db720719a34a6eabd7c71190bbeec8",
       "version_major": 2,
       "version_minor": 0
      },
      "text/plain": [
       "Map:   0%|          | 0/400 [00:00<?, ? examples/s]"
      ]
     },
     "metadata": {},
     "output_type": "display_data"
    },
    {
     "data": {
      "text/html": [
       "\n",
       "    <div>\n",
       "      \n",
       "      <progress value='50' max='50' style='width:300px; height:20px; vertical-align: middle;'></progress>\n",
       "      [50/50 00:02]\n",
       "    </div>\n",
       "    "
      ],
      "text/plain": [
       "<IPython.core.display.HTML object>"
      ]
     },
     "metadata": {},
     "output_type": "display_data"
    },
    {
     "name": "stdout",
     "output_type": "stream",
     "text": [
      "{'eval_loss': 1.941016674041748, 'eval_model_preparation_time': 0.0018, 'eval_accuracy': 0.4975, 'eval_precision': [0.0, 0.49874686716791977], 'eval_recall': [0.0, 0.995], 'eval_f1': [0.0, 0.664440734557596], 'eval_roc_auc': 0.999925, 'eval_runtime': 6.1994, 'eval_samples_per_second': 64.523, 'eval_steps_per_second': 8.065}\n",
      "Test set:\n",
      "Counter({0: 200, 1: 200})\n",
      "Tokenizing and mapping...\n"
     ]
    },
    {
     "data": {
      "application/vnd.jupyter.widget-view+json": {
       "model_id": "8f7958009b8c4a67afea2ebc3315a103",
       "version_major": 2,
       "version_minor": 0
      },
      "text/plain": [
       "Map:   0%|          | 0/400 [00:00<?, ? examples/s]"
      ]
     },
     "metadata": {},
     "output_type": "display_data"
    },
    {
     "data": {
      "text/html": [
       "\n",
       "    <div>\n",
       "      \n",
       "      <progress value='50' max='50' style='width:300px; height:20px; vertical-align: middle;'></progress>\n",
       "      [50/50 00:02]\n",
       "    </div>\n",
       "    "
      ],
      "text/plain": [
       "<IPython.core.display.HTML object>"
      ]
     },
     "metadata": {},
     "output_type": "display_data"
    },
    {
     "name": "stdout",
     "output_type": "stream",
     "text": [
      "{'eval_loss': 2.000035285949707, 'eval_model_preparation_time': 0.0018, 'eval_accuracy': 0.4975, 'eval_precision': [0.0, 0.49874686716791977], 'eval_recall': [0.0, 0.995], 'eval_f1': [0.0, 0.664440734557596], 'eval_roc_auc': 0.999925, 'eval_runtime': 6.2233, 'eval_samples_per_second': 64.274, 'eval_steps_per_second': 8.034}\n",
      "Test set:\n",
      "Counter({0: 200, 1: 200})\n",
      "Tokenizing and mapping...\n"
     ]
    },
    {
     "data": {
      "application/vnd.jupyter.widget-view+json": {
       "model_id": "ac4167ca3a634dcf8a39f2bbc03228d4",
       "version_major": 2,
       "version_minor": 0
      },
      "text/plain": [
       "Map:   0%|          | 0/400 [00:00<?, ? examples/s]"
      ]
     },
     "metadata": {},
     "output_type": "display_data"
    },
    {
     "data": {
      "text/html": [
       "\n",
       "    <div>\n",
       "      \n",
       "      <progress value='50' max='50' style='width:300px; height:20px; vertical-align: middle;'></progress>\n",
       "      [50/50 00:02]\n",
       "    </div>\n",
       "    "
      ],
      "text/plain": [
       "<IPython.core.display.HTML object>"
      ]
     },
     "metadata": {},
     "output_type": "display_data"
    },
    {
     "name": "stdout",
     "output_type": "stream",
     "text": [
      "{'eval_loss': 2.0350728034973145, 'eval_model_preparation_time': 0.0018, 'eval_accuracy': 0.4975, 'eval_precision': [0.0, 0.49874686716791977], 'eval_recall': [0.0, 0.995], 'eval_f1': [0.0, 0.664440734557596], 'eval_roc_auc': 0.999925, 'eval_runtime': 6.2057, 'eval_samples_per_second': 64.456, 'eval_steps_per_second': 8.057}\n",
      "Test set:\n",
      "Counter({0: 200, 1: 200})\n",
      "Tokenizing and mapping...\n"
     ]
    },
    {
     "data": {
      "application/vnd.jupyter.widget-view+json": {
       "model_id": "1be2d50b7f4842fa87e95e89a3a08fc0",
       "version_major": 2,
       "version_minor": 0
      },
      "text/plain": [
       "Map:   0%|          | 0/400 [00:00<?, ? examples/s]"
      ]
     },
     "metadata": {},
     "output_type": "display_data"
    },
    {
     "data": {
      "text/html": [
       "\n",
       "    <div>\n",
       "      \n",
       "      <progress value='50' max='50' style='width:300px; height:20px; vertical-align: middle;'></progress>\n",
       "      [50/50 00:02]\n",
       "    </div>\n",
       "    "
      ],
      "text/plain": [
       "<IPython.core.display.HTML object>"
      ]
     },
     "metadata": {},
     "output_type": "display_data"
    },
    {
     "name": "stderr",
     "output_type": "stream",
     "text": [
      "/home/arco/anaconda3/envs/DL4NLP/lib/python3.11/site-packages/sklearn/metrics/_classification.py:1531: UndefinedMetricWarning: Precision is ill-defined and being set to 0.0 in labels with no predicted samples. Use `zero_division` parameter to control this behavior.\n",
      "  _warn_prf(average, modifier, f\"{metric.capitalize()} is\", len(result))\n"
     ]
    },
    {
     "name": "stdout",
     "output_type": "stream",
     "text": [
      "{'eval_loss': 5.48676872253418, 'eval_model_preparation_time': 0.0018, 'eval_accuracy': 0.5, 'eval_precision': [0.0, 0.5], 'eval_recall': [0.0, 1.0], 'eval_f1': [0.0, 0.6666666666666666], 'eval_roc_auc': 1.0, 'eval_runtime': 6.301, 'eval_samples_per_second': 63.482, 'eval_steps_per_second': 7.935}\n",
      "Test set:\n",
      "Counter({0: 200, 1: 200})\n",
      "Tokenizing and mapping...\n"
     ]
    },
    {
     "data": {
      "application/vnd.jupyter.widget-view+json": {
       "model_id": "b0f49f6aefcd46398ecc14913b7f351e",
       "version_major": 2,
       "version_minor": 0
      },
      "text/plain": [
       "Map:   0%|          | 0/400 [00:00<?, ? examples/s]"
      ]
     },
     "metadata": {},
     "output_type": "display_data"
    },
    {
     "data": {
      "text/html": [
       "\n",
       "    <div>\n",
       "      \n",
       "      <progress value='50' max='50' style='width:300px; height:20px; vertical-align: middle;'></progress>\n",
       "      [50/50 00:02]\n",
       "    </div>\n",
       "    "
      ],
      "text/plain": [
       "<IPython.core.display.HTML object>"
      ]
     },
     "metadata": {},
     "output_type": "display_data"
    },
    {
     "name": "stdout",
     "output_type": "stream",
     "text": [
      "{'eval_loss': 4.669860363006592, 'eval_model_preparation_time': 0.0018, 'eval_accuracy': 0.54, 'eval_precision': [0.9, 0.5210526315789473], 'eval_recall': [0.09, 0.99], 'eval_f1': [0.16363636363636364, 0.6827586206896552], 'eval_roc_auc': 0.988675, 'eval_runtime': 6.4046, 'eval_samples_per_second': 62.455, 'eval_steps_per_second': 7.807}\n",
      "Test set:\n",
      "Counter({0: 200, 1: 200})\n",
      "Tokenizing and mapping...\n"
     ]
    },
    {
     "data": {
      "application/vnd.jupyter.widget-view+json": {
       "model_id": "222d690fade74febbb3676028201b41d",
       "version_major": 2,
       "version_minor": 0
      },
      "text/plain": [
       "Map:   0%|          | 0/400 [00:00<?, ? examples/s]"
      ]
     },
     "metadata": {},
     "output_type": "display_data"
    },
    {
     "data": {
      "text/html": [
       "\n",
       "    <div>\n",
       "      \n",
       "      <progress value='50' max='50' style='width:300px; height:20px; vertical-align: middle;'></progress>\n",
       "      [50/50 00:02]\n",
       "    </div>\n",
       "    "
      ],
      "text/plain": [
       "<IPython.core.display.HTML object>"
      ]
     },
     "metadata": {},
     "output_type": "display_data"
    },
    {
     "name": "stdout",
     "output_type": "stream",
     "text": [
      "{'eval_loss': 5.716220855712891, 'eval_model_preparation_time': 0.0017, 'eval_accuracy': 0.505, 'eval_precision': [0.75, 0.5025252525252525], 'eval_recall': [0.015, 0.995], 'eval_f1': [0.029411764705882353, 0.6677852348993288], 'eval_roc_auc': 0.99585, 'eval_runtime': 6.4802, 'eval_samples_per_second': 61.726, 'eval_steps_per_second': 7.716}\n",
      "Test set:\n",
      "Counter({0: 200, 1: 200})\n",
      "Tokenizing and mapping...\n"
     ]
    },
    {
     "data": {
      "application/vnd.jupyter.widget-view+json": {
       "model_id": "9c207995422d46aaa324d67ede4e9775",
       "version_major": 2,
       "version_minor": 0
      },
      "text/plain": [
       "Map:   0%|          | 0/400 [00:00<?, ? examples/s]"
      ]
     },
     "metadata": {},
     "output_type": "display_data"
    },
    {
     "data": {
      "text/html": [
       "\n",
       "    <div>\n",
       "      \n",
       "      <progress value='50' max='50' style='width:300px; height:20px; vertical-align: middle;'></progress>\n",
       "      [50/50 00:02]\n",
       "    </div>\n",
       "    "
      ],
      "text/plain": [
       "<IPython.core.display.HTML object>"
      ]
     },
     "metadata": {},
     "output_type": "display_data"
    },
    {
     "name": "stdout",
     "output_type": "stream",
     "text": [
      "{'eval_loss': 5.857205867767334, 'eval_model_preparation_time': 0.0018, 'eval_accuracy': 0.505, 'eval_precision': [0.75, 0.5025252525252525], 'eval_recall': [0.015, 0.995], 'eval_f1': [0.029411764705882353, 0.6677852348993288], 'eval_roc_auc': 0.99555, 'eval_runtime': 6.5684, 'eval_samples_per_second': 60.897, 'eval_steps_per_second': 7.612}\n",
      "Test set:\n",
      "Counter({0: 200, 1: 200})\n",
      "Tokenizing and mapping...\n"
     ]
    },
    {
     "data": {
      "application/vnd.jupyter.widget-view+json": {
       "model_id": "e87efa4eb7944617901472d1b91a28e1",
       "version_major": 2,
       "version_minor": 0
      },
      "text/plain": [
       "Map:   0%|          | 0/400 [00:00<?, ? examples/s]"
      ]
     },
     "metadata": {},
     "output_type": "display_data"
    },
    {
     "data": {
      "text/html": [
       "\n",
       "    <div>\n",
       "      \n",
       "      <progress value='50' max='50' style='width:300px; height:20px; vertical-align: middle;'></progress>\n",
       "      [50/50 00:02]\n",
       "    </div>\n",
       "    "
      ],
      "text/plain": [
       "<IPython.core.display.HTML object>"
      ]
     },
     "metadata": {},
     "output_type": "display_data"
    },
    {
     "name": "stdout",
     "output_type": "stream",
     "text": [
      "{'eval_loss': 5.859864711761475, 'eval_model_preparation_time': 0.0018, 'eval_accuracy': 0.5025, 'eval_precision': [0.6666666666666666, 0.5012594458438288], 'eval_recall': [0.01, 0.995], 'eval_f1': [0.019704433497536946, 0.6666666666666666], 'eval_roc_auc': 0.9999, 'eval_runtime': 6.4152, 'eval_samples_per_second': 62.352, 'eval_steps_per_second': 7.794}\n",
      "Test set:\n",
      "Counter({0: 200, 1: 200})\n",
      "Tokenizing and mapping...\n"
     ]
    },
    {
     "data": {
      "application/vnd.jupyter.widget-view+json": {
       "model_id": "3dfdbca3edd54406aa6452e51d5b625c",
       "version_major": 2,
       "version_minor": 0
      },
      "text/plain": [
       "Map:   0%|          | 0/400 [00:00<?, ? examples/s]"
      ]
     },
     "metadata": {},
     "output_type": "display_data"
    },
    {
     "data": {
      "text/html": [
       "\n",
       "    <div>\n",
       "      \n",
       "      <progress value='50' max='50' style='width:300px; height:20px; vertical-align: middle;'></progress>\n",
       "      [50/50 00:02]\n",
       "    </div>\n",
       "    "
      ],
      "text/plain": [
       "<IPython.core.display.HTML object>"
      ]
     },
     "metadata": {},
     "output_type": "display_data"
    },
    {
     "name": "stdout",
     "output_type": "stream",
     "text": [
      "{'eval_loss': 5.865478038787842, 'eval_model_preparation_time': 0.0018, 'eval_accuracy': 0.5, 'eval_precision': [0.5, 0.5], 'eval_recall': [0.005, 0.995], 'eval_f1': [0.009900990099009901, 0.6655518394648829], 'eval_roc_auc': 0.999975, 'eval_runtime': 6.5113, 'eval_samples_per_second': 61.432, 'eval_steps_per_second': 7.679}\n",
      "Test set:\n",
      "Counter({0: 200, 1: 200})\n",
      "Tokenizing and mapping...\n"
     ]
    },
    {
     "data": {
      "application/vnd.jupyter.widget-view+json": {
       "model_id": "197f0c60ffbc4715837a5aa68b182a87",
       "version_major": 2,
       "version_minor": 0
      },
      "text/plain": [
       "Map:   0%|          | 0/400 [00:00<?, ? examples/s]"
      ]
     },
     "metadata": {},
     "output_type": "display_data"
    },
    {
     "data": {
      "text/html": [
       "\n",
       "    <div>\n",
       "      \n",
       "      <progress value='50' max='50' style='width:300px; height:20px; vertical-align: middle;'></progress>\n",
       "      [50/50 00:02]\n",
       "    </div>\n",
       "    "
      ],
      "text/plain": [
       "<IPython.core.display.HTML object>"
      ]
     },
     "metadata": {},
     "output_type": "display_data"
    },
    {
     "name": "stderr",
     "output_type": "stream",
     "text": [
      "/home/arco/anaconda3/envs/DL4NLP/lib/python3.11/site-packages/sklearn/metrics/_classification.py:1531: UndefinedMetricWarning: Precision is ill-defined and being set to 0.0 in labels with no predicted samples. Use `zero_division` parameter to control this behavior.\n",
      "  _warn_prf(average, modifier, f\"{metric.capitalize()} is\", len(result))\n"
     ]
    },
    {
     "name": "stdout",
     "output_type": "stream",
     "text": [
      "{'eval_loss': 0.8238146901130676, 'eval_model_preparation_time': 0.0018, 'eval_accuracy': 0.5, 'eval_precision': [0.0, 0.5], 'eval_recall': [0.0, 1.0], 'eval_f1': [0.0, 0.6666666666666666], 'eval_roc_auc': 1.0, 'eval_runtime': 6.3955, 'eval_samples_per_second': 62.544, 'eval_steps_per_second': 7.818}\n",
      "Test set:\n",
      "Counter({0: 200, 1: 200})\n",
      "Tokenizing and mapping...\n"
     ]
    },
    {
     "data": {
      "application/vnd.jupyter.widget-view+json": {
       "model_id": "f26f423dbc4448f49bc6cd369e6246a7",
       "version_major": 2,
       "version_minor": 0
      },
      "text/plain": [
       "Map:   0%|          | 0/400 [00:00<?, ? examples/s]"
      ]
     },
     "metadata": {},
     "output_type": "display_data"
    },
    {
     "data": {
      "text/html": [
       "\n",
       "    <div>\n",
       "      \n",
       "      <progress value='50' max='50' style='width:300px; height:20px; vertical-align: middle;'></progress>\n",
       "      [50/50 00:02]\n",
       "    </div>\n",
       "    "
      ],
      "text/plain": [
       "<IPython.core.display.HTML object>"
      ]
     },
     "metadata": {},
     "output_type": "display_data"
    },
    {
     "name": "stderr",
     "output_type": "stream",
     "text": [
      "/home/arco/anaconda3/envs/DL4NLP/lib/python3.11/site-packages/sklearn/metrics/_classification.py:1531: UndefinedMetricWarning: Precision is ill-defined and being set to 0.0 in labels with no predicted samples. Use `zero_division` parameter to control this behavior.\n",
      "  _warn_prf(average, modifier, f\"{metric.capitalize()} is\", len(result))\n"
     ]
    },
    {
     "name": "stdout",
     "output_type": "stream",
     "text": [
      "{'eval_loss': 1.210828423500061, 'eval_model_preparation_time': 0.0018, 'eval_accuracy': 0.5, 'eval_precision': [0.0, 0.5], 'eval_recall': [0.0, 1.0], 'eval_f1': [0.0, 0.6666666666666666], 'eval_roc_auc': 1.0, 'eval_runtime': 6.3302, 'eval_samples_per_second': 63.189, 'eval_steps_per_second': 7.899}\n",
      "Test set:\n",
      "Counter({0: 200, 1: 200})\n",
      "Tokenizing and mapping...\n"
     ]
    },
    {
     "data": {
      "application/vnd.jupyter.widget-view+json": {
       "model_id": "0555f9795e73449ea202a14696eb796d",
       "version_major": 2,
       "version_minor": 0
      },
      "text/plain": [
       "Map:   0%|          | 0/400 [00:00<?, ? examples/s]"
      ]
     },
     "metadata": {},
     "output_type": "display_data"
    },
    {
     "data": {
      "text/html": [
       "\n",
       "    <div>\n",
       "      \n",
       "      <progress value='50' max='50' style='width:300px; height:20px; vertical-align: middle;'></progress>\n",
       "      [50/50 00:02]\n",
       "    </div>\n",
       "    "
      ],
      "text/plain": [
       "<IPython.core.display.HTML object>"
      ]
     },
     "metadata": {},
     "output_type": "display_data"
    },
    {
     "name": "stderr",
     "output_type": "stream",
     "text": [
      "/home/arco/anaconda3/envs/DL4NLP/lib/python3.11/site-packages/sklearn/metrics/_classification.py:1531: UndefinedMetricWarning: Precision is ill-defined and being set to 0.0 in labels with no predicted samples. Use `zero_division` parameter to control this behavior.\n",
      "  _warn_prf(average, modifier, f\"{metric.capitalize()} is\", len(result))\n"
     ]
    },
    {
     "name": "stdout",
     "output_type": "stream",
     "text": [
      "{'eval_loss': 1.5363519191741943, 'eval_model_preparation_time': 0.0018, 'eval_accuracy': 0.5, 'eval_precision': [0.0, 0.5], 'eval_recall': [0.0, 1.0], 'eval_f1': [0.0, 0.6666666666666666], 'eval_roc_auc': 1.0, 'eval_runtime': 6.1471, 'eval_samples_per_second': 65.071, 'eval_steps_per_second': 8.134}\n",
      "Test set:\n",
      "Counter({0: 200, 1: 200})\n",
      "Tokenizing and mapping...\n"
     ]
    },
    {
     "data": {
      "application/vnd.jupyter.widget-view+json": {
       "model_id": "ea7914184b9749f3917d2efc03a1201a",
       "version_major": 2,
       "version_minor": 0
      },
      "text/plain": [
       "Map:   0%|          | 0/400 [00:00<?, ? examples/s]"
      ]
     },
     "metadata": {},
     "output_type": "display_data"
    },
    {
     "data": {
      "text/html": [
       "\n",
       "    <div>\n",
       "      \n",
       "      <progress value='50' max='50' style='width:300px; height:20px; vertical-align: middle;'></progress>\n",
       "      [50/50 00:02]\n",
       "    </div>\n",
       "    "
      ],
      "text/plain": [
       "<IPython.core.display.HTML object>"
      ]
     },
     "metadata": {},
     "output_type": "display_data"
    },
    {
     "name": "stderr",
     "output_type": "stream",
     "text": [
      "/home/arco/anaconda3/envs/DL4NLP/lib/python3.11/site-packages/sklearn/metrics/_classification.py:1531: UndefinedMetricWarning: Precision is ill-defined and being set to 0.0 in labels with no predicted samples. Use `zero_division` parameter to control this behavior.\n",
      "  _warn_prf(average, modifier, f\"{metric.capitalize()} is\", len(result))\n"
     ]
    },
    {
     "name": "stdout",
     "output_type": "stream",
     "text": [
      "{'eval_loss': 1.7478172779083252, 'eval_model_preparation_time': 0.0017, 'eval_accuracy': 0.5, 'eval_precision': [0.0, 0.5], 'eval_recall': [0.0, 1.0], 'eval_f1': [0.0, 0.6666666666666666], 'eval_roc_auc': 1.0, 'eval_runtime': 6.2837, 'eval_samples_per_second': 63.657, 'eval_steps_per_second': 7.957}\n",
      "Test set:\n",
      "Counter({0: 200, 1: 200})\n",
      "Tokenizing and mapping...\n"
     ]
    },
    {
     "data": {
      "application/vnd.jupyter.widget-view+json": {
       "model_id": "32f096c5855b4532a79bf76086452fb8",
       "version_major": 2,
       "version_minor": 0
      },
      "text/plain": [
       "Map:   0%|          | 0/400 [00:00<?, ? examples/s]"
      ]
     },
     "metadata": {},
     "output_type": "display_data"
    },
    {
     "data": {
      "text/html": [
       "\n",
       "    <div>\n",
       "      \n",
       "      <progress value='50' max='50' style='width:300px; height:20px; vertical-align: middle;'></progress>\n",
       "      [50/50 00:02]\n",
       "    </div>\n",
       "    "
      ],
      "text/plain": [
       "<IPython.core.display.HTML object>"
      ]
     },
     "metadata": {},
     "output_type": "display_data"
    },
    {
     "name": "stderr",
     "output_type": "stream",
     "text": [
      "/home/arco/anaconda3/envs/DL4NLP/lib/python3.11/site-packages/sklearn/metrics/_classification.py:1531: UndefinedMetricWarning: Precision is ill-defined and being set to 0.0 in labels with no predicted samples. Use `zero_division` parameter to control this behavior.\n",
      "  _warn_prf(average, modifier, f\"{metric.capitalize()} is\", len(result))\n"
     ]
    },
    {
     "name": "stdout",
     "output_type": "stream",
     "text": [
      "{'eval_loss': 1.915955662727356, 'eval_model_preparation_time': 0.0018, 'eval_accuracy': 0.5, 'eval_precision': [0.0, 0.5], 'eval_recall': [0.0, 1.0], 'eval_f1': [0.0, 0.6666666666666666], 'eval_roc_auc': 1.0, 'eval_runtime': 6.2645, 'eval_samples_per_second': 63.852, 'eval_steps_per_second': 7.981}\n",
      "Test set:\n",
      "Counter({0: 200, 1: 200})\n",
      "Tokenizing and mapping...\n"
     ]
    },
    {
     "data": {
      "application/vnd.jupyter.widget-view+json": {
       "model_id": "0c642dba512540fe854ffe4f43d75156",
       "version_major": 2,
       "version_minor": 0
      },
      "text/plain": [
       "Map:   0%|          | 0/400 [00:00<?, ? examples/s]"
      ]
     },
     "metadata": {},
     "output_type": "display_data"
    },
    {
     "data": {
      "text/html": [
       "\n",
       "    <div>\n",
       "      \n",
       "      <progress value='50' max='50' style='width:300px; height:20px; vertical-align: middle;'></progress>\n",
       "      [50/50 00:02]\n",
       "    </div>\n",
       "    "
      ],
      "text/plain": [
       "<IPython.core.display.HTML object>"
      ]
     },
     "metadata": {},
     "output_type": "display_data"
    },
    {
     "name": "stderr",
     "output_type": "stream",
     "text": [
      "/home/arco/anaconda3/envs/DL4NLP/lib/python3.11/site-packages/sklearn/metrics/_classification.py:1531: UndefinedMetricWarning: Precision is ill-defined and being set to 0.0 in labels with no predicted samples. Use `zero_division` parameter to control this behavior.\n",
      "  _warn_prf(average, modifier, f\"{metric.capitalize()} is\", len(result))\n"
     ]
    },
    {
     "name": "stdout",
     "output_type": "stream",
     "text": [
      "{'eval_loss': 1.9167007207870483, 'eval_model_preparation_time': 0.0018, 'eval_accuracy': 0.5, 'eval_precision': [0.0, 0.5], 'eval_recall': [0.0, 1.0], 'eval_f1': [0.0, 0.6666666666666666], 'eval_roc_auc': 1.0, 'eval_runtime': 6.2228, 'eval_samples_per_second': 64.279, 'eval_steps_per_second': 8.035}\n",
      "Test set:\n",
      "Counter({0: 200, 1: 200})\n",
      "Tokenizing and mapping...\n"
     ]
    },
    {
     "data": {
      "application/vnd.jupyter.widget-view+json": {
       "model_id": "48003380b4354978900f18ff9f158f4c",
       "version_major": 2,
       "version_minor": 0
      },
      "text/plain": [
       "Map:   0%|          | 0/400 [00:00<?, ? examples/s]"
      ]
     },
     "metadata": {},
     "output_type": "display_data"
    },
    {
     "data": {
      "text/html": [
       "\n",
       "    <div>\n",
       "      \n",
       "      <progress value='50' max='50' style='width:300px; height:20px; vertical-align: middle;'></progress>\n",
       "      [50/50 00:02]\n",
       "    </div>\n",
       "    "
      ],
      "text/plain": [
       "<IPython.core.display.HTML object>"
      ]
     },
     "metadata": {},
     "output_type": "display_data"
    },
    {
     "name": "stdout",
     "output_type": "stream",
     "text": [
      "{'eval_loss': 5.208725452423096, 'eval_model_preparation_time': 0.0018, 'eval_accuracy': 0.505, 'eval_precision': [1.0, 0.5025125628140703], 'eval_recall': [0.01, 1.0], 'eval_f1': [0.019801980198019802, 0.6688963210702341], 'eval_roc_auc': 1.0, 'eval_runtime': 6.3063, 'eval_samples_per_second': 63.428, 'eval_steps_per_second': 7.929}\n",
      "Test set:\n",
      "Counter({0: 200, 1: 200})\n",
      "Tokenizing and mapping...\n"
     ]
    },
    {
     "data": {
      "application/vnd.jupyter.widget-view+json": {
       "model_id": "46ff3ef3aea2457b9c3f4c6ff48c8a5c",
       "version_major": 2,
       "version_minor": 0
      },
      "text/plain": [
       "Map:   0%|          | 0/400 [00:00<?, ? examples/s]"
      ]
     },
     "metadata": {},
     "output_type": "display_data"
    },
    {
     "data": {
      "text/html": [
       "\n",
       "    <div>\n",
       "      \n",
       "      <progress value='50' max='50' style='width:300px; height:20px; vertical-align: middle;'></progress>\n",
       "      [50/50 00:02]\n",
       "    </div>\n",
       "    "
      ],
      "text/plain": [
       "<IPython.core.display.HTML object>"
      ]
     },
     "metadata": {},
     "output_type": "display_data"
    },
    {
     "name": "stdout",
     "output_type": "stream",
     "text": [
      "{'eval_loss': 5.238853931427002, 'eval_model_preparation_time': 0.0018, 'eval_accuracy': 0.5025, 'eval_precision': [1.0, 0.5012531328320802], 'eval_recall': [0.005, 1.0], 'eval_f1': [0.009950248756218905, 0.667779632721202], 'eval_roc_auc': 0.9975625, 'eval_runtime': 6.2906, 'eval_samples_per_second': 63.587, 'eval_steps_per_second': 7.948}\n",
      "Test set:\n",
      "Counter({0: 200, 1: 200})\n",
      "Tokenizing and mapping...\n"
     ]
    },
    {
     "data": {
      "application/vnd.jupyter.widget-view+json": {
       "model_id": "fdf2f48cf1a94a51b38a0f70ab5875e1",
       "version_major": 2,
       "version_minor": 0
      },
      "text/plain": [
       "Map:   0%|          | 0/400 [00:00<?, ? examples/s]"
      ]
     },
     "metadata": {},
     "output_type": "display_data"
    },
    {
     "data": {
      "text/html": [
       "\n",
       "    <div>\n",
       "      \n",
       "      <progress value='50' max='50' style='width:300px; height:20px; vertical-align: middle;'></progress>\n",
       "      [50/50 00:02]\n",
       "    </div>\n",
       "    "
      ],
      "text/plain": [
       "<IPython.core.display.HTML object>"
      ]
     },
     "metadata": {},
     "output_type": "display_data"
    },
    {
     "name": "stdout",
     "output_type": "stream",
     "text": [
      "{'eval_loss': 6.127509117126465, 'eval_model_preparation_time': 0.0018, 'eval_accuracy': 0.5025, 'eval_precision': [1.0, 0.5012531328320802], 'eval_recall': [0.005, 1.0], 'eval_f1': [0.009950248756218905, 0.667779632721202], 'eval_roc_auc': 1.0, 'eval_runtime': 6.2567, 'eval_samples_per_second': 63.932, 'eval_steps_per_second': 7.991}\n",
      "Test set:\n",
      "Counter({0: 200, 1: 200})\n",
      "Tokenizing and mapping...\n"
     ]
    },
    {
     "data": {
      "application/vnd.jupyter.widget-view+json": {
       "model_id": "e89d7c9840fb4d3abe575a455a67fd1f",
       "version_major": 2,
       "version_minor": 0
      },
      "text/plain": [
       "Map:   0%|          | 0/400 [00:00<?, ? examples/s]"
      ]
     },
     "metadata": {},
     "output_type": "display_data"
    },
    {
     "data": {
      "text/html": [
       "\n",
       "    <div>\n",
       "      \n",
       "      <progress value='50' max='50' style='width:300px; height:20px; vertical-align: middle;'></progress>\n",
       "      [50/50 00:02]\n",
       "    </div>\n",
       "    "
      ],
      "text/plain": [
       "<IPython.core.display.HTML object>"
      ]
     },
     "metadata": {},
     "output_type": "display_data"
    },
    {
     "name": "stdout",
     "output_type": "stream",
     "text": [
      "{'eval_loss': 6.194890022277832, 'eval_model_preparation_time': 0.0018, 'eval_accuracy': 0.5025, 'eval_precision': [1.0, 0.5012531328320802], 'eval_recall': [0.005, 1.0], 'eval_f1': [0.009950248756218905, 0.667779632721202], 'eval_roc_auc': 1.0, 'eval_runtime': 6.3096, 'eval_samples_per_second': 63.396, 'eval_steps_per_second': 7.924}\n",
      "Test set:\n",
      "Counter({0: 200, 1: 200})\n",
      "Tokenizing and mapping...\n"
     ]
    },
    {
     "data": {
      "application/vnd.jupyter.widget-view+json": {
       "model_id": "ff2520b5ae404c04a21587d75a705050",
       "version_major": 2,
       "version_minor": 0
      },
      "text/plain": [
       "Map:   0%|          | 0/400 [00:00<?, ? examples/s]"
      ]
     },
     "metadata": {},
     "output_type": "display_data"
    },
    {
     "data": {
      "text/html": [
       "\n",
       "    <div>\n",
       "      \n",
       "      <progress value='50' max='50' style='width:300px; height:20px; vertical-align: middle;'></progress>\n",
       "      [50/50 00:02]\n",
       "    </div>\n",
       "    "
      ],
      "text/plain": [
       "<IPython.core.display.HTML object>"
      ]
     },
     "metadata": {},
     "output_type": "display_data"
    },
    {
     "name": "stdout",
     "output_type": "stream",
     "text": [
      "{'eval_loss': 6.275071620941162, 'eval_model_preparation_time': 0.0018, 'eval_accuracy': 0.5025, 'eval_precision': [1.0, 0.5012531328320802], 'eval_recall': [0.005, 1.0], 'eval_f1': [0.009950248756218905, 0.667779632721202], 'eval_roc_auc': 1.0, 'eval_runtime': 6.3429, 'eval_samples_per_second': 63.063, 'eval_steps_per_second': 7.883}\n",
      "Test set:\n",
      "Counter({0: 200, 1: 200})\n",
      "Tokenizing and mapping...\n"
     ]
    },
    {
     "data": {
      "application/vnd.jupyter.widget-view+json": {
       "model_id": "667c9f2076fd445885e57b635307b190",
       "version_major": 2,
       "version_minor": 0
      },
      "text/plain": [
       "Map:   0%|          | 0/400 [00:00<?, ? examples/s]"
      ]
     },
     "metadata": {},
     "output_type": "display_data"
    },
    {
     "data": {
      "text/html": [
       "\n",
       "    <div>\n",
       "      \n",
       "      <progress value='50' max='50' style='width:300px; height:20px; vertical-align: middle;'></progress>\n",
       "      [50/50 00:02]\n",
       "    </div>\n",
       "    "
      ],
      "text/plain": [
       "<IPython.core.display.HTML object>"
      ]
     },
     "metadata": {},
     "output_type": "display_data"
    },
    {
     "name": "stdout",
     "output_type": "stream",
     "text": [
      "{'eval_loss': 5.698710918426514, 'eval_model_preparation_time': 0.0019, 'eval_accuracy': 0.5025, 'eval_precision': [1.0, 0.5012531328320802], 'eval_recall': [0.005, 1.0], 'eval_f1': [0.009950248756218905, 0.667779632721202], 'eval_roc_auc': 1.0, 'eval_runtime': 6.1806, 'eval_samples_per_second': 64.719, 'eval_steps_per_second': 8.09}\n"
     ]
    }
   ],
   "source": [
    "checkpoints = [\"checkpoint-200\", \"checkpoint-400\", \"checkpoint-600\", \"checkpoint-800\",\n",
    "               \"checkpoint-1000\", \"checkpoint-1170\"]\n",
    "_ = [evaluate_model(\n",
    "    modelname=f\"models/train_conf_reddit_train_chatgpt_head_only_True/{checkpoint}\",\n",
    "    pair=False, out_dir=None, test_domain=\"wiki_csai\", test_generator=\"chatgpt\",\n",
    "    seed=42, batch_size=8) for checkpoint in checkpoints]\n",
    "_ = [evaluate_model(\n",
    "    modelname=f\"models/train_conf_reddit_train_chatgpt_head_only_False/{checkpoint}\",\n",
    "    pair=False, out_dir=None, test_domain=\"wiki_csai\", test_generator=\"chatgpt\",\n",
    "    seed=42, batch_size=8) for checkpoint in checkpoints]\n",
    "_ = [evaluate_model(\n",
    "    modelname=f\"models/train_conf_reddit_train_llama_head_only_True/{checkpoint}\",\n",
    "    pair=False, out_dir=None, test_domain=\"wiki_csai\", test_generator=\"llama\",\n",
    "    seed=42, batch_size=8) for checkpoint in checkpoints]\n",
    "_ = [evaluate_model(\n",
    "    modelname=f\"models/train_conf_reddit_train_llama_head_only_False/{checkpoint}\",\n",
    "    pair=False, out_dir=None, test_domain=\"wiki_csai\", test_generator=\"llama\",\n",
    "    seed=42, batch_size=8) for checkpoint in checkpoints]"
   ]
  },
  {
   "cell_type": "code",
   "execution_count": null,
   "metadata": {},
   "outputs": [],
   "source": [
    "checkpoints = [\"checkpoint-200\", \"checkpoint-400\", \"checkpoint-600\", \"checkpoint-800\",\n",
    "               \"checkpoint-1000\", \"checkpoint-1170\"]\n",
    "_ = [evaluate_model(\n",
    "    modelname=f\"models/train_conf_reddit_train_chatgpt_head_only_True/{checkpoint}\",\n",
    "    pair=False, out_dir=None, test_domain=\"wiki_csai\", test_generator=\"chatgpt\",\n",
    "    seed=42, batch_size=8) for checkpoint in checkpoints]\n",
    "_ = [evaluate_model(\n",
    "    modelname=f\"models/train_conf_reddit_train_chatgpt_head_only_False/{checkpoint}\",\n",
    "    pair=False, out_dir=None, test_domain=\"wiki_csai\", test_generator=\"chatgpt\",\n",
    "    seed=42, batch_size=8) for checkpoint in checkpoints]\n",
    "_ = [evaluate_model(\n",
    "    modelname=f\"models/train_conf_reddit_train_llama_head_only_True/{checkpoint}\",\n",
    "    pair=False, out_dir=None, test_domain=\"wiki_csai\", test_generator=\"llama\",\n",
    "    seed=42, batch_size=8) for checkpoint in checkpoints]\n",
    "_ = [evaluate_model(\n",
    "    modelname=f\"models/train_conf_reddit_train_llama_head_only_False/{checkpoint}\",\n",
    "    pair=False, out_dir=None, test_domain=\"wiki_csai\", test_generator=\"llama\",\n",
    "    seed=42, batch_size=8) for checkpoint in checkpoints]"
   ]
  },
  {
   "cell_type": "code",
   "execution_count": 35,
   "metadata": {},
   "outputs": [],
   "source": [
    "def get_results(name=\"train_conf_reddit_train_chatgpt_head_only_False\", \n",
    "                domain=\"reddit_test\",\n",
    "                checkpoint=\"checkpoint-200\"):\n",
    "    with open(f\"models/results/models/{name}/{checkpoint}/{domain}/test_results.json\", \"r\") as f:\n",
    "        return json.load(f)\n",
    "    "
   ]
  },
  {
   "cell_type": "code",
   "execution_count": 71,
   "metadata": {},
   "outputs": [
    {
     "ename": "FileNotFoundError",
     "evalue": "[Errno 2] No such file or directory: 'models/results/models/train_conf_reddit_train_chatgpt_head_only_False/checkpoint-200/non_reddit_test/test_results.json'",
     "output_type": "error",
     "traceback": [
      "\u001b[0;31m---------------------------------------------------------------------------\u001b[0m",
      "\u001b[0;31mFileNotFoundError\u001b[0m                         Traceback (most recent call last)",
      "Cell \u001b[0;32mIn[71], line 6\u001b[0m\n\u001b[1;32m      3\u001b[0m results_reddit_train_llama_head_only_False \u001b[38;5;241m=\u001b[39m [get_results(name\u001b[38;5;241m=\u001b[39m\u001b[38;5;124m\"\u001b[39m\u001b[38;5;124mtrain_conf_reddit_train_llama_head_only_False\u001b[39m\u001b[38;5;124m\"\u001b[39m, domain\u001b[38;5;241m=\u001b[39m\u001b[38;5;124m\"\u001b[39m\u001b[38;5;124mreddit_test\u001b[39m\u001b[38;5;124m\"\u001b[39m, checkpoint\u001b[38;5;241m=\u001b[39mcheckpoint) \u001b[38;5;28;01mfor\u001b[39;00m checkpoint \u001b[38;5;129;01min\u001b[39;00m checkpoints]\n\u001b[1;32m      4\u001b[0m results_reddit_train_llama_head_only_True \u001b[38;5;241m=\u001b[39m [get_results(name\u001b[38;5;241m=\u001b[39m\u001b[38;5;124m\"\u001b[39m\u001b[38;5;124mtrain_conf_reddit_train_llama_head_only_True\u001b[39m\u001b[38;5;124m\"\u001b[39m, domain\u001b[38;5;241m=\u001b[39m\u001b[38;5;124m\"\u001b[39m\u001b[38;5;124mreddit_test\u001b[39m\u001b[38;5;124m\"\u001b[39m, checkpoint\u001b[38;5;241m=\u001b[39mcheckpoint) \u001b[38;5;28;01mfor\u001b[39;00m checkpoint \u001b[38;5;129;01min\u001b[39;00m checkpoints]\n\u001b[0;32m----> 6\u001b[0m results_wiki_csai_train_chatgpt_head_only_False \u001b[38;5;241m=\u001b[39m \u001b[43m[\u001b[49m\u001b[43mget_results\u001b[49m\u001b[43m(\u001b[49m\u001b[43mname\u001b[49m\u001b[38;5;241;43m=\u001b[39;49m\u001b[38;5;124;43m\"\u001b[39;49m\u001b[38;5;124;43mtrain_conf_reddit_train_chatgpt_head_only_False\u001b[39;49m\u001b[38;5;124;43m\"\u001b[39;49m\u001b[43m,\u001b[49m\u001b[43m \u001b[49m\u001b[43mdomain\u001b[49m\u001b[38;5;241;43m=\u001b[39;49m\u001b[38;5;124;43m\"\u001b[39;49m\u001b[38;5;124;43mnon_reddit_test\u001b[39;49m\u001b[38;5;124;43m\"\u001b[39;49m\u001b[43m,\u001b[49m\u001b[43m \u001b[49m\u001b[43mcheckpoint\u001b[49m\u001b[38;5;241;43m=\u001b[39;49m\u001b[43mcheckpoint\u001b[49m\u001b[43m)\u001b[49m\u001b[43m \u001b[49m\u001b[38;5;28;43;01mfor\u001b[39;49;00m\u001b[43m \u001b[49m\u001b[43mcheckpoint\u001b[49m\u001b[43m \u001b[49m\u001b[38;5;129;43;01min\u001b[39;49;00m\u001b[43m \u001b[49m\u001b[43mcheckpoints\u001b[49m\u001b[43m]\u001b[49m\n\u001b[1;32m      7\u001b[0m results_wiki_csai_train_chatgpt_head_only_True \u001b[38;5;241m=\u001b[39m [get_results(name\u001b[38;5;241m=\u001b[39m\u001b[38;5;124m\"\u001b[39m\u001b[38;5;124mtrain_conf_reddit_train_chatgpt_head_only_True\u001b[39m\u001b[38;5;124m\"\u001b[39m, domain\u001b[38;5;241m=\u001b[39m\u001b[38;5;124m\"\u001b[39m\u001b[38;5;124mnon_reddit_test\u001b[39m\u001b[38;5;124m\"\u001b[39m, checkpoint\u001b[38;5;241m=\u001b[39mcheckpoint) \u001b[38;5;28;01mfor\u001b[39;00m checkpoint \u001b[38;5;129;01min\u001b[39;00m checkpoints]\n\u001b[1;32m      8\u001b[0m results_wiki_csai_train_llama_head_only_False \u001b[38;5;241m=\u001b[39m [get_results(name\u001b[38;5;241m=\u001b[39m\u001b[38;5;124m\"\u001b[39m\u001b[38;5;124mtrain_conf_reddit_train_llama_head_only_False\u001b[39m\u001b[38;5;124m\"\u001b[39m, domain\u001b[38;5;241m=\u001b[39m\u001b[38;5;124m\"\u001b[39m\u001b[38;5;124mnon_reddit_test\u001b[39m\u001b[38;5;124m\"\u001b[39m, checkpoint\u001b[38;5;241m=\u001b[39mcheckpoint) \u001b[38;5;28;01mfor\u001b[39;00m checkpoint \u001b[38;5;129;01min\u001b[39;00m checkpoints]\n",
      "Cell \u001b[0;32mIn[71], line 6\u001b[0m, in \u001b[0;36m<listcomp>\u001b[0;34m(.0)\u001b[0m\n\u001b[1;32m      3\u001b[0m results_reddit_train_llama_head_only_False \u001b[38;5;241m=\u001b[39m [get_results(name\u001b[38;5;241m=\u001b[39m\u001b[38;5;124m\"\u001b[39m\u001b[38;5;124mtrain_conf_reddit_train_llama_head_only_False\u001b[39m\u001b[38;5;124m\"\u001b[39m, domain\u001b[38;5;241m=\u001b[39m\u001b[38;5;124m\"\u001b[39m\u001b[38;5;124mreddit_test\u001b[39m\u001b[38;5;124m\"\u001b[39m, checkpoint\u001b[38;5;241m=\u001b[39mcheckpoint) \u001b[38;5;28;01mfor\u001b[39;00m checkpoint \u001b[38;5;129;01min\u001b[39;00m checkpoints]\n\u001b[1;32m      4\u001b[0m results_reddit_train_llama_head_only_True \u001b[38;5;241m=\u001b[39m [get_results(name\u001b[38;5;241m=\u001b[39m\u001b[38;5;124m\"\u001b[39m\u001b[38;5;124mtrain_conf_reddit_train_llama_head_only_True\u001b[39m\u001b[38;5;124m\"\u001b[39m, domain\u001b[38;5;241m=\u001b[39m\u001b[38;5;124m\"\u001b[39m\u001b[38;5;124mreddit_test\u001b[39m\u001b[38;5;124m\"\u001b[39m, checkpoint\u001b[38;5;241m=\u001b[39mcheckpoint) \u001b[38;5;28;01mfor\u001b[39;00m checkpoint \u001b[38;5;129;01min\u001b[39;00m checkpoints]\n\u001b[0;32m----> 6\u001b[0m results_wiki_csai_train_chatgpt_head_only_False \u001b[38;5;241m=\u001b[39m [\u001b[43mget_results\u001b[49m\u001b[43m(\u001b[49m\u001b[43mname\u001b[49m\u001b[38;5;241;43m=\u001b[39;49m\u001b[38;5;124;43m\"\u001b[39;49m\u001b[38;5;124;43mtrain_conf_reddit_train_chatgpt_head_only_False\u001b[39;49m\u001b[38;5;124;43m\"\u001b[39;49m\u001b[43m,\u001b[49m\u001b[43m \u001b[49m\u001b[43mdomain\u001b[49m\u001b[38;5;241;43m=\u001b[39;49m\u001b[38;5;124;43m\"\u001b[39;49m\u001b[38;5;124;43mnon_reddit_test\u001b[39;49m\u001b[38;5;124;43m\"\u001b[39;49m\u001b[43m,\u001b[49m\u001b[43m \u001b[49m\u001b[43mcheckpoint\u001b[49m\u001b[38;5;241;43m=\u001b[39;49m\u001b[43mcheckpoint\u001b[49m\u001b[43m)\u001b[49m \u001b[38;5;28;01mfor\u001b[39;00m checkpoint \u001b[38;5;129;01min\u001b[39;00m checkpoints]\n\u001b[1;32m      7\u001b[0m results_wiki_csai_train_chatgpt_head_only_True \u001b[38;5;241m=\u001b[39m [get_results(name\u001b[38;5;241m=\u001b[39m\u001b[38;5;124m\"\u001b[39m\u001b[38;5;124mtrain_conf_reddit_train_chatgpt_head_only_True\u001b[39m\u001b[38;5;124m\"\u001b[39m, domain\u001b[38;5;241m=\u001b[39m\u001b[38;5;124m\"\u001b[39m\u001b[38;5;124mnon_reddit_test\u001b[39m\u001b[38;5;124m\"\u001b[39m, checkpoint\u001b[38;5;241m=\u001b[39mcheckpoint) \u001b[38;5;28;01mfor\u001b[39;00m checkpoint \u001b[38;5;129;01min\u001b[39;00m checkpoints]\n\u001b[1;32m      8\u001b[0m results_wiki_csai_train_llama_head_only_False \u001b[38;5;241m=\u001b[39m [get_results(name\u001b[38;5;241m=\u001b[39m\u001b[38;5;124m\"\u001b[39m\u001b[38;5;124mtrain_conf_reddit_train_llama_head_only_False\u001b[39m\u001b[38;5;124m\"\u001b[39m, domain\u001b[38;5;241m=\u001b[39m\u001b[38;5;124m\"\u001b[39m\u001b[38;5;124mnon_reddit_test\u001b[39m\u001b[38;5;124m\"\u001b[39m, checkpoint\u001b[38;5;241m=\u001b[39mcheckpoint) \u001b[38;5;28;01mfor\u001b[39;00m checkpoint \u001b[38;5;129;01min\u001b[39;00m checkpoints]\n",
      "Cell \u001b[0;32mIn[35], line 4\u001b[0m, in \u001b[0;36mget_results\u001b[0;34m(name, domain, checkpoint)\u001b[0m\n\u001b[1;32m      1\u001b[0m \u001b[38;5;28;01mdef\u001b[39;00m \u001b[38;5;21mget_results\u001b[39m(name\u001b[38;5;241m=\u001b[39m\u001b[38;5;124m\"\u001b[39m\u001b[38;5;124mtrain_conf_reddit_train_chatgpt_head_only_False\u001b[39m\u001b[38;5;124m\"\u001b[39m, \n\u001b[1;32m      2\u001b[0m                 domain\u001b[38;5;241m=\u001b[39m\u001b[38;5;124m\"\u001b[39m\u001b[38;5;124mreddit_test\u001b[39m\u001b[38;5;124m\"\u001b[39m,\n\u001b[1;32m      3\u001b[0m                 checkpoint\u001b[38;5;241m=\u001b[39m\u001b[38;5;124m\"\u001b[39m\u001b[38;5;124mcheckpoint-200\u001b[39m\u001b[38;5;124m\"\u001b[39m):\n\u001b[0;32m----> 4\u001b[0m     \u001b[38;5;28;01mwith\u001b[39;00m \u001b[38;5;28;43mopen\u001b[39;49m\u001b[43m(\u001b[49m\u001b[38;5;124;43mf\u001b[39;49m\u001b[38;5;124;43m\"\u001b[39;49m\u001b[38;5;124;43mmodels/results/models/\u001b[39;49m\u001b[38;5;132;43;01m{\u001b[39;49;00m\u001b[43mname\u001b[49m\u001b[38;5;132;43;01m}\u001b[39;49;00m\u001b[38;5;124;43m/\u001b[39;49m\u001b[38;5;132;43;01m{\u001b[39;49;00m\u001b[43mcheckpoint\u001b[49m\u001b[38;5;132;43;01m}\u001b[39;49;00m\u001b[38;5;124;43m/\u001b[39;49m\u001b[38;5;132;43;01m{\u001b[39;49;00m\u001b[43mdomain\u001b[49m\u001b[38;5;132;43;01m}\u001b[39;49;00m\u001b[38;5;124;43m/test_results.json\u001b[39;49m\u001b[38;5;124;43m\"\u001b[39;49m\u001b[43m,\u001b[49m\u001b[43m \u001b[49m\u001b[38;5;124;43m\"\u001b[39;49m\u001b[38;5;124;43mr\u001b[39;49m\u001b[38;5;124;43m\"\u001b[39;49m\u001b[43m)\u001b[49m \u001b[38;5;28;01mas\u001b[39;00m f:\n\u001b[1;32m      5\u001b[0m         \u001b[38;5;28;01mreturn\u001b[39;00m json\u001b[38;5;241m.\u001b[39mload(f)\n",
      "File \u001b[0;32m~/anaconda3/envs/DL4NLP/lib/python3.11/site-packages/IPython/core/interactiveshell.py:324\u001b[0m, in \u001b[0;36m_modified_open\u001b[0;34m(file, *args, **kwargs)\u001b[0m\n\u001b[1;32m    317\u001b[0m \u001b[38;5;28;01mif\u001b[39;00m file \u001b[38;5;129;01min\u001b[39;00m {\u001b[38;5;241m0\u001b[39m, \u001b[38;5;241m1\u001b[39m, \u001b[38;5;241m2\u001b[39m}:\n\u001b[1;32m    318\u001b[0m     \u001b[38;5;28;01mraise\u001b[39;00m \u001b[38;5;167;01mValueError\u001b[39;00m(\n\u001b[1;32m    319\u001b[0m         \u001b[38;5;124mf\u001b[39m\u001b[38;5;124m\"\u001b[39m\u001b[38;5;124mIPython won\u001b[39m\u001b[38;5;124m'\u001b[39m\u001b[38;5;124mt let you open fd=\u001b[39m\u001b[38;5;132;01m{\u001b[39;00mfile\u001b[38;5;132;01m}\u001b[39;00m\u001b[38;5;124m by default \u001b[39m\u001b[38;5;124m\"\u001b[39m\n\u001b[1;32m    320\u001b[0m         \u001b[38;5;124m\"\u001b[39m\u001b[38;5;124mas it is likely to crash IPython. If you know what you are doing, \u001b[39m\u001b[38;5;124m\"\u001b[39m\n\u001b[1;32m    321\u001b[0m         \u001b[38;5;124m\"\u001b[39m\u001b[38;5;124myou can use builtins\u001b[39m\u001b[38;5;124m'\u001b[39m\u001b[38;5;124m open.\u001b[39m\u001b[38;5;124m\"\u001b[39m\n\u001b[1;32m    322\u001b[0m     )\n\u001b[0;32m--> 324\u001b[0m \u001b[38;5;28;01mreturn\u001b[39;00m \u001b[43mio_open\u001b[49m\u001b[43m(\u001b[49m\u001b[43mfile\u001b[49m\u001b[43m,\u001b[49m\u001b[43m \u001b[49m\u001b[38;5;241;43m*\u001b[39;49m\u001b[43margs\u001b[49m\u001b[43m,\u001b[49m\u001b[43m \u001b[49m\u001b[38;5;241;43m*\u001b[39;49m\u001b[38;5;241;43m*\u001b[39;49m\u001b[43mkwargs\u001b[49m\u001b[43m)\u001b[49m\n",
      "\u001b[0;31mFileNotFoundError\u001b[0m: [Errno 2] No such file or directory: 'models/results/models/train_conf_reddit_train_chatgpt_head_only_False/checkpoint-200/non_reddit_test/test_results.json'"
     ]
    }
   ],
   "source": [
    "results_reddit_train_chatgpt_head_only_False = [get_results(name=\"train_conf_reddit_train_chatgpt_head_only_False\", domain=\"reddit_test\", checkpoint=checkpoint) for checkpoint in checkpoints]\n",
    "results_reddit_train_chatgpt_head_only_True = [get_results(name=\"train_conf_reddit_train_chatgpt_head_only_True\", domain=\"reddit_test\", checkpoint=checkpoint) for checkpoint in checkpoints]\n",
    "results_reddit_train_llama_head_only_False = [get_results(name=\"train_conf_reddit_train_llama_head_only_False\", domain=\"reddit_test\", checkpoint=checkpoint) for checkpoint in checkpoints]\n",
    "results_reddit_train_llama_head_only_True = [get_results(name=\"train_conf_reddit_train_llama_head_only_True\", domain=\"reddit_test\", checkpoint=checkpoint) for checkpoint in checkpoints]\n",
    "\n",
    "results_wiki_csai_train_chatgpt_head_only_False = [get_results(name=\"train_conf_reddit_train_chatgpt_head_only_False\", domain=\"non_reddit_test\", checkpoint=checkpoint) for checkpoint in checkpoints]\n",
    "results_wiki_csai_train_chatgpt_head_only_True = [get_results(name=\"train_conf_reddit_train_chatgpt_head_only_True\", domain=\"non_reddit_test\", checkpoint=checkpoint) for checkpoint in checkpoints]\n",
    "results_wiki_csai_train_llama_head_only_False = [get_results(name=\"train_conf_reddit_train_llama_head_only_False\", domain=\"non_reddit_test\", checkpoint=checkpoint) for checkpoint in checkpoints]\n",
    "results_wiki_csai_train_llama_head_only_True = [get_results(name=\"train_conf_reddit_train_llama_head_only_True\", domain=\"non_reddit_test\", checkpoint=checkpoint) for checkpoint in checkpoints]\n"
   ]
  },
  {
   "cell_type": "code",
   "execution_count": 72,
   "metadata": {},
   "outputs": [
    {
     "name": "stdout",
     "output_type": "stream",
     "text": [
      "[[0.995625 1.       1.       1.       1.       1.      ]\n",
      " [0.9975   0.9975   0.9975   0.9975   0.9975   0.9975  ]\n",
      " [0.9975   0.998125 0.999375 0.998125 0.99875  0.999375]\n",
      " [0.995    0.995    0.995    0.995    0.995    0.995   ]] [[0.5    0.54   0.505  0.505  0.5025 0.5   ]\n",
      " [0.4975 0.4975 0.4975 0.4975 0.4975 0.4975]\n",
      " [0.505  0.5025 0.5025 0.5025 0.5025 0.5025]\n",
      " [0.5    0.5    0.5    0.5    0.5    0.5   ]]\n"
     ]
    },
    {
     "data": {
      "image/png": "[encoded data removed]",
      "text/plain": [
       "<Figure size 640x480 with 1 Axes>"
      ]
     },
     "metadata": {},
     "output_type": "display_data"
    },
    {
     "data": {
      "image/png": "[encoded data removed]",
      "text/plain": [
       "<Figure size 640x480 with 1 Axes>"
      ]
     },
     "metadata": {},
     "output_type": "display_data"
    }
   ],
   "source": [
    "import matplotlib.pyplot as plt\n",
    "\n",
    "reddit_test    = [results_reddit_train_chatgpt_head_only_False, \n",
    "                  results_reddit_train_chatgpt_head_only_True,\n",
    "                  results_reddit_train_llama_head_only_False,\n",
    "                  results_reddit_train_llama_head_only_True]\n",
    "wiki_csai_test = [results_wiki_csai_train_chatgpt_head_only_False,\n",
    "                  results_wiki_csai_train_chatgpt_head_only_True,\n",
    "                  results_wiki_csai_train_llama_head_only_False,\n",
    "                  results_wiki_csai_train_llama_head_only_True]\n",
    "\n",
    "labels_reddit = [\"chatgpt_head_only_False\", \n",
    "                  \"chatgpt_head_only_True\",\n",
    "                  \"llama_head_only_False\",\n",
    "                  \"llama_head_only_True\"]\n",
    "\n",
    "labels_wiki = [\"chatgpt_head_only_False\",\n",
    "                  \"chatgpt_head_only_True\",\n",
    "                  \"llama_head_only_False\",\n",
    "                  \"llama_head_only_True\"]\n",
    "\n",
    "checkpoints_n = [200, 400, 600, 800, 1000, 1170]\n",
    "colors = [\"#FF5733\", \"#33FF57\", \"#3357FF\", \"#A833FF\"]\n",
    "\n",
    "accuracies_wiki_csai = []\n",
    "for t in wiki_csai_test:\n",
    "    accuracies_wiki_csai.append([t[i][\"eval_accuracy\"] for i in range(6)])\n",
    "accuracies_wiki_csai = np.array(accuracies_wiki_csai)\n",
    "\n",
    "accuracies_reddit = []\n",
    "for t in reddit_test:\n",
    "    accuracies_reddit.append([t[i][\"eval_accuracy\"] for i in range(6)])\n",
    "accuracies_reddit = np.array(accuracies_reddit)\n",
    "\n",
    "print(accuracies_reddit, accuracies_wiki_csai)\n",
    "\n",
    "# Plot reddit\n",
    "plt.figure()\n",
    "[plt.plot(checkpoints_n, acc, label=labels_reddit[i], color=colors[i]) for i, acc in enumerate(accuracies_reddit)]\n",
    "plt.legend()\n",
    "plt.title(\"Accuracy score of reddit (train)\")\n",
    "plt.xlabel(\"Checkpoints\")\n",
    "plt.ylabel(\"Accuracy\")\n",
    "plt.show()\n",
    "\n",
    "plt.figure()  # Create a new figure\n",
    "# [plt.plot(checkpoints_n, acc, label=labels_wiki[i], color=colors[i]) for i, acc in enumerate(accuracies_wiki_csai)]\n",
    "plt.plot(checkpoints_n, accuracies_wiki_csai[0], label=labels_wiki[0], color=colors[0])\n",
    "plt.plot(checkpoints_n, accuracies_wiki_csai[1], label=labels_wiki[1], color=colors[1])\n",
    "plt.plot(checkpoints_n, accuracies_wiki_csai[2], label=labels_wiki[2], color=colors[2])\n",
    "plt.plot(checkpoints_n, accuracies_wiki_csai[3], label=labels_wiki[3], color=colors[3])\n",
    "plt.legend()\n",
    "plt.title(\"Accuracy score of wiki_csai (test)\")\n",
    "plt.xlabel(\"Checkpoints\")\n",
    "plt.ylabel(\"Accuracy\")\n",
    "plt.show()"
   ]
  },
  {
   "cell_type": "code",
   "execution_count": 77,
   "metadata": {},
   "outputs": [
    {
     "data": {
      "image/png": "[encoded data removed]",
      "text/plain": [
       "<Figure size 640x480 with 1 Axes>"
      ]
     },
     "metadata": {},
     "output_type": "display_data"
    },
    {
     "data": {
      "image/png": "[encoded data removed]",
      "text/plain": [
       "<Figure size 640x480 with 1 Axes>"
      ]
     },
     "metadata": {},
     "output_type": "display_data"
    }
   ],
   "source": [
    "auc_wiki_csai = []\n",
    "for t in wiki_csai_test:\n",
    "    auc_wiki_csai.append([t[i][\"eval_roc_auc\"] for i in range(6)])\n",
    "auc_wiki_csai = np.array(auc_wiki_csai)\n",
    "\n",
    "auc_reddit = []\n",
    "for t in reddit_test:\n",
    "    auc_reddit.append([t[i][\"eval_roc_auc\"] for i in range(6)])\n",
    "auc_reddit = np.array(auc_reddit)\n",
    "\n",
    "[plt.plot(checkpoints_n, acc, label=labels_reddit[i]) for i, acc in enumerate(auc_reddit)]\n",
    "plt.legend()\n",
    "plt.title(\"AUC score of reddit (train)\")\n",
    "plt.xlabel(\"Checkpoints\")\n",
    "plt.ylabel(\"AUC\")\n",
    "plt.show()\n",
    "\n",
    "[plt.plot(checkpoints_n, acc, label=labels_wiki[i]) for i, acc in enumerate(auc_wiki_csai)]\n",
    "plt.legend()\n",
    "plt.title(\"AUC score of non-reddit (test)\")\n",
    "plt.xlabel(\"Checkpoints\")\n",
    "plt.ylabel(\"AUC\")\n",
    "plt.show()"
   ]
  },
  {
   "cell_type": "code",
   "execution_count": 76,
   "metadata": {},
   "outputs": [
    {
     "data": {
      "image/png": "[encoded data removed]",
      "text/plain": [
       "<Figure size 640x480 with 1 Axes>"
      ]
     },
     "metadata": {},
     "output_type": "display_data"
    },
    {
     "data": {
      "image/png": "[encoded data removed]",
      "text/plain": [
       "<Figure size 640x480 with 1 Axes>"
      ]
     },
     "metadata": {},
     "output_type": "display_data"
    }
   ],
   "source": [
    "auc_wiki_csai = []\n",
    "for t in wiki_csai_test:\n",
    "    auc_wiki_csai.append([t[i][\"eval_precision\"][1] for i in range(6)])\n",
    "auc_wiki_csai = np.array(auc_wiki_csai)\n",
    "\n",
    "auc_reddit = []\n",
    "for t in reddit_test:\n",
    "    auc_reddit.append([t[i][\"eval_precision\"][1] for i in range(6)])\n",
    "auc_reddit = np.array(auc_reddit)\n",
    "\n",
    "[plt.plot(checkpoints_n, acc, label=labels_reddit[i]) for i, acc in enumerate(auc_reddit)]\n",
    "plt.legend()\n",
    "plt.title(\"precision (AI) score of reddit (train)\")\n",
    "plt.xlabel(\"Checkpoints\")\n",
    "plt.ylabel(\"precision\")\n",
    "plt.show()\n",
    "\n",
    "[plt.plot(checkpoints_n, acc, label=labels_wiki[i]) for i, acc in enumerate(auc_wiki_csai)]\n",
    "plt.legend()\n",
    "plt.title(\"precision (AI) score of non-reddit (test)\")\n",
    "plt.xlabel(\"Checkpoints\")\n",
    "plt.ylabel(\"precision\")\n",
    "plt.show()"
   ]
  },
  {
   "cell_type": "code",
   "execution_count": null,
   "metadata": {},
   "outputs": [],
   "source": []
  }
 ],
 "metadata": {
  "kernelspec": {
   "display_name": "DL4NLP",
   "language": "python",
   "name": "python3"
  },
  "language_info": {
   "codemirror_mode": {
    "name": "ipython",
    "version": 3
   },
   "file_extension": ".py",
   "mimetype": "text/x-python",
   "name": "python",
   "nbconvert_exporter": "python",
   "pygments_lexer": "ipython3",
   "version": "3.11.9"
  }
 },
 "nbformat": 4,
 "nbformat_minor": 2
}
