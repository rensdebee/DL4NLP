{
 "cells": [
  {
   "cell_type": "markdown",
   "metadata": {},
   "source": [
    "Because of long runtimes, the dataset was constructed in multiple separate batches and stitched together with the following ipynb."
   ]
  },
  {
   "cell_type": "code",
   "execution_count": 1,
   "metadata": {},
   "outputs": [],
   "source": [
    "from datasets import load_dataset, concatenate_datasets, DatasetDict\n",
    "from huggingface_hub import notebook_login"
   ]
  },
  {
   "cell_type": "code",
   "execution_count": 2,
   "metadata": {},
   "outputs": [
    {
     "data": {
      "application/vnd.jupyter.widget-view+json": {
       "model_id": "c8abbd31c9134c0e93ede45ababc8555",
       "version_major": 2,
       "version_minor": 0
      },
      "text/plain": [
       "VBox(children=(HTML(value='<center> <img\\nsrc=https://huggingface.co/front/assets/huggingface_logo-noborder.sv…"
      ]
     },
     "metadata": {},
     "output_type": "display_data"
    }
   ],
   "source": [
    "notebook_login()"
   ]
  },
  {
   "cell_type": "code",
   "execution_count": 3,
   "metadata": {},
   "outputs": [],
   "source": [
    "ds_reddit_train = load_dataset(\"DanteZD/HC3_plus_llama_reddit_train_start0_stop5200\", split=\"train\")\n",
    "ds_reddit_test = load_dataset(\"DanteZD/HC3_plus_llama_reddit_test_start0_stop800\", split=\"train\")\n",
    "\n",
    "ds_open_qa = load_dataset(\"DanteZD/HC3_plus_llama_open_qa_start0_stop842\", split=\"train\")\n",
    "ds_medicine = load_dataset(\"DanteZD/HC3_plus_llama_medicine_start0_stop842\", split=\"train\")\n",
    "ds_finance = load_dataset(\"DanteZD/HC3_plus_llama_finance_start0_stop842\", split=\"train\")\n",
    "ds_wiki_csai = load_dataset(\"DanteZD/HC3_plus_llama_wiki_csai_start0_stop842\", split=\"train\")"
   ]
  },
  {
   "cell_type": "code",
   "execution_count": 4,
   "metadata": {},
   "outputs": [
    {
     "data": {
      "text/plain": [
       "Dataset({\n",
       "    features: ['id', 'question', 'human_answers', 'chatgpt_answers', 'llama_answers', 'source', 'llama_8B_answers'],\n",
       "    num_rows: 5200\n",
       "})"
      ]
     },
     "execution_count": 4,
     "metadata": {},
     "output_type": "execute_result"
    }
   ],
   "source": [
    "ds_reddit_train"
   ]
  },
  {
   "cell_type": "code",
   "execution_count": 5,
   "metadata": {},
   "outputs": [],
   "source": [
    "# Create test dataset of 800 reddit examples, and 200 of each other category\n",
    "ds_test = concatenate_datasets([ds_reddit_test, \n",
    "                                ds_wiki_csai.select(range(0, 200)),\n",
    "                                ds_open_qa.select(range(0, 200)),\n",
    "                                ds_finance.select(range(0, 200)),\n",
    "                                ds_medicine.select(range(0, 200))])\n",
    "\n",
    "# Create test dataset of all non reddit sources \n",
    "ds_non_reddit_test = concatenate_datasets([ds_finance,\n",
    "\t\t\t\t\t\t\t\t\t\tds_medicine,\n",
    "\t\t\t\t\t\t\t\t\t\tds_open_qa, \n",
    "\t\t\t\t\t\t\t\t\t\tds_wiki_csai])\n",
    "\n"
   ]
  },
  {
   "cell_type": "code",
   "execution_count": 6,
   "metadata": {},
   "outputs": [
    {
     "data": {
      "text/plain": [
       "DatasetDict({\n",
       "    train: Dataset({\n",
       "        features: ['id', 'question', 'human_answers', 'chatgpt_answers', 'llama_answers', 'source', 'llama_8B_answers'],\n",
       "        num_rows: 5200\n",
       "    })\n",
       "    test: Dataset({\n",
       "        features: ['id', 'question', 'human_answers', 'chatgpt_answers', 'llama_answers', 'source', 'llama_8B_answers'],\n",
       "        num_rows: 1600\n",
       "    })\n",
       "    reddit_train: Dataset({\n",
       "        features: ['id', 'question', 'human_answers', 'chatgpt_answers', 'llama_answers', 'source', 'llama_8B_answers'],\n",
       "        num_rows: 5200\n",
       "    })\n",
       "    reddit_test: Dataset({\n",
       "        features: ['id', 'question', 'human_answers', 'chatgpt_answers', 'llama_answers', 'source', 'llama_8B_answers'],\n",
       "        num_rows: 800\n",
       "    })\n",
       "    wiki_csai: Dataset({\n",
       "        features: ['id', 'question', 'human_answers', 'chatgpt_answers', 'llama_answers', 'source', 'llama_8B_answers'],\n",
       "        num_rows: 842\n",
       "    })\n",
       "    open_qa: Dataset({\n",
       "        features: ['id', 'question', 'human_answers', 'chatgpt_answers', 'llama_answers', 'source', 'llama_8B_answers'],\n",
       "        num_rows: 842\n",
       "    })\n",
       "    finance: Dataset({\n",
       "        features: ['id', 'question', 'human_answers', 'chatgpt_answers', 'llama_answers', 'source', 'llama_8B_answers'],\n",
       "        num_rows: 842\n",
       "    })\n",
       "    medicine: Dataset({\n",
       "        features: ['id', 'question', 'human_answers', 'chatgpt_answers', 'llama_answers', 'source', 'llama_8B_answers'],\n",
       "        num_rows: 842\n",
       "    })\n",
       "    non_reddit_test: Dataset({\n",
       "        features: ['id', 'question', 'human_answers', 'chatgpt_answers', 'llama_answers', 'source', 'llama_8B_answers'],\n",
       "        num_rows: 3368\n",
       "    })\n",
       "})"
      ]
     },
     "execution_count": 6,
     "metadata": {},
     "output_type": "execute_result"
    }
   ],
   "source": [
    "# Combine into a single DatsetDict object\n",
    "full_dataset = DatasetDict({\n",
    "    \"train\": ds_reddit_train,\n",
    "    \"test\": ds_test,\n",
    "    \"reddit_train\": ds_reddit_train,\n",
    "    \"reddit_test\": ds_reddit_test,\n",
    "    \"wiki_csai\":  ds_wiki_csai,\n",
    "    \"open_qa\": ds_open_qa,\n",
    "    \"finance\": ds_finance,\n",
    "    \"medicine\": ds_medicine,\n",
    "    \"non_reddit_test\": ds_non_reddit_test,\n",
    "\t})\n",
    "\n",
    "full_dataset"
   ]
  },
  {
   "cell_type": "code",
   "execution_count": 7,
   "metadata": {},
   "outputs": [
    {
     "data": {
      "application/vnd.jupyter.widget-view+json": {
       "model_id": "5d6b1940ae8846cfaff355f6207662b7",
       "version_major": 2,
       "version_minor": 0
      },
      "text/plain": [
       "Uploading the dataset shards:   0%|          | 0/1 [00:00<?, ?it/s]"
      ]
     },
     "metadata": {},
     "output_type": "display_data"
    },
    {
     "data": {
      "application/vnd.jupyter.widget-view+json": {
       "model_id": "9b9af13f5f8e42199c9817ac98452bf6",
       "version_major": 2,
       "version_minor": 0
      },
      "text/plain": [
       "Creating parquet from Arrow format:   0%|          | 0/6 [00:00<?, ?ba/s]"
      ]
     },
     "metadata": {},
     "output_type": "display_data"
    },
    {
     "data": {
      "application/vnd.jupyter.widget-view+json": {
       "model_id": "0f0df7b1d04e416981560ea16a1327e5",
       "version_major": 2,
       "version_minor": 0
      },
      "text/plain": [
       "Uploading the dataset shards:   0%|          | 0/1 [00:00<?, ?it/s]"
      ]
     },
     "metadata": {},
     "output_type": "display_data"
    },
    {
     "data": {
      "application/vnd.jupyter.widget-view+json": {
       "model_id": "16cc1e5620164d35915786f077c4118f",
       "version_major": 2,
       "version_minor": 0
      },
      "text/plain": [
       "Creating parquet from Arrow format:   0%|          | 0/2 [00:00<?, ?ba/s]"
      ]
     },
     "metadata": {},
     "output_type": "display_data"
    },
    {
     "data": {
      "application/vnd.jupyter.widget-view+json": {
       "model_id": "741a60db50344e41af861cb69655d9de",
       "version_major": 2,
       "version_minor": 0
      },
      "text/plain": [
       "Uploading the dataset shards:   0%|          | 0/1 [00:00<?, ?it/s]"
      ]
     },
     "metadata": {},
     "output_type": "display_data"
    },
    {
     "data": {
      "application/vnd.jupyter.widget-view+json": {
       "model_id": "345f4de8e4834942bca43bcd15042009",
       "version_major": 2,
       "version_minor": 0
      },
      "text/plain": [
       "Creating parquet from Arrow format:   0%|          | 0/6 [00:00<?, ?ba/s]"
      ]
     },
     "metadata": {},
     "output_type": "display_data"
    },
    {
     "data": {
      "application/vnd.jupyter.widget-view+json": {
       "model_id": "1a44a91c7c8747aab043309224b05f63",
       "version_major": 2,
       "version_minor": 0
      },
      "text/plain": [
       "Uploading the dataset shards:   0%|          | 0/1 [00:00<?, ?it/s]"
      ]
     },
     "metadata": {},
     "output_type": "display_data"
    },
    {
     "data": {
      "application/vnd.jupyter.widget-view+json": {
       "model_id": "d92e78428cd14af0a1886ae96044da6f",
       "version_major": 2,
       "version_minor": 0
      },
      "text/plain": [
       "Creating parquet from Arrow format:   0%|          | 0/1 [00:00<?, ?ba/s]"
      ]
     },
     "metadata": {},
     "output_type": "display_data"
    },
    {
     "data": {
      "application/vnd.jupyter.widget-view+json": {
       "model_id": "65034aa726494f1280505ed1a70172e8",
       "version_major": 2,
       "version_minor": 0
      },
      "text/plain": [
       "Uploading the dataset shards:   0%|          | 0/1 [00:00<?, ?it/s]"
      ]
     },
     "metadata": {},
     "output_type": "display_data"
    },
    {
     "data": {
      "application/vnd.jupyter.widget-view+json": {
       "model_id": "cdc533d8ed574863a0fb9153df3f6015",
       "version_major": 2,
       "version_minor": 0
      },
      "text/plain": [
       "Creating parquet from Arrow format:   0%|          | 0/1 [00:00<?, ?ba/s]"
      ]
     },
     "metadata": {},
     "output_type": "display_data"
    },
    {
     "data": {
      "application/vnd.jupyter.widget-view+json": {
       "model_id": "d38b482f27bd4928a4308e3e2d377aef",
       "version_major": 2,
       "version_minor": 0
      },
      "text/plain": [
       "Uploading the dataset shards:   0%|          | 0/1 [00:00<?, ?it/s]"
      ]
     },
     "metadata": {},
     "output_type": "display_data"
    },
    {
     "data": {
      "application/vnd.jupyter.widget-view+json": {
       "model_id": "a1a7d5d415884592ae53a5e2cd797cf1",
       "version_major": 2,
       "version_minor": 0
      },
      "text/plain": [
       "Creating parquet from Arrow format:   0%|          | 0/1 [00:00<?, ?ba/s]"
      ]
     },
     "metadata": {},
     "output_type": "display_data"
    },
    {
     "data": {
      "application/vnd.jupyter.widget-view+json": {
       "model_id": "ba637b80ad3240e8b0af17fa890886c5",
       "version_major": 2,
       "version_minor": 0
      },
      "text/plain": [
       "Uploading the dataset shards:   0%|          | 0/1 [00:00<?, ?it/s]"
      ]
     },
     "metadata": {},
     "output_type": "display_data"
    },
    {
     "data": {
      "application/vnd.jupyter.widget-view+json": {
       "model_id": "554ac8023f35409ca34dbb77ddf9b6e2",
       "version_major": 2,
       "version_minor": 0
      },
      "text/plain": [
       "Creating parquet from Arrow format:   0%|          | 0/1 [00:00<?, ?ba/s]"
      ]
     },
     "metadata": {},
     "output_type": "display_data"
    },
    {
     "data": {
      "application/vnd.jupyter.widget-view+json": {
       "model_id": "0c08eeaa268e435695f5c2d551f8029a",
       "version_major": 2,
       "version_minor": 0
      },
      "text/plain": [
       "Uploading the dataset shards:   0%|          | 0/1 [00:00<?, ?it/s]"
      ]
     },
     "metadata": {},
     "output_type": "display_data"
    },
    {
     "data": {
      "application/vnd.jupyter.widget-view+json": {
       "model_id": "6ccd160b436b40c49f00df8de44b627d",
       "version_major": 2,
       "version_minor": 0
      },
      "text/plain": [
       "Creating parquet from Arrow format:   0%|          | 0/1 [00:00<?, ?ba/s]"
      ]
     },
     "metadata": {},
     "output_type": "display_data"
    },
    {
     "data": {
      "application/vnd.jupyter.widget-view+json": {
       "model_id": "9a72d01d7a784425b0ff1b5934c03ec0",
       "version_major": 2,
       "version_minor": 0
      },
      "text/plain": [
       "Uploading the dataset shards:   0%|          | 0/1 [00:00<?, ?it/s]"
      ]
     },
     "metadata": {},
     "output_type": "display_data"
    },
    {
     "data": {
      "application/vnd.jupyter.widget-view+json": {
       "model_id": "57f9d3e5648f440899ee99fc323d027c",
       "version_major": 2,
       "version_minor": 0
      },
      "text/plain": [
       "Creating parquet from Arrow format:   0%|          | 0/4 [00:00<?, ?ba/s]"
      ]
     },
     "metadata": {},
     "output_type": "display_data"
    },
    {
     "data": {
      "application/vnd.jupyter.widget-view+json": {
       "model_id": "73029becbbb9415aad71d83ed5202fbc",
       "version_major": 2,
       "version_minor": 0
      },
      "text/plain": [
       "README.md:   0%|          | 0.00/1.39k [00:00<?, ?B/s]"
      ]
     },
     "metadata": {},
     "output_type": "display_data"
    },
    {
     "data": {
      "text/plain": [
       "CommitInfo(commit_url='https://huggingface.co/datasets/DanteZD/HC3_plus_llama70B/commit/bf72478a7d5e12853893fcf22a5d3848172dc03d', commit_message='Upload dataset', commit_description='', oid='bf72478a7d5e12853893fcf22a5d3848172dc03d', pr_url=None, repo_url=RepoUrl('https://huggingface.co/datasets/DanteZD/HC3_plus_llama70B', endpoint='https://huggingface.co', repo_type='dataset', repo_id='DanteZD/HC3_plus_llama70B'), pr_revision=None, pr_num=None)"
      ]
     },
     "execution_count": 7,
     "metadata": {},
     "output_type": "execute_result"
    }
   ],
   "source": [
    "full_dataset.push_to_hub(f\"DanteZD/HC3_plus_llama70B\")"
   ]
  }
 ],
 "metadata": {
  "kernelspec": {
   "display_name": "Python 3",
   "language": "python",
   "name": "python3"
  },
  "language_info": {
   "codemirror_mode": {
    "name": "ipython",
    "version": 3
   },
   "file_extension": ".py",
   "mimetype": "text/x-python",
   "name": "python",
   "nbconvert_exporter": "python",
   "pygments_lexer": "ipython3",
   "version": "3.11.5"
  }
 },
 "nbformat": 4,
 "nbformat_minor": 2
}
