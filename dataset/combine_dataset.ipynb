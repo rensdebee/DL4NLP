{
 "cells": [
  {
   "cell_type": "markdown",
   "metadata": {},
   "source": [
    "Because of long runtimes, the dataset was constructed in multiple separate batches and stitched together with the following ipynb."
   ]
  },
  {
   "cell_type": "code",
   "execution_count": 1,
   "metadata": {},
   "outputs": [],
   "source": [
    "from datasets import load_dataset, concatenate_datasets, DatasetDict\n",
    "from huggingface_hub import notebook_login"
   ]
  },
  {
   "cell_type": "code",
   "execution_count": 2,
   "metadata": {},
   "outputs": [
    {
     "data": {
      "application/vnd.jupyter.widget-view+json": {
       "model_id": "599efdaf48af4962ba11323d7984f810",
       "version_major": 2,
       "version_minor": 0
      },
      "text/plain": [
       "VBox(children=(HTML(value='<center> <img\\nsrc=https://huggingface.co/front/assets/huggingface_logo-noborder.sv…"
      ]
     },
     "metadata": {},
     "output_type": "display_data"
    }
   ],
   "source": [
    "notebook_login()"
   ]
  },
  {
   "cell_type": "code",
   "execution_count": 3,
   "metadata": {},
   "outputs": [],
   "source": [
    "ds_reddit_0_1000 = load_dataset(\"DanteZD/HC3_plus_llama70B_reddit_eli5_start0_stop1000\", split=\"train\")\n",
    "ds_reddit_1000_2000 = load_dataset(\"DanteZD/HC3_plus_llama70B_reddit_eli5_start1000_stop2000\", split=\"train\")\n",
    "ds_reddit_2000_3000 = load_dataset(\"DanteZD/HC3_plus_llama70B_reddit_eli5_start2000_stop3000\", split=\"train\")\n",
    "ds_reddit_3000_4000 = load_dataset(\"DanteZD/HC3_plus_llama70B_reddit_eli5_start3000_stop4000\", split=\"train\")\n",
    "ds_reddit_4000_5000 = load_dataset(\"DanteZD/HC3_plus_llama70B_reddit_eli5_start4000_stop5000\", split=\"train\")\n",
    "ds_reddit_5000_6000 = load_dataset(\"DanteZD/HC3_plus_llama70B_reddit_eli5_start5000_stop6000\", split=\"train\")\n",
    "\n",
    "ds_wiki_0_200 = load_dataset(\"DanteZD/HC3_plus_llama70B_wiki_csai_start0_stop200\", split=\"train\")\n",
    "ds_openqa_0_200 = load_dataset(\"DanteZD/HC3_plus_llama70B_open_qa_start0_stop200\", split=\"train\")\n",
    "ds_finance_0_200 = load_dataset(\"DanteZD/HC3_plus_llama70B_finance_start0_stop200\", split=\"train\")\n",
    "ds_medicine_0_200 = load_dataset(\"DanteZD/HC3_plus_llama70B_medicine_start0_stop200\", split=\"train\")\n",
    "ds_wiki_200_842 = load_dataset(\"DanteZD/HC3_plus_llama70B_wiki_csai_start200_stop842\", split=\"train\")\n",
    "ds_openqa_200_842 = load_dataset(\"DanteZD/HC3_plus_llama70B_open_qa_start200_stop842\", split=\"train\")\n",
    "ds_finance_200_842 = load_dataset(\"DanteZD/HC3_plus_llama70B_finance_start200_stop842\", split=\"train\")\n",
    "ds_medicine_200_842 = load_dataset(\"DanteZD/HC3_plus_llama70B_medicine_start200_stop842\", split=\"train\")"
   ]
  },
  {
   "cell_type": "code",
   "execution_count": 4,
   "metadata": {},
   "outputs": [
    {
     "data": {
      "text/plain": [
       "Dataset({\n",
       "    features: ['id', 'question', 'human_answers', 'chatgpt_answers', 'llama_answers', 'source'],\n",
       "    num_rows: 1000\n",
       "})"
      ]
     },
     "execution_count": 4,
     "metadata": {},
     "output_type": "execute_result"
    }
   ],
   "source": [
    "ds_reddit_0_1000"
   ]
  },
  {
   "cell_type": "code",
   "execution_count": 5,
   "metadata": {},
   "outputs": [],
   "source": [
    "# Take the first 800 samples for testing of the reddit dataset\n",
    "ds_reddit_0_800 = ds_reddit_0_1000.select(range(0,800))\n",
    "# Take the remaining 200 samples for training with the rest of the reddit dataset\n",
    "ds_reddit_800_1000 = ds_reddit_0_1000.select(range(800,1000))"
   ]
  },
  {
   "cell_type": "code",
   "execution_count": 6,
   "metadata": {},
   "outputs": [],
   "source": [
    "# Create total train dataset of 2200 reddit examples\n",
    "ds_train = concatenate_datasets([ds_reddit_800_1000, \n",
    "                                 ds_reddit_1000_2000, \n",
    "                                 ds_reddit_2000_3000,\n",
    "                                 ds_reddit_3000_4000,\n",
    "                                 ds_reddit_4000_5000,\n",
    "                                 ds_reddit_5000_6000,\n",
    "                                 ])\n",
    "\n",
    "# Create test dataset of 800 reddit examples, and 200 of each other category\n",
    "ds_test = concatenate_datasets([ds_reddit_0_800, \n",
    "                                ds_wiki_0_200, \n",
    "                                ds_openqa_0_200, \n",
    "                                ds_finance_0_200, \n",
    "                                ds_medicine_0_200])\n",
    "\n",
    "# Create test dataset of all non reddit sources \n",
    "ds_non_reddit_test = concatenate_datasets([ds_wiki_0_200, \n",
    "\t\t\t\t\t\t\t\t\t\tds_openqa_0_200, \n",
    "\t\t\t\t\t\t\t\t\t\tds_finance_0_200, \n",
    "\t\t\t\t\t\t\t\t\t\tds_medicine_0_200])\n",
    "\n"
   ]
  },
  {
   "cell_type": "code",
   "execution_count": 7,
   "metadata": {},
   "outputs": [
    {
     "data": {
      "text/plain": [
       "Dataset({\n",
       "    features: ['id', 'question', 'human_answers', 'chatgpt_answers', 'llama_answers', 'source'],\n",
       "    num_rows: 5200\n",
       "})"
      ]
     },
     "execution_count": 7,
     "metadata": {},
     "output_type": "execute_result"
    }
   ],
   "source": [
    "ds_train"
   ]
  },
  {
   "cell_type": "code",
   "execution_count": 8,
   "metadata": {},
   "outputs": [
    {
     "data": {
      "text/plain": [
       "Dataset({\n",
       "    features: ['id', 'question', 'human_answers', 'chatgpt_answers', 'llama_answers', 'source'],\n",
       "    num_rows: 1600\n",
       "})"
      ]
     },
     "execution_count": 8,
     "metadata": {},
     "output_type": "execute_result"
    }
   ],
   "source": [
    "ds_test"
   ]
  },
  {
   "cell_type": "code",
   "execution_count": 9,
   "metadata": {},
   "outputs": [],
   "source": [
    "# # Make the dataset a DatasetDict with test split\n",
    "# ds_test_dict = DatasetDict({\"test\": ds_test})\n",
    "# # Make the dataset a DatasetDict with train split\n",
    "# ds_train_dict = DatasetDict({\"train\": ds_train})\n",
    "\n",
    "# ds_test_dict\n",
    "# ds_train_dict"
   ]
  },
  {
   "cell_type": "code",
   "execution_count": 10,
   "metadata": {},
   "outputs": [
    {
     "data": {
      "text/plain": [
       "DatasetDict({\n",
       "    train: Dataset({\n",
       "        features: ['id', 'question', 'human_answers', 'chatgpt_answers', 'llama_answers', 'source'],\n",
       "        num_rows: 5200\n",
       "    })\n",
       "    test: Dataset({\n",
       "        features: ['id', 'question', 'human_answers', 'chatgpt_answers', 'llama_answers', 'source'],\n",
       "        num_rows: 1600\n",
       "    })\n",
       "    reddit_train: Dataset({\n",
       "        features: ['id', 'question', 'human_answers', 'chatgpt_answers', 'llama_answers', 'source'],\n",
       "        num_rows: 5200\n",
       "    })\n",
       "    reddit_test: Dataset({\n",
       "        features: ['id', 'question', 'human_answers', 'chatgpt_answers', 'llama_answers', 'source'],\n",
       "        num_rows: 800\n",
       "    })\n",
       "    wiki_csai: Dataset({\n",
       "        features: ['id', 'question', 'human_answers', 'chatgpt_answers', 'llama_answers', 'source'],\n",
       "        num_rows: 842\n",
       "    })\n",
       "    open_qa: Dataset({\n",
       "        features: ['id', 'question', 'human_answers', 'chatgpt_answers', 'llama_answers', 'source'],\n",
       "        num_rows: 842\n",
       "    })\n",
       "    finance: Dataset({\n",
       "        features: ['id', 'question', 'human_answers', 'chatgpt_answers', 'llama_answers', 'source'],\n",
       "        num_rows: 842\n",
       "    })\n",
       "    medicine: Dataset({\n",
       "        features: ['id', 'question', 'human_answers', 'chatgpt_answers', 'llama_answers', 'source'],\n",
       "        num_rows: 842\n",
       "    })\n",
       "    non_reddit_test: Dataset({\n",
       "        features: ['id', 'question', 'human_answers', 'chatgpt_answers', 'llama_answers', 'source'],\n",
       "        num_rows: 800\n",
       "    })\n",
       "})"
      ]
     },
     "execution_count": 10,
     "metadata": {},
     "output_type": "execute_result"
    }
   ],
   "source": [
    "# Combine into a single DatsetDict object\n",
    "full_dataset = DatasetDict({\n",
    "    \"train\": ds_train,\n",
    "    \"test\": ds_test,\n",
    "    \"reddit_train\": ds_train,\n",
    "    \"reddit_test\": ds_reddit_0_800,\n",
    "    \"wiki_csai\":  concatenate_datasets([ds_wiki_0_200, ds_wiki_200_842]),\n",
    "    \"open_qa\": concatenate_datasets([ds_openqa_0_200, ds_openqa_200_842]),\n",
    "    \"finance\": concatenate_datasets([ds_finance_0_200, ds_finance_200_842]),\n",
    "    \"medicine\": concatenate_datasets([ds_medicine_0_200, ds_medicine_200_842]),\n",
    "    \"non_reddit_test\": ds_non_reddit_test,\n",
    "\t})\n",
    "\n",
    "full_dataset"
   ]
  },
  {
   "cell_type": "code",
   "execution_count": 11,
   "metadata": {},
   "outputs": [
    {
     "data": {
      "application/vnd.jupyter.widget-view+json": {
       "model_id": "bd986ec222704e5f90c9ecf6a483c46e",
       "version_major": 2,
       "version_minor": 0
      },
      "text/plain": [
       "Uploading the dataset shards:   0%|          | 0/1 [00:00<?, ?it/s]"
      ]
     },
     "metadata": {},
     "output_type": "display_data"
    },
    {
     "data": {
      "application/vnd.jupyter.widget-view+json": {
       "model_id": "0eddd952746f4d9080b1299f54f3a5ee",
       "version_major": 2,
       "version_minor": 0
      },
      "text/plain": [
       "Creating parquet from Arrow format:   0%|          | 0/6 [00:00<?, ?ba/s]"
      ]
     },
     "metadata": {},
     "output_type": "display_data"
    },
    {
     "data": {
      "application/vnd.jupyter.widget-view+json": {
       "model_id": "6edfbcbbd56144aabc68ed651534d945",
       "version_major": 2,
       "version_minor": 0
      },
      "text/plain": [
       "Uploading the dataset shards:   0%|          | 0/1 [00:00<?, ?it/s]"
      ]
     },
     "metadata": {},
     "output_type": "display_data"
    },
    {
     "data": {
      "application/vnd.jupyter.widget-view+json": {
       "model_id": "4c18e784d15143a2b0fb35090000bb6f",
       "version_major": 2,
       "version_minor": 0
      },
      "text/plain": [
       "Creating parquet from Arrow format:   0%|          | 0/2 [00:00<?, ?ba/s]"
      ]
     },
     "metadata": {},
     "output_type": "display_data"
    },
    {
     "data": {
      "application/vnd.jupyter.widget-view+json": {
       "model_id": "3bf664d424fe40ec83f9df87386ae220",
       "version_major": 2,
       "version_minor": 0
      },
      "text/plain": [
       "Uploading the dataset shards:   0%|          | 0/1 [00:00<?, ?it/s]"
      ]
     },
     "metadata": {},
     "output_type": "display_data"
    },
    {
     "data": {
      "application/vnd.jupyter.widget-view+json": {
       "model_id": "e8b6a78c70b5465588e8f6fb403c057d",
       "version_major": 2,
       "version_minor": 0
      },
      "text/plain": [
       "Creating parquet from Arrow format:   0%|          | 0/6 [00:00<?, ?ba/s]"
      ]
     },
     "metadata": {},
     "output_type": "display_data"
    },
    {
     "data": {
      "application/vnd.jupyter.widget-view+json": {
       "model_id": "2ed85c54de964f4ba72f3a443896db31",
       "version_major": 2,
       "version_minor": 0
      },
      "text/plain": [
       "Uploading the dataset shards:   0%|          | 0/1 [00:00<?, ?it/s]"
      ]
     },
     "metadata": {},
     "output_type": "display_data"
    },
    {
     "data": {
      "application/vnd.jupyter.widget-view+json": {
       "model_id": "5b957b5fd53642b8baddb29c9d3fe62a",
       "version_major": 2,
       "version_minor": 0
      },
      "text/plain": [
       "Creating parquet from Arrow format:   0%|          | 0/1 [00:00<?, ?ba/s]"
      ]
     },
     "metadata": {},
     "output_type": "display_data"
    },
    {
     "data": {
      "application/vnd.jupyter.widget-view+json": {
       "model_id": "539fa5582029438380fdcdd11903b751",
       "version_major": 2,
       "version_minor": 0
      },
      "text/plain": [
       "Uploading the dataset shards:   0%|          | 0/1 [00:00<?, ?it/s]"
      ]
     },
     "metadata": {},
     "output_type": "display_data"
    },
    {
     "data": {
      "application/vnd.jupyter.widget-view+json": {
       "model_id": "f03c6b5992134323a6e6a8e895840c6e",
       "version_major": 2,
       "version_minor": 0
      },
      "text/plain": [
       "Creating parquet from Arrow format:   0%|          | 0/1 [00:00<?, ?ba/s]"
      ]
     },
     "metadata": {},
     "output_type": "display_data"
    },
    {
     "data": {
      "application/vnd.jupyter.widget-view+json": {
       "model_id": "59ccf9a06520410b96eef139a04abec0",
       "version_major": 2,
       "version_minor": 0
      },
      "text/plain": [
       "Uploading the dataset shards:   0%|          | 0/1 [00:00<?, ?it/s]"
      ]
     },
     "metadata": {},
     "output_type": "display_data"
    },
    {
     "data": {
      "application/vnd.jupyter.widget-view+json": {
       "model_id": "2bded48a2b2f4b458293dc28d3582bd8",
       "version_major": 2,
       "version_minor": 0
      },
      "text/plain": [
       "Creating parquet from Arrow format:   0%|          | 0/1 [00:00<?, ?ba/s]"
      ]
     },
     "metadata": {},
     "output_type": "display_data"
    },
    {
     "data": {
      "application/vnd.jupyter.widget-view+json": {
       "model_id": "ba4f28fc30fd4b4ea68792c3e40426a2",
       "version_major": 2,
       "version_minor": 0
      },
      "text/plain": [
       "Uploading the dataset shards:   0%|          | 0/1 [00:00<?, ?it/s]"
      ]
     },
     "metadata": {},
     "output_type": "display_data"
    },
    {
     "data": {
      "application/vnd.jupyter.widget-view+json": {
       "model_id": "16194834ccd94ef999a18d49ec351db3",
       "version_major": 2,
       "version_minor": 0
      },
      "text/plain": [
       "Creating parquet from Arrow format:   0%|          | 0/1 [00:00<?, ?ba/s]"
      ]
     },
     "metadata": {},
     "output_type": "display_data"
    },
    {
     "data": {
      "application/vnd.jupyter.widget-view+json": {
       "model_id": "5121aaccd65f4a12b0d6cddcc82c1174",
       "version_major": 2,
       "version_minor": 0
      },
      "text/plain": [
       "Uploading the dataset shards:   0%|          | 0/1 [00:00<?, ?it/s]"
      ]
     },
     "metadata": {},
     "output_type": "display_data"
    },
    {
     "data": {
      "application/vnd.jupyter.widget-view+json": {
       "model_id": "b27528cc306a4bd3873e3c519f66f26d",
       "version_major": 2,
       "version_minor": 0
      },
      "text/plain": [
       "Creating parquet from Arrow format:   0%|          | 0/1 [00:00<?, ?ba/s]"
      ]
     },
     "metadata": {},
     "output_type": "display_data"
    },
    {
     "data": {
      "application/vnd.jupyter.widget-view+json": {
       "model_id": "b5add3b3a6bb40a0a2567b89d68e6161",
       "version_major": 2,
       "version_minor": 0
      },
      "text/plain": [
       "Uploading the dataset shards:   0%|          | 0/1 [00:00<?, ?it/s]"
      ]
     },
     "metadata": {},
     "output_type": "display_data"
    },
    {
     "data": {
      "application/vnd.jupyter.widget-view+json": {
       "model_id": "938d5608e1e74190b609f784902d6044",
       "version_major": 2,
       "version_minor": 0
      },
      "text/plain": [
       "Creating parquet from Arrow format:   0%|          | 0/1 [00:00<?, ?ba/s]"
      ]
     },
     "metadata": {},
     "output_type": "display_data"
    },
    {
     "data": {
      "text/plain": [
       "CommitInfo(commit_url='https://huggingface.co/datasets/DanteZD/HC3_plus_llama70B/commit/fcfe8b211bb00048a40cd2b9e941b346c662f17d', commit_message='Upload dataset', commit_description='', oid='fcfe8b211bb00048a40cd2b9e941b346c662f17d', pr_url=None, repo_url=RepoUrl('https://huggingface.co/datasets/DanteZD/HC3_plus_llama70B', endpoint='https://huggingface.co', repo_type='dataset', repo_id='DanteZD/HC3_plus_llama70B'), pr_revision=None, pr_num=None)"
      ]
     },
     "execution_count": 11,
     "metadata": {},
     "output_type": "execute_result"
    }
   ],
   "source": [
    "full_dataset.push_to_hub(f\"DanteZD/HC3_plus_llama70B\")"
   ]
  }
 ],
 "metadata": {
  "kernelspec": {
   "display_name": "Python 3",
   "language": "python",
   "name": "python3"
  },
  "language_info": {
   "codemirror_mode": {
    "name": "ipython",
    "version": 3
   },
   "file_extension": ".py",
   "mimetype": "text/x-python",
   "name": "python",
   "nbconvert_exporter": "python",
   "pygments_lexer": "ipython3",
   "version": "3.11.5"
  }
 },
 "nbformat": 4,
 "nbformat_minor": 2
}
